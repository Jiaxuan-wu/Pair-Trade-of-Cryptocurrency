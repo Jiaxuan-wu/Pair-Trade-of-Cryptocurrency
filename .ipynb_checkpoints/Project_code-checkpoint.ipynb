{
 "cells": [
  {
   "cell_type": "code",
   "execution_count": 1,
   "metadata": {},
   "outputs": [],
   "source": [
    "import cbpro\n",
    "import numpy as np\n",
    "import datetime\n",
    "import pandas as pd\n",
    "import time\n",
    "import math\n",
    "import seaborn as sns\n",
    "import matplotlib.pyplot as plt\n",
    "from scipy.spatial.distance import euclidean\n",
    "from fastdtw import fastdtw\n",
    "from scipy import stats\n",
    "public_client = cbpro.PublicClient()"
   ]
  },
  {
   "cell_type": "code",
   "execution_count": 2,
   "metadata": {},
   "outputs": [
    {
     "name": "stderr",
     "output_type": "stream",
     "text": [
      "Using TensorFlow backend.\n"
     ]
    }
   ],
   "source": [
    "import keras\n",
    "from keras.models import Sequential\n",
    "from keras.layers import LSTM, Dense, Dropout,LeakyReLU\n",
    "from keras.callbacks import EarlyStopping, LearningRateScheduler\n",
    "from sklearn.model_selection import train_test_split\n",
    "from sklearn.preprocessing import MinMaxScaler\n",
    "from sklearn.metrics import mean_squared_error\n",
    "import random\n",
    "pd.set_option('precision', 4)"
   ]
  },
  {
   "cell_type": "code",
   "execution_count": 3,
   "metadata": {},
   "outputs": [],
   "source": [
    "import warnings\n",
    "warnings.filterwarnings(\"ignore\")"
   ]
  },
  {
   "cell_type": "markdown",
   "metadata": {},
   "source": [
    "## Extract data from API"
   ]
  },
  {
   "cell_type": "code",
   "execution_count": 4,
   "metadata": {},
   "outputs": [],
   "source": [
    "def getData(label,start_time,end_time):\n",
    "    '''pull out data from start date to end date'''\n",
    "    #input\n",
    "    #label -- string, type of currency, such as 'ETH-USD'\n",
    "    #start_time, end_time -- ISO 8601 format date\n",
    "    \n",
    "    #output\n",
    "    #numpy ndarray\n",
    "    #pull out minute data\n",
    "    data=public_client.get_product_historic_rates(label,start=start_time, end=end_time, granularity=300)\n",
    "    return data"
   ]
  },
  {
   "cell_type": "code",
   "execution_count": 5,
   "metadata": {},
   "outputs": [],
   "source": [
    "def getMinuteData(label, start_date, end_date):\n",
    "    '''get all data of label from start_date to end_date'''\n",
    "    sample = []\n",
    "    date_list = pd.date_range(start=start_date, end=end_date)\n",
    "    for head, tail in zip(date_list[:-1], date_list[1:]):\n",
    "        tmp = getData(label,head.isoformat(),tail.isoformat())\n",
    "        while len(tmp) == 1:\n",
    "            time.sleep(0.8)\n",
    "            tmp = getData(label,head.isoformat(),tail.isoformat())\n",
    "        sample += tmp\n",
    "        time.sleep(0.5)\n",
    "    return sample"
   ]
  },
  {
   "cell_type": "code",
   "execution_count": 6,
   "metadata": {},
   "outputs": [],
   "source": [
    "def save_data(data,tag):\n",
    "    '''save the data in dictionary into separated csv file'''\n",
    "    \n",
    "    #transform to pandas dataframe format and add columne name\n",
    "    result=pd.DataFrame(data,columns=['date','low','high','open','close','volume'])\n",
    "    \n",
    "    #transform unix time to datetime for better understand\n",
    "    result['date']=pd.to_datetime(result['date'], unit='s')\n",
    "    filename=tag+'_2017.csv'\n",
    "    result.to_csv(filename)\n",
    "    #return result    "
   ]
  },
  {
   "cell_type": "code",
   "execution_count": 7,
   "metadata": {},
   "outputs": [],
   "source": [
    "# #extract from API and save into excel file\n",
    "# #Extract 2017 data\n",
    "\n",
    "# start_date, end_date = '08/15/2017', '08/15/2018'\n",
    "# ticker = ticker=['BTC-USD','ETH-USD','LTC-USD']\n",
    "# for tick in ticker:\n",
    "#     data = getMinuteData(tick, start_date, end_date)\n",
    "#     save_data(data, tick)"
   ]
  },
  {
   "cell_type": "markdown",
   "metadata": {},
   "source": [
    "## Read Data from CSV file"
   ]
  },
  {
   "cell_type": "code",
   "execution_count": 98,
   "metadata": {},
   "outputs": [],
   "source": [
    "def extract_merge(year):\n",
    "    \"\"\"extract data from csv file and merge them into 1 table\"\"\"\n",
    "    tick = ['BTC', 'ETH', 'LTC']\n",
    "    if year == '2018':\n",
    "        ticker = [\"Data/\" + i + '-USD.csv' for i in tick]\n",
    "    else:\n",
    "        ticker = [\"Data/\" + i + '-USD_2017.csv' for i in tick]\n",
    "    BTC_data = pd.read_csv(ticker[0],parse_dates=['date'])\n",
    "    BTC_data=BTC_data.drop(BTC_data.columns[0],axis=1)\n",
    "    ETH_data=pd.read_csv(ticker[1],parse_dates=['date'])\n",
    "    ETH_data=ETH_data.drop(ETH_data.columns[0],axis=1)\n",
    "    LTC_data=pd.read_csv(ticker[2],parse_dates=['date'])\n",
    "    LTC_data=LTC_data.drop(LTC_data.columns[0],axis=1)\n",
    "    \n",
    "    #merge BTC & ETH data\n",
    "    merge1=BTC_data.merge(ETH_data, how='inner', on='date', suffixes=('_BTC','_ETH'))\n",
    "    #merge above table with LTC data\n",
    "    merge2=pd.merge(merge1,LTC_data,how='inner', on='date')\n",
    "    #change the colume name\n",
    "    merge2=merge2.rename(columns={i:i+'_LTC' for i in list(LTC_data)[1:]})\n",
    "    merge2 = merge2.drop_duplicates()\n",
    "    \n",
    "    return merge2"
   ]
  },
  {
   "cell_type": "code",
   "execution_count": 9,
   "metadata": {},
   "outputs": [],
   "source": [
    "merge2 = extract_merge('2018')\n",
    "merge2_2017 = extract_merge('2017')"
   ]
  },
  {
   "cell_type": "markdown",
   "metadata": {},
   "source": [
    "## Start RNN model"
   ]
  },
  {
   "cell_type": "markdown",
   "metadata": {},
   "source": [
    "### generate log return (here use percentage return)"
   ]
  },
  {
   "cell_type": "code",
   "execution_count": 10,
   "metadata": {},
   "outputs": [],
   "source": [
    "# #change all price into log return\n",
    "# def convert_log_return(data):\n",
    "#     '''change price into percentage log return'''\n",
    "    \n",
    "#     #extract all volume data\n",
    "#     volume_data = data.filter(like = \"volume\")\n",
    "    \n",
    "#     #find column that need to calculate percentage return\n",
    "#     tag = ['BTC', 'LTC', 'ETH']\n",
    "#     tick = ['open', 'close', 'high', 'low']\n",
    "#     col_name_list = [j + \"_\" + i for i in tag for j in tick]\n",
    "    \n",
    "#     for col_name in col_name_list:\n",
    "#         new_col_name = 'return_' + col_name\n",
    "#         #calculate percentage change\n",
    "#         tmp = data[col_name].pct_change()\n",
    "        \n",
    "#         #convert percentage return into log\n",
    "#         #if return == 0, log return == 0\n",
    "#         data[new_col_name] = tmp\n",
    "    \n",
    "#     #add volume back\n",
    "#     return_matrix = pd.concat([data.filter(like='return'),volume_data], axis = 1)\n",
    "    \n",
    "#     return return_matrix"
   ]
  },
  {
   "cell_type": "code",
   "execution_count": 11,
   "metadata": {},
   "outputs": [],
   "source": [
    "def calculate_log_return(df):\n",
    "    df1 = np.asarray(df.iloc[1:].values.tolist())\n",
    "    df2 = np.asarray(df.iloc[:-1].values.tolist())\n",
    "    result = np.log(df1/df2)\n",
    "    return result"
   ]
  },
  {
   "cell_type": "code",
   "execution_count": 12,
   "metadata": {},
   "outputs": [],
   "source": [
    "def normalize(df):\n",
    "    #normalization\n",
    "    column_names = list(df)\n",
    "    min_max_scaler = MinMaxScaler()\n",
    "    return_matrix = pd.DataFrame(min_max_scaler.fit_transform(df), columns = column_names)\n",
    "    return return_matrix"
   ]
  },
  {
   "cell_type": "code",
   "execution_count": 13,
   "metadata": {},
   "outputs": [],
   "source": [
    "def convert_log_return(data, flag):\n",
    "    \"\"\"convert all price (except volumn) into log return\"\"\"\n",
    "    \"\"\"log return = log(x_t/x_{t-1})\"\"\"\n",
    "    #initialize the dataframe\n",
    "    return_matrix = pd.DataFrame()\n",
    "    \n",
    "    #find column that need to calculate percentage return\n",
    "    tag = ['BTC', 'LTC', 'ETH']\n",
    "    tick = ['open', 'close', 'high', 'low']\n",
    "    col_name_list = [j + \"_\" + i for i in tag for j in tick]\n",
    "    \n",
    "    for col_name in col_name_list:\n",
    "        df = data[col_name]\n",
    "        return_matrix[col_name] = calculate_log_return(df)\n",
    "    \n",
    "    #add volume back\n",
    "    volume_data = np.asarray(data.filter(like = \"volume\").iloc[1:].values.tolist())\n",
    "    #get volume name for eacy cryptocurrency\n",
    "    volume_list = [\"volume_\" + i for i in tag]\n",
    "    for i in range(len(volume_list)):\n",
    "        return_matrix[volume_list[i]] = volume_data[:,i]\n",
    "        \n",
    "    #if flag == true means need normalization\n",
    "    if flag == True:\n",
    "        return_matrix = normalize(return_matrix)\n",
    "    \n",
    "    #add date\n",
    "    date_data = data['date'].tolist()\n",
    "    return_matrix['date'] = pd.to_datetime(date_data[1:])\n",
    "    \n",
    "    return return_matrix"
   ]
  },
  {
   "cell_type": "code",
   "execution_count": 14,
   "metadata": {},
   "outputs": [
    {
     "data": {
      "text/html": [
       "<div>\n",
       "<style scoped>\n",
       "    .dataframe tbody tr th:only-of-type {\n",
       "        vertical-align: middle;\n",
       "    }\n",
       "\n",
       "    .dataframe tbody tr th {\n",
       "        vertical-align: top;\n",
       "    }\n",
       "\n",
       "    .dataframe thead th {\n",
       "        text-align: right;\n",
       "    }\n",
       "</style>\n",
       "<table border=\"1\" class=\"dataframe\">\n",
       "  <thead>\n",
       "    <tr style=\"text-align: right;\">\n",
       "      <th></th>\n",
       "      <th>open_BTC</th>\n",
       "      <th>close_BTC</th>\n",
       "      <th>high_BTC</th>\n",
       "      <th>low_BTC</th>\n",
       "      <th>open_LTC</th>\n",
       "      <th>close_LTC</th>\n",
       "      <th>high_LTC</th>\n",
       "      <th>low_LTC</th>\n",
       "      <th>open_ETH</th>\n",
       "      <th>close_ETH</th>\n",
       "      <th>high_ETH</th>\n",
       "      <th>low_ETH</th>\n",
       "      <th>volume_BTC</th>\n",
       "      <th>volume_LTC</th>\n",
       "      <th>volume_ETH</th>\n",
       "      <th>date</th>\n",
       "    </tr>\n",
       "  </thead>\n",
       "  <tbody>\n",
       "    <tr>\n",
       "      <th>0</th>\n",
       "      <td>0.5704</td>\n",
       "      <td>0.5728</td>\n",
       "      <td>0.5675</td>\n",
       "      <td>0.5840</td>\n",
       "      <td>0.4238</td>\n",
       "      <td>0.4469</td>\n",
       "      <td>0.4161</td>\n",
       "      <td>0.4477</td>\n",
       "      <td>0.5738</td>\n",
       "      <td>0.5741</td>\n",
       "      <td>0.5705</td>\n",
       "      <td>0.5717</td>\n",
       "      <td>0.0054</td>\n",
       "      <td>0.0117</td>\n",
       "      <td>0.0076</td>\n",
       "      <td>2018-08-15 23:55:00</td>\n",
       "    </tr>\n",
       "    <tr>\n",
       "      <th>1</th>\n",
       "      <td>0.5626</td>\n",
       "      <td>0.5726</td>\n",
       "      <td>0.5606</td>\n",
       "      <td>0.5747</td>\n",
       "      <td>0.4201</td>\n",
       "      <td>0.4482</td>\n",
       "      <td>0.4174</td>\n",
       "      <td>0.4461</td>\n",
       "      <td>0.5607</td>\n",
       "      <td>0.5766</td>\n",
       "      <td>0.5650</td>\n",
       "      <td>0.5689</td>\n",
       "      <td>0.0107</td>\n",
       "      <td>0.0225</td>\n",
       "      <td>0.0217</td>\n",
       "      <td>2018-08-15 23:50:00</td>\n",
       "    </tr>\n",
       "    <tr>\n",
       "      <th>2</th>\n",
       "      <td>0.5698</td>\n",
       "      <td>0.5648</td>\n",
       "      <td>0.5605</td>\n",
       "      <td>0.5696</td>\n",
       "      <td>0.4250</td>\n",
       "      <td>0.4437</td>\n",
       "      <td>0.4152</td>\n",
       "      <td>0.4416</td>\n",
       "      <td>0.5740</td>\n",
       "      <td>0.5634</td>\n",
       "      <td>0.5602</td>\n",
       "      <td>0.5614</td>\n",
       "      <td>0.0210</td>\n",
       "      <td>0.0212</td>\n",
       "      <td>0.0210</td>\n",
       "      <td>2018-08-15 23:45:00</td>\n",
       "    </tr>\n",
       "    <tr>\n",
       "      <th>3</th>\n",
       "      <td>0.5691</td>\n",
       "      <td>0.5720</td>\n",
       "      <td>0.5653</td>\n",
       "      <td>0.5847</td>\n",
       "      <td>0.4216</td>\n",
       "      <td>0.4513</td>\n",
       "      <td>0.4189</td>\n",
       "      <td>0.4515</td>\n",
       "      <td>0.5701</td>\n",
       "      <td>0.5761</td>\n",
       "      <td>0.5778</td>\n",
       "      <td>0.5853</td>\n",
       "      <td>0.0106</td>\n",
       "      <td>0.0396</td>\n",
       "      <td>0.0392</td>\n",
       "      <td>2018-08-15 23:40:00</td>\n",
       "    </tr>\n",
       "    <tr>\n",
       "      <th>4</th>\n",
       "      <td>0.5656</td>\n",
       "      <td>0.5713</td>\n",
       "      <td>0.5653</td>\n",
       "      <td>0.5783</td>\n",
       "      <td>0.4189</td>\n",
       "      <td>0.4459</td>\n",
       "      <td>0.4134</td>\n",
       "      <td>0.4419</td>\n",
       "      <td>0.5606</td>\n",
       "      <td>0.5743</td>\n",
       "      <td>0.5785</td>\n",
       "      <td>0.5614</td>\n",
       "      <td>0.0225</td>\n",
       "      <td>0.0934</td>\n",
       "      <td>0.0348</td>\n",
       "      <td>2018-08-15 23:35:00</td>\n",
       "    </tr>\n",
       "  </tbody>\n",
       "</table>\n",
       "</div>"
      ],
      "text/plain": [
       "   open_BTC  close_BTC  high_BTC  low_BTC  open_LTC  close_LTC  high_LTC  \\\n",
       "0    0.5704     0.5728    0.5675   0.5840    0.4238     0.4469    0.4161   \n",
       "1    0.5626     0.5726    0.5606   0.5747    0.4201     0.4482    0.4174   \n",
       "2    0.5698     0.5648    0.5605   0.5696    0.4250     0.4437    0.4152   \n",
       "3    0.5691     0.5720    0.5653   0.5847    0.4216     0.4513    0.4189   \n",
       "4    0.5656     0.5713    0.5653   0.5783    0.4189     0.4459    0.4134   \n",
       "\n",
       "   low_LTC  open_ETH  close_ETH  high_ETH  low_ETH  volume_BTC  volume_LTC  \\\n",
       "0   0.4477    0.5738     0.5741    0.5705   0.5717      0.0054      0.0117   \n",
       "1   0.4461    0.5607     0.5766    0.5650   0.5689      0.0107      0.0225   \n",
       "2   0.4416    0.5740     0.5634    0.5602   0.5614      0.0210      0.0212   \n",
       "3   0.4515    0.5701     0.5761    0.5778   0.5853      0.0106      0.0396   \n",
       "4   0.4419    0.5606     0.5743    0.5785   0.5614      0.0225      0.0934   \n",
       "\n",
       "   volume_ETH                date  \n",
       "0      0.0076 2018-08-15 23:55:00  \n",
       "1      0.0217 2018-08-15 23:50:00  \n",
       "2      0.0210 2018-08-15 23:45:00  \n",
       "3      0.0392 2018-08-15 23:40:00  \n",
       "4      0.0348 2018-08-15 23:35:00  "
      ]
     },
     "execution_count": 14,
     "metadata": {},
     "output_type": "execute_result"
    }
   ],
   "source": [
    "convert_log_return(merge2, True).head()"
   ]
  },
  {
   "cell_type": "code",
   "execution_count": 15,
   "metadata": {},
   "outputs": [],
   "source": [
    "def create_dataset(data, time_step, tick1, tick2, target):\n",
    "    '''convert time series data into X, y'''\n",
    "    \"\"\"given tag name(tick1, tick2) of two crpytocurrency\"\"\"\n",
    "    \"\"\"X = [low1, high1, open1, close1, volume1, low2, high2, open2, close2, volume2] for time (i, i + timestep)\"\"\"\n",
    "    \n",
    "    #use #timestep data from tick1, tick2 to predict next time stamp tick1' open price\n",
    "    \n",
    "    #create colume label\n",
    "    input_label1 = [i + '_' + tick1 for i in ['low', 'high', 'open','close', 'volume']]\n",
    "    input_label2 = [i + '_' + tick2 for i in ['low', 'high', 'open','close', 'volume']]\n",
    "    target_label = 'close_' + target\n",
    "    \n",
    "    tmp_data1 = data[input_label1]\n",
    "    tmp_data2 = data[input_label2]\n",
    "    tmp_target = data[target_label]\n",
    "    \n",
    "    transformed_X = []\n",
    "    transformed_y = []\n",
    "    for i in range(time_step, data.shape[0]):\n",
    "        tmp1 = tmp_data1[(i - time_step): i].values.tolist()\n",
    "        tmp2 = tmp_data2[(i - time_step): i].values.tolist()\n",
    "        tmp = []\n",
    "        for j in range(len(tmp1)):\n",
    "            tmp.append(tmp1[j] + tmp2[j])\n",
    "            \n",
    "        #tmp = [low1, high1, open1, close1, volume1, low2, high2, open2, close2, volume2]\n",
    "        transformed_X.append(tmp)\n",
    "        transformed_y.append(tmp_target.iloc[i])\n",
    "    \n",
    "    return np.asarray(transformed_X), np.asarray(transformed_y)"
   ]
  },
  {
   "cell_type": "markdown",
   "metadata": {},
   "source": [
    "### train, test, validation split by week"
   ]
  },
  {
   "cell_type": "code",
   "execution_count": 16,
   "metadata": {},
   "outputs": [],
   "source": [
    "def generate_week_list(start_date, end_date):\n",
    "    '''generate the start and end day of each week'''\n",
    "    '''week_list = {1: [start, end]}'''\n",
    "    \"\"\"In order to split train, test, validation in future step\"\"\"\n",
    "    week_list = {}\n",
    "    curr_week = start_date\n",
    "    i = 1\n",
    "    while curr_week < end_date:\n",
    "        end_week = curr_week + datetime.timedelta(days = 7)\n",
    "        week_list[i] = [curr_week, end_week]\n",
    "        curr_week, i = end_week, i + 1\n",
    "    \n",
    "    return week_list"
   ]
  },
  {
   "cell_type": "code",
   "execution_count": 17,
   "metadata": {},
   "outputs": [],
   "source": [
    "def extract_sample(index, week_list, date, X, y):\n",
    "    '''given index of week we want to sample, extract corresponding sample'''\n",
    "    \n",
    "    sample_X, sample_y = [], []\n",
    "    for i in index:\n",
    "        start, end = week_list[i]\n",
    "        tmp_index = [(date < end) & (date >= start)]\n",
    "        try:\n",
    "            sample_X = np.concatenate((sample_X, X[tmp_index]), axis = 0)\n",
    "            sample_y = np.concatenate((sample_y, y[tmp_index]), axis = 0)\n",
    "        except:\n",
    "            sample_X = X[tmp_index]\n",
    "            sample_y = y[tmp_index]\n",
    "    \n",
    "    return sample_X, sample_y"
   ]
  },
  {
   "cell_type": "code",
   "execution_count": 18,
   "metadata": {},
   "outputs": [],
   "source": [
    "def train_test_val(X, y, date):\n",
    "    '''split train, test, validation'''\n",
    "    #-----------------------------------------#\n",
    "    #--e.g. 52 weeks in total, 0.8, 0.1, 0.1--#\n",
    "    #-----------------------------------------#\n",
    "    \n",
    "    start, end = date.iloc[0], date.iloc[-1]\n",
    "    week_list = generate_week_list(start, end)\n",
    "    index = list(week_list.keys())\n",
    "    train_index, test_index = train_test_split(index, test_size = 0.2)\n",
    "    test_index, val_index = train_test_split(test_index, test_size = 0.5)\n",
    "    train_X, train_y = extract_sample(train_index, week_list, date, X, y)\n",
    "    test_X, test_y = extract_sample(test_index, week_list, date, X, y)\n",
    "    val_X, val_y = extract_sample(val_index, week_list, date, X, y)\n",
    "    \n",
    "    return train_X, train_y, test_X, test_y, val_X, val_y"
   ]
  },
  {
   "cell_type": "markdown",
   "metadata": {},
   "source": [
    "### RNN main program"
   ]
  },
  {
   "cell_type": "code",
   "execution_count": 49,
   "metadata": {},
   "outputs": [],
   "source": [
    "def step_decay(epoch):\n",
    "    \"\"\"learning rate scheduler\"\"\"\n",
    "    \"\"\"start from initial_rate, after epochs_drop step, drop\"\"\"\n",
    "    initial_rate = 0.05\n",
    "    drop = 0.1\n",
    "    epochs_drop = 2.0\n",
    "    \n",
    "    lrate = initial_rate * math.pow(drop, math.floor((1 + epoch)/epochs_drop))\n",
    "    \n",
    "    return lrate\n",
    "                                    "
   ]
  },
  {
   "cell_type": "code",
   "execution_count": 86,
   "metadata": {},
   "outputs": [],
   "source": [
    "def train_RNN(train_X, train_y, test_X, test_y, val_X, val_y, drop_rate, hidden_unit):\n",
    "    '''RNN'''\n",
    "    \n",
    "    #------------LSTM-------------------------\n",
    "\n",
    "    n_step, n_feature = train_X.shape[1:]\n",
    "    model = Sequential()\n",
    "\n",
    "    # Embedding layer\n",
    "    model.add(LSTM(hidden_unit, input_shape=(n_step, n_feature), activation='relu', return_sequences=False))\n",
    "#     model.add(LSTM(hidden_unit, input_shape=(n_step, n_feature), return_sequences=False))\n",
    "#     model.add(LeakyReLU(alpha=0.3))\n",
    "\n",
    "    model.add(Dropout(drop_rate))\n",
    "    model.add(Dense(8, activation='relu'))\n",
    "#     model.add(Dense(16))\n",
    "#     model.add(LeakyReLU(alpha=0.3))\n",
    "    model.add(Dense(1))\n",
    "    \n",
    "    # Compile the model\n",
    "    model.compile(optimizer='adam', loss='mean_squared_error', metrics=['mae'])\n",
    "    lrate = LearningRateScheduler(step_decay)\n",
    "    es = EarlyStopping(monitor='val_loss', mode='min', verbose=1, patience = 5)\n",
    "    history = model.fit(train_X, train_y, epochs=50, batch_size = 100, verbose=1, validation_data=(val_X, val_y), callbacks = [es])\n",
    "\n",
    "    testPredict = model.predict(test_X)\n",
    "    #score = model.evaluate(y_test, testPredict)\n",
    "    \n",
    "    return history, testPredict\n",
    "\n"
   ]
  },
  {
   "cell_type": "code",
   "execution_count": 21,
   "metadata": {},
   "outputs": [],
   "source": [
    "def optimize(train_X, train_y, test_X, test_y, val_X, val_y):\n",
    "    drop_rate = 0.4\n",
    "    hidden_list = [16, 32, 64]\n",
    "    best_score, best_unit = float(\"inf\"), 100\n",
    "    score_list = []\n",
    "    for hidden_unit in hidden_list:\n",
    "        #start RNN training\n",
    "        history, testPredict = train_RNN(train_X, train_y, test_X, test_y, val_X, val_y, drop_rate, hidden_unit)\n",
    "        score = history.history['val_loss'][0]\n",
    "        score_list.append(score)\n",
    "        if score < best_score:\n",
    "            best_score = score\n",
    "            best_unit = hidden_unit\n",
    "            best_history = history\n",
    "            best_pred = testPredict\n",
    "        return score_list, best_score, best_unit, best_history, best_pred"
   ]
  },
  {
   "cell_type": "code",
   "execution_count": 84,
   "metadata": {},
   "outputs": [],
   "source": [
    "def mainProgram(flag, tick1, tick2, target, drop_rate, hidden_unit):\n",
    "    #read data\n",
    "    merge2 = extract_merge('2018')\n",
    "    merge2_2017 = extract_merge('2017')\n",
    "    \n",
    "    #convert log return\n",
    "    return_matrix = convert_log_return(merge2, flag)\n",
    "    \n",
    "    #split X and y\n",
    "    data = return_matrix\n",
    "    time_step = 60 # about 5 hours\n",
    "    #X is N x time_step x 10 matrix\n",
    "    X, y = create_dataset(data, time_step, tick1, tick2, target)\n",
    "    \n",
    "    #train, test, validation split\n",
    "    date = return_matrix['date'][time_step:]\n",
    "    train_X, train_y, test_X, test_y, val_X, val_y = train_test_val(X, y, date)\n",
    "    \n",
    "    #start RNN training\n",
    "    history, testPredict = train_RNN(train_X, train_y, test_X, test_y, val_X, val_y, drop_rate, hidden_unit)\n",
    "    \n",
    "    return history, testPredict, test_y"
   ]
  },
  {
   "cell_type": "code",
   "execution_count": 95,
   "metadata": {},
   "outputs": [
    {
     "name": "stdout",
     "output_type": "stream",
     "text": [
      "Train on 82538 samples, validate on 12092 samples\n",
      "Epoch 1/50\n",
      "82538/82538 [==============================] - 49s 593us/step - loss: 460045337.8120 - mean_absolute_error: 928.9651 - val_loss: 9953.9335 - val_mean_absolute_error: 36.4341\n",
      "Epoch 2/50\n",
      "82538/82538 [==============================] - 40s 486us/step - loss: 9586.6093 - mean_absolute_error: 29.7726 - val_loss: 26728.3120 - val_mean_absolute_error: 29.2634\n",
      "Epoch 3/50\n",
      "82538/82538 [==============================] - 41s 497us/step - loss: 8659.3117 - mean_absolute_error: 26.5565 - val_loss: 4799.1085 - val_mean_absolute_error: 22.8351\n",
      "Epoch 4/50\n",
      "82538/82538 [==============================] - 39s 471us/step - loss: 8340.5065 - mean_absolute_error: 24.2973 - val_loss: 6579.2662 - val_mean_absolute_error: 19.5225\n",
      "Epoch 5/50\n",
      "82538/82538 [==============================] - 41s 494us/step - loss: 4969.6586 - mean_absolute_error: 18.3734 - val_loss: 1806.4474 - val_mean_absolute_error: 12.9039\n",
      "Epoch 6/50\n",
      "82538/82538 [==============================] - 43s 515us/step - loss: 4203.9802 - mean_absolute_error: 18.4090 - val_loss: 1579.7625 - val_mean_absolute_error: 12.7754\n",
      "Epoch 7/50\n",
      "82538/82538 [==============================] - 47s 564us/step - loss: 76770.6967 - mean_absolute_error: 25.5041 - val_loss: 18391.6142 - val_mean_absolute_error: 24.8794\n",
      "Epoch 8/50\n",
      "82538/82538 [==============================] - 43s 519us/step - loss: 43096.6895 - mean_absolute_error: 18.4478 - val_loss: 84632.5084 - val_mean_absolute_error: 31.3576\n",
      "Epoch 9/50\n",
      "82538/82538 [==============================] - 44s 527us/step - loss: 2737.1708 - mean_absolute_error: 6.6901 - val_loss: 9278.8749 - val_mean_absolute_error: 7.3478\n",
      "Epoch 10/50\n",
      "82538/82538 [==============================] - 46s 555us/step - loss: 633.7044 - mean_absolute_error: 5.3124 - val_loss: 1206.1010 - val_mean_absolute_error: 6.6996\n",
      "Epoch 11/50\n",
      "82538/82538 [==============================] - 44s 535us/step - loss: 395.3335 - mean_absolute_error: 4.8703 - val_loss: 34042.6407 - val_mean_absolute_error: 22.7271\n",
      "Epoch 12/50\n",
      "82538/82538 [==============================] - 43s 515us/step - loss: 16915.8617 - mean_absolute_error: 6.7893 - val_loss: 972.1446 - val_mean_absolute_error: 8.1829\n",
      "Epoch 13/50\n",
      "82538/82538 [==============================] - 49s 588us/step - loss: 432.0905 - mean_absolute_error: 5.6320 - val_loss: 274.9407 - val_mean_absolute_error: 6.3915\n",
      "Epoch 14/50\n",
      "82538/82538 [==============================] - 44s 531us/step - loss: 330.5422 - mean_absolute_error: 5.2366 - val_loss: 238.1901 - val_mean_absolute_error: 4.4652\n",
      "Epoch 15/50\n",
      "82538/82538 [==============================] - 40s 483us/step - loss: 186.5870 - mean_absolute_error: 3.9695 - val_loss: 184.5021 - val_mean_absolute_error: 3.8961\n",
      "Epoch 16/50\n",
      "82538/82538 [==============================] - 41s 502us/step - loss: 144.7428 - mean_absolute_error: 3.5883 - val_loss: 163.0996 - val_mean_absolute_error: 3.4874\n",
      "Epoch 17/50\n",
      "82538/82538 [==============================] - 39s 469us/step - loss: 177.2761 - mean_absolute_error: 3.6447 - val_loss: 148.7257 - val_mean_absolute_error: 3.1195\n",
      "Epoch 18/50\n",
      "82538/82538 [==============================] - 40s 480us/step - loss: 128.1325 - mean_absolute_error: 3.2812 - val_loss: 138.8337 - val_mean_absolute_error: 4.0013\n",
      "Epoch 19/50\n",
      "82538/82538 [==============================] - 39s 467us/step - loss: 160.1532 - mean_absolute_error: 3.4850 - val_loss: 189.6890 - val_mean_absolute_error: 4.1054\n",
      "Epoch 20/50\n",
      "82538/82538 [==============================] - 39s 469us/step - loss: 154.3118 - mean_absolute_error: 3.3489 - val_loss: 121.1365 - val_mean_absolute_error: 3.5439\n",
      "Epoch 21/50\n",
      "82538/82538 [==============================] - 40s 482us/step - loss: 115.3023 - mean_absolute_error: 3.1490 - val_loss: 103.2228 - val_mean_absolute_error: 3.1748\n",
      "Epoch 22/50\n",
      "82538/82538 [==============================] - 38s 458us/step - loss: 105.0137 - mean_absolute_error: 2.8416 - val_loss: 117.7278 - val_mean_absolute_error: 3.0199\n",
      "Epoch 23/50\n",
      "82538/82538 [==============================] - 38s 460us/step - loss: 94.6417 - mean_absolute_error: 2.5977 - val_loss: 102.7656 - val_mean_absolute_error: 2.1948\n",
      "Epoch 24/50\n",
      "82538/82538 [==============================] - 40s 489us/step - loss: 75.1715 - mean_absolute_error: 2.4270 - val_loss: 76.9846 - val_mean_absolute_error: 2.9491\n",
      "Epoch 25/50\n",
      "82538/82538 [==============================] - 38s 455us/step - loss: 66.4287 - mean_absolute_error: 2.1561 - val_loss: 60.2791 - val_mean_absolute_error: 2.0325\n",
      "Epoch 26/50\n",
      "82538/82538 [==============================] - 38s 456us/step - loss: 101.4004 - mean_absolute_error: 2.7004 - val_loss: 59.9122 - val_mean_absolute_error: 1.9786\n",
      "Epoch 27/50\n",
      "82538/82538 [==============================] - 39s 467us/step - loss: 119.5120 - mean_absolute_error: 2.7846 - val_loss: 69.6798 - val_mean_absolute_error: 2.8686\n",
      "Epoch 28/50\n",
      "82538/82538 [==============================] - 37s 453us/step - loss: 34.4088 - mean_absolute_error: 1.6508 - val_loss: 28.0530 - val_mean_absolute_error: 1.5248\n",
      "Epoch 29/50\n",
      "82538/82538 [==============================] - 38s 462us/step - loss: 61.7562 - mean_absolute_error: 1.8754 - val_loss: 10.8978 - val_mean_absolute_error: 0.7751\n",
      "Epoch 30/50\n",
      "82538/82538 [==============================] - 37s 448us/step - loss: 14.5968 - mean_absolute_error: 1.0432 - val_loss: 6.4887 - val_mean_absolute_error: 0.5508\n",
      "Epoch 31/50\n",
      "82538/82538 [==============================] - 36s 439us/step - loss: 24.3836 - mean_absolute_error: 1.3606 - val_loss: 5.6733 - val_mean_absolute_error: 0.5149\n",
      "Epoch 32/50\n",
      "82538/82538 [==============================] - 37s 447us/step - loss: 6.6164 - mean_absolute_error: 0.6481 - val_loss: 10.7193 - val_mean_absolute_error: 1.0483\n",
      "Epoch 33/50\n",
      "82538/82538 [==============================] - 36s 442us/step - loss: 126.8525 - mean_absolute_error: 1.6136 - val_loss: 2.4519 - val_mean_absolute_error: 0.4050\n",
      "Epoch 34/50\n",
      "82538/82538 [==============================] - 36s 440us/step - loss: 15.6344 - mean_absolute_error: 0.8326 - val_loss: 11.2980 - val_mean_absolute_error: 0.7311\n",
      "Epoch 35/50\n",
      "82538/82538 [==============================] - 36s 438us/step - loss: 7.2164 - mean_absolute_error: 0.6179 - val_loss: 2.6781 - val_mean_absolute_error: 0.4889\n",
      "Epoch 36/50\n",
      "82538/82538 [==============================] - 36s 440us/step - loss: 2.3836 - mean_absolute_error: 0.3878 - val_loss: 0.6838 - val_mean_absolute_error: 0.1937\n",
      "Epoch 37/50\n",
      "82538/82538 [==============================] - 36s 440us/step - loss: 29.8872 - mean_absolute_error: 0.8047 - val_loss: 2.8903 - val_mean_absolute_error: 0.4300\n",
      "Epoch 38/50\n",
      "82538/82538 [==============================] - 36s 436us/step - loss: 8.0744 - mean_absolute_error: 0.5497 - val_loss: 1.7016 - val_mean_absolute_error: 0.3616\n",
      "Epoch 39/50\n",
      "82538/82538 [==============================] - 36s 438us/step - loss: 15.8356 - mean_absolute_error: 0.9404 - val_loss: 8.6707 - val_mean_absolute_error: 0.7797\n",
      "Epoch 40/50\n",
      "82538/82538 [==============================] - 38s 457us/step - loss: 43.1903 - mean_absolute_error: 1.0913 - val_loss: 4.3310 - val_mean_absolute_error: 0.7687\n",
      "Epoch 41/50\n",
      "82538/82538 [==============================] - 37s 447us/step - loss: 22.8936 - mean_absolute_error: 0.8443 - val_loss: 1.2977 - val_mean_absolute_error: 0.2948\n",
      "Epoch 00041: early stopping\n"
     ]
    }
   ],
   "source": [
    "#use log return data (not normalize)\n",
    "flag = False\n",
    "tick1, tick2 = \"BTC\", \"ETH\"\n",
    "target = \"BTC\"\n",
    "drop_rate = 0.4\n",
    "hidden_unit = 16\n",
    "hist1, pred1, test1 = mainProgram(flag, tick1, tick2, target, drop_rate, hidden_unit)"
   ]
  },
  {
   "cell_type": "code",
   "execution_count": 70,
   "metadata": {},
   "outputs": [
    {
     "name": "stdout",
     "output_type": "stream",
     "text": [
      "Train on 82472 samples, validate on 12083 samples\n",
      "Epoch 1/50\n",
      "82472/82472 [==============================] - 36s 431us/step - loss: 0.0049 - mean_absolute_error: 0.0325 - val_loss: 6.0270e-05 - val_mean_absolute_error: 0.0056\n",
      "Epoch 2/50\n",
      "82472/82472 [==============================] - 33s 394us/step - loss: 1.0281e-04 - mean_absolute_error: 0.0046 - val_loss: 3.5920e-05 - val_mean_absolute_error: 0.0027\n",
      "Epoch 3/50\n",
      "82472/82472 [==============================] - 33s 403us/step - loss: 9.2677e-05 - mean_absolute_error: 0.0038 - val_loss: 3.6848e-05 - val_mean_absolute_error: 0.0028\n",
      "Epoch 4/50\n",
      "82472/82472 [==============================] - 33s 396us/step - loss: 9.1727e-05 - mean_absolute_error: 0.0036 - val_loss: 3.4531e-05 - val_mean_absolute_error: 0.0024\n",
      "Epoch 5/50\n",
      "82472/82472 [==============================] - 32s 390us/step - loss: 9.2160e-05 - mean_absolute_error: 0.0037 - val_loss: 3.3478e-05 - val_mean_absolute_error: 0.0021\n",
      "Epoch 6/50\n",
      "82472/82472 [==============================] - 33s 397us/step - loss: 9.1793e-05 - mean_absolute_error: 0.0037 - val_loss: 3.2623e-05 - val_mean_absolute_error: 0.0019\n",
      "Epoch 7/50\n",
      "82472/82472 [==============================] - 33s 398us/step - loss: 9.2596e-05 - mean_absolute_error: 0.0038 - val_loss: 3.8962e-05 - val_mean_absolute_error: 0.0032\n",
      "Epoch 8/50\n",
      "82472/82472 [==============================] - 32s 393us/step - loss: 9.2700e-05 - mean_absolute_error: 0.0037 - val_loss: 3.2510e-05 - val_mean_absolute_error: 0.0018\n",
      "Epoch 9/50\n",
      "82472/82472 [==============================] - 33s 398us/step - loss: 9.1265e-05 - mean_absolute_error: 0.0036 - val_loss: 3.2725e-05 - val_mean_absolute_error: 0.0019\n",
      "Epoch 10/50\n",
      "82472/82472 [==============================] - 32s 392us/step - loss: 9.1601e-05 - mean_absolute_error: 0.0036 - val_loss: 3.3002e-05 - val_mean_absolute_error: 0.0020\n",
      "Epoch 11/50\n",
      "82472/82472 [==============================] - 32s 392us/step - loss: 9.1050e-05 - mean_absolute_error: 0.0035 - val_loss: 3.4799e-05 - val_mean_absolute_error: 0.0025\n",
      "Epoch 12/50\n",
      "82472/82472 [==============================] - 32s 390us/step - loss: 9.1623e-05 - mean_absolute_error: 0.0036 - val_loss: 3.2837e-05 - val_mean_absolute_error: 0.0019\n",
      "Epoch 13/50\n",
      "82472/82472 [==============================] - 33s 399us/step - loss: 9.1157e-05 - mean_absolute_error: 0.0036 - val_loss: 3.3220e-05 - val_mean_absolute_error: 0.0021\n",
      "Epoch 00013: early stopping\n"
     ]
    }
   ],
   "source": [
    "#use log return data (normalize)\n",
    "flag = True\n",
    "tick1, tick2 = \"BTC\", \"ETH\"\n",
    "target = \"BTC\"\n",
    "drop_rate = 0.4\n",
    "hidden_unit = 16\n",
    "hist2, pred2, test2 = mainProgram(flag, tick1, tick2, target, drop_rate, hidden_unit)"
   ]
  },
  {
   "cell_type": "code",
   "execution_count": 97,
   "metadata": {},
   "outputs": [
    {
     "data": {
      "image/png": "[encoded data removed]",
      "text/plain": [
       "<Figure size 432x288 with 1 Axes>"
      ]
     },
     "metadata": {
      "needs_background": "light"
     },
     "output_type": "display_data"
    }
   ],
   "source": [
    "plt.plot(pred1, label = \"predictin\")\n",
    "plt.plot(test1, label = \"test data\")\n",
    "plt.legend()\n",
    "plt.title(\"result without normalization\")\n",
    "plt.show()"
   ]
  },
  {
   "cell_type": "code",
   "execution_count": 81,
   "metadata": {},
   "outputs": [
    {
     "data": {
      "text/plain": [
       "[<matplotlib.lines.Line2D at 0x1ac4910b00>]"
      ]
     },
     "execution_count": 81,
     "metadata": {},
     "output_type": "execute_result"
    },
    {
     "data": {
      "image/png": "[encoded data removed]",
      "text/plain": [
       "<Figure size 432x288 with 1 Axes>"
      ]
     },
     "metadata": {
      "needs_background": "light"
     },
     "output_type": "display_data"
    }
   ],
   "source": [
    "plt.plot(test1)"
   ]
  },
  {
   "cell_type": "code",
   "execution_count": 74,
   "metadata": {},
   "outputs": [
    {
     "data": {
      "image/png": "[encoded data removed]",
      "text/plain": [
       "<Figure size 432x288 with 1 Axes>"
      ]
     },
     "metadata": {
      "needs_background": "light"
     },
     "output_type": "display_data"
    }
   ],
   "source": [
    "plt.plot(pred2, label = \"predictin\")\n",
    "plt.plot(test2, label = \"test data\")\n",
    "plt.legend()\n",
    "plt.title(\"result with normalization \")\n",
    "plt.show()"
   ]
  },
  {
   "cell_type": "code",
   "execution_count": 57,
   "metadata": {},
   "outputs": [],
   "source": [
    "#merge2 is the extract & merge data\n",
    "#return matrix stores all log return data\n",
    "\n",
    "return_matrix = convert_log_return(merge2, True)\n"
   ]
  },
  {
   "cell_type": "code",
   "execution_count": 58,
   "metadata": {},
   "outputs": [],
   "source": [
    "data = return_matrix\n",
    "time_step = 60 # about 5 hours\n",
    "tick1, tick2 = 'BTC', 'LTC'\n",
    "target = 'BTC'\n",
    "#X is N x time_step x 10 matrix\n",
    "X, y = create_dataset(data, time_step, tick1, tick2, target)"
   ]
  },
  {
   "cell_type": "code",
   "execution_count": 59,
   "metadata": {},
   "outputs": [],
   "source": [
    "date = return_matrix['date'][time_step:]\n",
    "train_X, train_y, test_X, test_y, val_X, val_y = train_test_val(X, y, date)"
   ]
  },
  {
   "cell_type": "code",
   "execution_count": 27,
   "metadata": {},
   "outputs": [
    {
     "data": {
      "text/plain": [
       "(82583, 60, 10)"
      ]
     },
     "execution_count": 27,
     "metadata": {},
     "output_type": "execute_result"
    }
   ],
   "source": [
    "train_X.shape"
   ]
  },
  {
   "cell_type": "code",
   "execution_count": 28,
   "metadata": {},
   "outputs": [
    {
     "data": {
      "text/plain": [
       "(10005, 60, 10)"
      ]
     },
     "execution_count": 28,
     "metadata": {},
     "output_type": "execute_result"
    }
   ],
   "source": [
    "test_X.shape"
   ]
  },
  {
   "cell_type": "code",
   "execution_count": 60,
   "metadata": {},
   "outputs": [
    {
     "name": "stdout",
     "output_type": "stream",
     "text": [
      "Train on 82491 samples, validate on 12062 samples\n",
      "Epoch 1/50\n",
      "82491/82491 [==============================] - 34s 415us/step - loss: 0.0014 - mean_absolute_error: 0.0077 - val_loss: 4.8461e-05 - val_mean_absolute_error: 0.0034\n",
      "Epoch 2/50\n",
      "82491/82491 [==============================] - 33s 401us/step - loss: 8.9440e-05 - mean_absolute_error: 0.0033 - val_loss: 4.2841e-05 - val_mean_absolute_error: 0.0023\n",
      "Epoch 3/50\n",
      "82491/82491 [==============================] - 32s 393us/step - loss: 8.9697e-05 - mean_absolute_error: 0.0034 - val_loss: 4.2834e-05 - val_mean_absolute_error: 0.0024\n",
      "Epoch 4/50\n",
      "82491/82491 [==============================] - 32s 392us/step - loss: 8.9109e-05 - mean_absolute_error: 0.0032 - val_loss: 4.3178e-05 - val_mean_absolute_error: 0.0025\n",
      "Epoch 5/50\n",
      "82491/82491 [==============================] - 32s 389us/step - loss: 8.9181e-05 - mean_absolute_error: 0.0033 - val_loss: 4.2842e-05 - val_mean_absolute_error: 0.0023\n",
      "Epoch 6/50\n",
      "82491/82491 [==============================] - 32s 389us/step - loss: 8.9021e-05 - mean_absolute_error: 0.0032 - val_loss: 4.2862e-05 - val_mean_absolute_error: 0.0024\n",
      "Epoch 7/50\n",
      "82491/82491 [==============================] - 32s 394us/step - loss: 8.9051e-05 - mean_absolute_error: 0.0032 - val_loss: 4.2833e-05 - val_mean_absolute_error: 0.0023\n",
      "Epoch 8/50\n",
      "82491/82491 [==============================] - 32s 393us/step - loss: 8.9031e-05 - mean_absolute_error: 0.0032 - val_loss: 4.2841e-05 - val_mean_absolute_error: 0.0023\n",
      "Epoch 9/50\n",
      "82491/82491 [==============================] - 32s 390us/step - loss: 8.9015e-05 - mean_absolute_error: 0.0032 - val_loss: 4.2833e-05 - val_mean_absolute_error: 0.0023\n",
      "Epoch 10/50\n",
      "82491/82491 [==============================] - 32s 391us/step - loss: 8.9028e-05 - mean_absolute_error: 0.0032 - val_loss: 4.2837e-05 - val_mean_absolute_error: 0.0023\n",
      "Epoch 11/50\n",
      "82491/82491 [==============================] - 32s 390us/step - loss: 8.9041e-05 - mean_absolute_error: 0.0032 - val_loss: 4.2838e-05 - val_mean_absolute_error: 0.0023\n",
      "Epoch 12/50\n",
      "82491/82491 [==============================] - 32s 393us/step - loss: 8.9016e-05 - mean_absolute_error: 0.0032 - val_loss: 4.2838e-05 - val_mean_absolute_error: 0.0023\n",
      "Epoch 13/50\n",
      "82491/82491 [==============================] - 33s 395us/step - loss: 8.9027e-05 - mean_absolute_error: 0.0032 - val_loss: 4.2839e-05 - val_mean_absolute_error: 0.0023\n",
      "Epoch 14/50\n",
      "82491/82491 [==============================] - 32s 392us/step - loss: 8.9006e-05 - mean_absolute_error: 0.0032 - val_loss: 4.2839e-05 - val_mean_absolute_error: 0.0023\n",
      "Epoch 00014: early stopping\n"
     ]
    }
   ],
   "source": [
    "history, testPredict = train_RNN(train_X, train_y, test_X, test_y, val_X, val_y, 0.4, 16)"
   ]
  },
  {
   "cell_type": "code",
   "execution_count": 52,
   "metadata": {},
   "outputs": [
    {
     "data": {
      "image/png": "[encoded data removed]",
      "text/plain": [
       "<Figure size 432x288 with 1 Axes>"
      ]
     },
     "metadata": {
      "needs_background": "light"
     },
     "output_type": "display_data"
    }
   ],
   "source": [
    "loss = history.history['loss']\n",
    "val_loss = history.history['val_loss']\n",
    "plt.plot(range(2, len(loss) + 1), loss[1:], 'r-', label='Training Loss')\n",
    "plt.plot(range(2, len(loss) + 1), val_loss[1:], 'b-', label='Validation Loss')\n",
    "plt.legend()\n",
    "plt.show()"
   ]
  },
  {
   "cell_type": "code",
   "execution_count": null,
   "metadata": {},
   "outputs": [],
   "source": []
  },
  {
   "cell_type": "code",
   "execution_count": 225,
   "metadata": {},
   "outputs": [
    {
     "data": {
      "image/png": "[encoded data removed]",
      "text/plain": [
       "<Figure size 432x288 with 1 Axes>"
      ]
     },
     "metadata": {
      "needs_background": "light"
     },
     "output_type": "display_data"
    }
   ],
   "source": [
    "val_mae = history.history['val_mean_absolute_error']\n",
    "mae= history.history['mean_absolute_error']\n",
    "plt.plot(range(1, len(loss) + 1), mae, 'r-', label='Training mean absolute error')\n",
    "plt.plot(range(1, len(loss) + 1), val_mae, 'b-', label='Validation mean absolute error')\n",
    "plt.legend()\n",
    "plt.show()"
   ]
  },
  {
   "cell_type": "code",
   "execution_count": 56,
   "metadata": {},
   "outputs": [
    {
     "data": {
      "text/plain": [
       "<matplotlib.legend.Legend at 0x1a592a5ef0>"
      ]
     },
     "execution_count": 56,
     "metadata": {},
     "output_type": "execute_result"
    },
    {
     "data": {
      "image/png": "[encoded data removed]",
      "text/plain": [
       "<Figure size 432x288 with 1 Axes>"
      ]
     },
     "metadata": {
      "needs_background": "light"
     },
     "output_type": "display_data"
    }
   ],
   "source": [
    "plt.plot(testPredict)\n",
    "plt.plot(test_y)\n",
    "plt.legend(['prediction','true'])"
   ]
  },
  {
   "cell_type": "markdown",
   "metadata": {},
   "source": [
    "## Baseline: ARIMA"
   ]
  },
  {
   "cell_type": "code",
   "execution_count": 28,
   "metadata": {},
   "outputs": [],
   "source": [
    "from statsmodels.graphics.tsaplots import plot_acf, plot_pacf\n",
    "from statsmodels.tsa.stattools import adfuller\n",
    "from statsmodels.stats.diagnostic import acorr_ljungbox\n",
    "from statsmodels.tsa.arima_model import ARIMA "
   ]
  },
  {
   "cell_type": "code",
   "execution_count": 54,
   "metadata": {},
   "outputs": [],
   "source": [
    "result = adfuller(test_y)"
   ]
  },
  {
   "cell_type": "code",
   "execution_count": 55,
   "metadata": {},
   "outputs": [
    {
     "name": "stdout",
     "output_type": "stream",
     "text": [
      "The p-value is:  0.0\n"
     ]
    }
   ],
   "source": [
    "print(\"The p-value is: \", result[1])"
   ]
  },
  {
   "cell_type": "code",
   "execution_count": 56,
   "metadata": {},
   "outputs": [],
   "source": [
    "#find the order of ARIMA\n",
    "min_p = min_q = float('inf')\n",
    "min_bic = float('inf')\n",
    "for p in range(1,8):\n",
    "    for q in range(1,8):\n",
    "        try:\n",
    "            tmp_bic=ARIMA(test_y, (p, 0, q)).fit().bic\n",
    "            if tmp_bic<min_bic:\n",
    "                min_p,min_q=p,q\n",
    "                min_bic=tmp_bic\n",
    "        except:\n",
    "            continue"
   ]
  },
  {
   "cell_type": "code",
   "execution_count": 34,
   "metadata": {},
   "outputs": [],
   "source": [
    "model = ARIMA(test_y, (4, 0, 4)).fit()"
   ]
  },
  {
   "cell_type": "code",
   "execution_count": 35,
   "metadata": {},
   "outputs": [],
   "source": [
    "pred_y = model.predict()"
   ]
  },
  {
   "cell_type": "code",
   "execution_count": 40,
   "metadata": {},
   "outputs": [
    {
     "data": {
      "text/plain": [
       "<matplotlib.legend.Legend at 0x1a845f3208>"
      ]
     },
     "execution_count": 40,
     "metadata": {},
     "output_type": "execute_result"
    },
    {
     "data": {
      "image/png": "[encoded data removed]",
      "text/plain": [
       "<Figure size 432x288 with 1 Axes>"
      ]
     },
     "metadata": {
      "needs_background": "light"
     },
     "output_type": "display_data"
    }
   ],
   "source": [
    "plt.plot(pred_y[:500])\n",
    "plt.plot(test_y[:500])\n",
    "plt.legend(['prediction','true'])"
   ]
  },
  {
   "cell_type": "code",
   "execution_count": 37,
   "metadata": {},
   "outputs": [
    {
     "data": {
      "text/html": [
       "<table class=\"simpletable\">\n",
       "<caption>ARMA Model Results</caption>\n",
       "<tr>\n",
       "  <th>Dep. Variable:</th>         <td>y</td>        <th>  No. Observations:  </th>    <td>10078</td>  \n",
       "</tr>\n",
       "<tr>\n",
       "  <th>Model:</th>            <td>ARMA(4, 4)</td>    <th>  Log Likelihood     </th> <td>-35083.272</td>\n",
       "</tr>\n",
       "<tr>\n",
       "  <th>Method:</th>             <td>css-mle</td>     <th>  S.D. of innovations</th>    <td>7.864</td>  \n",
       "</tr>\n",
       "<tr>\n",
       "  <th>Date:</th>          <td>Wed, 04 Sep 2019</td> <th>  AIC                </th>  <td>70186.545</td>\n",
       "</tr>\n",
       "<tr>\n",
       "  <th>Time:</th>              <td>19:36:51</td>     <th>  BIC                </th>  <td>70258.726</td>\n",
       "</tr>\n",
       "<tr>\n",
       "  <th>Sample:</th>                <td>0</td>        <th>  HQIC               </th>  <td>70210.968</td>\n",
       "</tr>\n",
       "<tr>\n",
       "  <th></th>                       <td> </td>        <th>                     </th>      <td> </td>    \n",
       "</tr>\n",
       "</table>\n",
       "<table class=\"simpletable\">\n",
       "<tr>\n",
       "     <td></td>        <th>coef</th>     <th>std err</th>      <th>z</th>      <th>P>|z|</th>  <th>[0.025</th>    <th>0.975]</th>  \n",
       "</tr>\n",
       "<tr>\n",
       "  <th>const</th>   <td>    0.0756</td> <td>    0.069</td> <td>    1.096</td> <td> 0.273</td> <td>   -0.060</td> <td>    0.211</td>\n",
       "</tr>\n",
       "<tr>\n",
       "  <th>ar.L1.y</th> <td>    0.5863</td> <td>    0.123</td> <td>    4.785</td> <td> 0.000</td> <td>    0.346</td> <td>    0.826</td>\n",
       "</tr>\n",
       "<tr>\n",
       "  <th>ar.L2.y</th> <td>   -0.0440</td> <td>    0.129</td> <td>   -0.341</td> <td> 0.733</td> <td>   -0.297</td> <td>    0.209</td>\n",
       "</tr>\n",
       "<tr>\n",
       "  <th>ar.L3.y</th> <td>   -0.4287</td> <td>    0.133</td> <td>   -3.230</td> <td> 0.001</td> <td>   -0.689</td> <td>   -0.169</td>\n",
       "</tr>\n",
       "<tr>\n",
       "  <th>ar.L4.y</th> <td>    0.8143</td> <td>    0.102</td> <td>    7.949</td> <td> 0.000</td> <td>    0.614</td> <td>    1.015</td>\n",
       "</tr>\n",
       "<tr>\n",
       "  <th>ma.L1.y</th> <td>   -0.5882</td> <td>    0.127</td> <td>   -4.628</td> <td> 0.000</td> <td>   -0.837</td> <td>   -0.339</td>\n",
       "</tr>\n",
       "<tr>\n",
       "  <th>ma.L2.y</th> <td>    0.0378</td> <td>    0.133</td> <td>    0.284</td> <td> 0.776</td> <td>   -0.223</td> <td>    0.299</td>\n",
       "</tr>\n",
       "<tr>\n",
       "  <th>ma.L3.y</th> <td>    0.4174</td> <td>    0.138</td> <td>    3.028</td> <td> 0.002</td> <td>    0.147</td> <td>    0.687</td>\n",
       "</tr>\n",
       "<tr>\n",
       "  <th>ma.L4.y</th> <td>   -0.8034</td> <td>    0.106</td> <td>   -7.595</td> <td> 0.000</td> <td>   -1.011</td> <td>   -0.596</td>\n",
       "</tr>\n",
       "</table>\n",
       "<table class=\"simpletable\">\n",
       "<caption>Roots</caption>\n",
       "<tr>\n",
       "    <td></td>   <th>            Real</th>  <th>         Imaginary</th> <th>         Modulus</th>  <th>        Frequency</th>\n",
       "</tr>\n",
       "<tr>\n",
       "  <th>AR.1</th> <td>          -1.0873</td> <td>          -0.0000j</td> <td>           1.0873</td> <td>          -0.5000</td>\n",
       "</tr>\n",
       "<tr>\n",
       "  <th>AR.2</th> <td>           0.2929</td> <td>          -1.0064j</td> <td>           1.0481</td> <td>          -0.2049</td>\n",
       "</tr>\n",
       "<tr>\n",
       "  <th>AR.3</th> <td>           0.2929</td> <td>          +1.0064j</td> <td>           1.0481</td> <td>           0.2049</td>\n",
       "</tr>\n",
       "<tr>\n",
       "  <th>AR.4</th> <td>           1.0281</td> <td>          -0.0000j</td> <td>           1.0281</td> <td>          -0.0000</td>\n",
       "</tr>\n",
       "<tr>\n",
       "  <th>MA.1</th> <td>          -1.0923</td> <td>          -0.0000j</td> <td>           1.0923</td> <td>          -0.5000</td>\n",
       "</tr>\n",
       "<tr>\n",
       "  <th>MA.2</th> <td>           0.2935</td> <td>          -1.0128j</td> <td>           1.0545</td> <td>          -0.2051</td>\n",
       "</tr>\n",
       "<tr>\n",
       "  <th>MA.3</th> <td>           0.2935</td> <td>          +1.0128j</td> <td>           1.0545</td> <td>           0.2051</td>\n",
       "</tr>\n",
       "<tr>\n",
       "  <th>MA.4</th> <td>           1.0248</td> <td>          -0.0000j</td> <td>           1.0248</td> <td>          -0.0000</td>\n",
       "</tr>\n",
       "</table>"
      ],
      "text/plain": [
       "<class 'statsmodels.iolib.summary.Summary'>\n",
       "\"\"\"\n",
       "                              ARMA Model Results                              \n",
       "==============================================================================\n",
       "Dep. Variable:                      y   No. Observations:                10078\n",
       "Model:                     ARMA(4, 4)   Log Likelihood              -35083.272\n",
       "Method:                       css-mle   S.D. of innovations              7.864\n",
       "Date:                Wed, 04 Sep 2019   AIC                          70186.545\n",
       "Time:                        19:36:51   BIC                          70258.726\n",
       "Sample:                             0   HQIC                         70210.968\n",
       "                                                                              \n",
       "==============================================================================\n",
       "                 coef    std err          z      P>|z|      [0.025      0.975]\n",
       "------------------------------------------------------------------------------\n",
       "const          0.0756      0.069      1.096      0.273      -0.060       0.211\n",
       "ar.L1.y        0.5863      0.123      4.785      0.000       0.346       0.826\n",
       "ar.L2.y       -0.0440      0.129     -0.341      0.733      -0.297       0.209\n",
       "ar.L3.y       -0.4287      0.133     -3.230      0.001      -0.689      -0.169\n",
       "ar.L4.y        0.8143      0.102      7.949      0.000       0.614       1.015\n",
       "ma.L1.y       -0.5882      0.127     -4.628      0.000      -0.837      -0.339\n",
       "ma.L2.y        0.0378      0.133      0.284      0.776      -0.223       0.299\n",
       "ma.L3.y        0.4174      0.138      3.028      0.002       0.147       0.687\n",
       "ma.L4.y       -0.8034      0.106     -7.595      0.000      -1.011      -0.596\n",
       "                                    Roots                                    \n",
       "=============================================================================\n",
       "                  Real          Imaginary           Modulus         Frequency\n",
       "-----------------------------------------------------------------------------\n",
       "AR.1           -1.0873           -0.0000j            1.0873           -0.5000\n",
       "AR.2            0.2929           -1.0064j            1.0481           -0.2049\n",
       "AR.3            0.2929           +1.0064j            1.0481            0.2049\n",
       "AR.4            1.0281           -0.0000j            1.0281           -0.0000\n",
       "MA.1           -1.0923           -0.0000j            1.0923           -0.5000\n",
       "MA.2            0.2935           -1.0128j            1.0545           -0.2051\n",
       "MA.3            0.2935           +1.0128j            1.0545            0.2051\n",
       "MA.4            1.0248           -0.0000j            1.0248           -0.0000\n",
       "-----------------------------------------------------------------------------\n",
       "\"\"\""
      ]
     },
     "execution_count": 37,
     "metadata": {},
     "output_type": "execute_result"
    }
   ],
   "source": [
    "#model = ARIMA(train_data, (1, 0, 1)).fit()\n",
    "model.summary()"
   ]
  },
  {
   "cell_type": "code",
   "execution_count": null,
   "metadata": {},
   "outputs": [],
   "source": []
  }
 ],
 "metadata": {
  "kernelspec": {
   "display_name": "Python 3",
   "language": "python",
   "name": "python3"
  },
  "language_info": {
   "codemirror_mode": {
    "name": "ipython",
    "version": 3
   },
   "file_extension": ".py",
   "mimetype": "text/x-python",
   "name": "python",
   "nbconvert_exporter": "python",
   "pygments_lexer": "ipython3",
   "version": "3.6.7"
  }
 },
 "nbformat": 4,
 "nbformat_minor": 2
}
