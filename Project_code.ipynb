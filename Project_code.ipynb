{
 "cells": [
  {
   "cell_type": "code",
   "execution_count": 1,
   "metadata": {},
   "outputs": [],
   "source": [
    "import cbpro\n",
    "import numpy as np\n",
    "import datetime\n",
    "import pandas as pd\n",
    "import time\n",
    "import math\n",
    "import seaborn as sns\n",
    "import matplotlib.pyplot as plt\n",
    "from scipy.spatial.distance import euclidean\n",
    "from fastdtw import fastdtw\n",
    "from scipy import stats\n",
    "public_client = cbpro.PublicClient()"
   ]
  },
  {
   "cell_type": "code",
   "execution_count": 2,
   "metadata": {},
   "outputs": [
    {
     "name": "stderr",
     "output_type": "stream",
     "text": [
      "Using TensorFlow backend.\n"
     ]
    }
   ],
   "source": [
    "import keras\n",
    "from keras.models import Sequential\n",
    "from keras.layers import LSTM, Dense, Dropout,LeakyReLU\n",
    "from keras.callbacks import EarlyStopping, LearningRateScheduler\n",
    "from sklearn.model_selection import train_test_split\n",
    "from sklearn.preprocessing import MinMaxScaler\n",
    "from sklearn.metrics import mean_squared_error\n",
    "import random\n",
    "pd.set_option('precision', 4)"
   ]
  },
  {
   "cell_type": "code",
   "execution_count": 3,
   "metadata": {},
   "outputs": [],
   "source": [
    "import warnings\n",
    "warnings.filterwarnings(\"ignore\")"
   ]
  },
  {
   "cell_type": "markdown",
   "metadata": {},
   "source": [
    "## Extract data from API"
   ]
  },
  {
   "cell_type": "code",
   "execution_count": 4,
   "metadata": {},
   "outputs": [],
   "source": [
    "def getData(label,start_time,end_time):\n",
    "    '''pull out data from start date to end date'''\n",
    "    #input\n",
    "    #label -- string, type of currency, such as 'ETH-USD'\n",
    "    #start_time, end_time -- ISO 8601 format date\n",
    "    \n",
    "    #output\n",
    "    #numpy ndarray\n",
    "    #pull out minute data\n",
    "    data=public_client.get_product_historic_rates(label,start=start_time, end=end_time, granularity=300)\n",
    "    return data"
   ]
  },
  {
   "cell_type": "code",
   "execution_count": 5,
   "metadata": {},
   "outputs": [],
   "source": [
    "def getMinuteData(label, start_date, end_date):\n",
    "    '''get all data of label from start_date to end_date'''\n",
    "    sample = []\n",
    "    date_list = pd.date_range(start=start_date, end=end_date)\n",
    "    for head, tail in zip(date_list[:-1], date_list[1:]):\n",
    "        tmp = getData(label,head.isoformat(),tail.isoformat())\n",
    "        while len(tmp) == 1:\n",
    "            time.sleep(0.8)\n",
    "            tmp = getData(label,head.isoformat(),tail.isoformat())\n",
    "        sample += tmp\n",
    "        time.sleep(0.5)\n",
    "    return sample"
   ]
  },
  {
   "cell_type": "code",
   "execution_count": 6,
   "metadata": {},
   "outputs": [],
   "source": [
    "def save_data(data,tag):\n",
    "    '''save the data in dictionary into separated csv file'''\n",
    "    \n",
    "    #transform to pandas dataframe format and add columne name\n",
    "    result=pd.DataFrame(data,columns=['date','low','high','open','close','volume'])\n",
    "    \n",
    "    #transform unix time to datetime for better understand\n",
    "    result['date']=pd.to_datetime(result['date'], unit='s')\n",
    "    filename=tag+'_2017.csv'\n",
    "    result.to_csv(filename)\n",
    "    #return result    "
   ]
  },
  {
   "cell_type": "code",
   "execution_count": 7,
   "metadata": {},
   "outputs": [],
   "source": [
    "# #extract from API and save into excel file\n",
    "# #Extract 2017 data\n",
    "\n",
    "# start_date, end_date = '08/15/2017', '08/15/2018'\n",
    "# ticker = ticker=['BTC-USD','ETH-USD','LTC-USD']\n",
    "# for tick in ticker:\n",
    "#     data = getMinuteData(tick, start_date, end_date)\n",
    "#     save_data(data, tick)"
   ]
  },
  {
   "cell_type": "markdown",
   "metadata": {},
   "source": [
    "## Read Data from CSV file"
   ]
  },
  {
   "cell_type": "code",
   "execution_count": 7,
   "metadata": {},
   "outputs": [],
   "source": [
    "def extract_merge(year):\n",
    "    \"\"\"extract data from csv file and merge them into 1 table\"\"\"\n",
    "    tick = ['BTC', 'ETH', 'LTC']\n",
    "    if year == '2018':\n",
    "        ticker = [\"Data/\" + i + '-USD.csv' for i in tick]\n",
    "    else:\n",
    "        ticker = [\"Data/\" + i + '-USD_2017.csv' for i in tick]\n",
    "    BTC_data = pd.read_csv(ticker[0],parse_dates=['date'])\n",
    "    BTC_data=BTC_data.drop(BTC_data.columns[0],axis=1)\n",
    "    ETH_data=pd.read_csv(ticker[1],parse_dates=['date'])\n",
    "    ETH_data=ETH_data.drop(ETH_data.columns[0],axis=1)\n",
    "    LTC_data=pd.read_csv(ticker[2],parse_dates=['date'])\n",
    "    LTC_data=LTC_data.drop(LTC_data.columns[0],axis=1)\n",
    "    \n",
    "    #merge BTC & ETH data\n",
    "    merge1=BTC_data.merge(ETH_data, how='inner', on='date', suffixes=('_BTC','_ETH'))\n",
    "    #merge above table with LTC data\n",
    "    merge2=pd.merge(merge1,LTC_data,how='inner', on='date')\n",
    "    #change the colume name\n",
    "    merge2=merge2.rename(columns={i:i+'_LTC' for i in list(LTC_data)[1:]})\n",
    "    merge2 = merge2.drop_duplicates()\n",
    "    \n",
    "    return merge2"
   ]
  },
  {
   "cell_type": "code",
   "execution_count": 9,
   "metadata": {},
   "outputs": [],
   "source": [
    "merge2 = extract_merge('2018')\n",
    "merge2_2017 = extract_merge('2017')"
   ]
  },
  {
   "cell_type": "markdown",
   "metadata": {},
   "source": [
    "## Start RNN model"
   ]
  },
  {
   "cell_type": "markdown",
   "metadata": {},
   "source": [
    "### generate log return (here use percentage return)"
   ]
  },
  {
   "cell_type": "code",
   "execution_count": 10,
   "metadata": {},
   "outputs": [],
   "source": [
    "# #change all price into log return\n",
    "# def convert_log_return(data):\n",
    "#     '''change price into percentage log return'''\n",
    "    \n",
    "#     #extract all volume data\n",
    "#     volume_data = data.filter(like = \"volume\")\n",
    "    \n",
    "#     #find column that need to calculate percentage return\n",
    "#     tag = ['BTC', 'LTC', 'ETH']\n",
    "#     tick = ['open', 'close', 'high', 'low']\n",
    "#     col_name_list = [j + \"_\" + i for i in tag for j in tick]\n",
    "    \n",
    "#     for col_name in col_name_list:\n",
    "#         new_col_name = 'return_' + col_name\n",
    "#         #calculate percentage change\n",
    "#         tmp = data[col_name].pct_change()\n",
    "        \n",
    "#         #convert percentage return into log\n",
    "#         #if return == 0, log return == 0\n",
    "#         data[new_col_name] = tmp\n",
    "    \n",
    "#     #add volume back\n",
    "#     return_matrix = pd.concat([data.filter(like='return'),volume_data], axis = 1)\n",
    "    \n",
    "#     return return_matrix"
   ]
  },
  {
   "cell_type": "code",
   "execution_count": 8,
   "metadata": {},
   "outputs": [],
   "source": [
    "def calculate_log_return(df):\n",
    "    df1 = np.asarray(df.iloc[1:].values.tolist())\n",
    "    df2 = np.asarray(df.iloc[:-1].values.tolist())\n",
    "    result = np.log(df1/df2)\n",
    "    return result"
   ]
  },
  {
   "cell_type": "code",
   "execution_count": 9,
   "metadata": {},
   "outputs": [],
   "source": [
    "def normalize(df):\n",
    "    #normalization\n",
    "    column_names = list(df)\n",
    "    min_max_scaler = MinMaxScaler()\n",
    "    return_matrix = pd.DataFrame(min_max_scaler.fit_transform(df), columns = column_names)\n",
    "    return return_matrix"
   ]
  },
  {
   "cell_type": "code",
   "execution_count": 10,
   "metadata": {},
   "outputs": [],
   "source": [
    "def convert_log_return(data, flag):\n",
    "    \"\"\"convert all price (except volumn) into log return\"\"\"\n",
    "    \"\"\"log return = log(x_t/x_{t-1})\"\"\"\n",
    "    #initialize the dataframe\n",
    "    return_matrix = pd.DataFrame()\n",
    "    \n",
    "    #find column that need to calculate percentage return\n",
    "    tag = ['BTC', 'LTC', 'ETH']\n",
    "    tick = ['open', 'close', 'high', 'low']\n",
    "    col_name_list = [j + \"_\" + i for i in tag for j in tick]\n",
    "    \n",
    "    for col_name in col_name_list:\n",
    "        df = data[col_name]\n",
    "        return_matrix[col_name] = calculate_log_return(df)\n",
    "    \n",
    "    #add volume back\n",
    "    volume_data = np.asarray(data.filter(like = \"volume\").iloc[1:].values.tolist())\n",
    "    #get volume name for eacy cryptocurrency\n",
    "    volume_list = [\"volume_\" + i for i in tag]\n",
    "    for i in range(len(volume_list)):\n",
    "        return_matrix[volume_list[i]] = volume_data[:,i]\n",
    "        \n",
    "    #if flag == true means need normalization\n",
    "    if flag == True:\n",
    "        return_matrix = normalize(return_matrix)\n",
    "    \n",
    "    #add date\n",
    "    date_data = data['date'].tolist()\n",
    "    return_matrix['date'] = pd.to_datetime(date_data[1:])\n",
    "    \n",
    "    return return_matrix"
   ]
  },
  {
   "cell_type": "code",
   "execution_count": 14,
   "metadata": {},
   "outputs": [
    {
     "data": {
      "text/html": [
       "<div>\n",
       "<style scoped>\n",
       "    .dataframe tbody tr th:only-of-type {\n",
       "        vertical-align: middle;\n",
       "    }\n",
       "\n",
       "    .dataframe tbody tr th {\n",
       "        vertical-align: top;\n",
       "    }\n",
       "\n",
       "    .dataframe thead th {\n",
       "        text-align: right;\n",
       "    }\n",
       "</style>\n",
       "<table border=\"1\" class=\"dataframe\">\n",
       "  <thead>\n",
       "    <tr style=\"text-align: right;\">\n",
       "      <th></th>\n",
       "      <th>open_BTC</th>\n",
       "      <th>close_BTC</th>\n",
       "      <th>high_BTC</th>\n",
       "      <th>low_BTC</th>\n",
       "      <th>open_LTC</th>\n",
       "      <th>close_LTC</th>\n",
       "      <th>high_LTC</th>\n",
       "      <th>low_LTC</th>\n",
       "      <th>open_ETH</th>\n",
       "      <th>close_ETH</th>\n",
       "      <th>high_ETH</th>\n",
       "      <th>low_ETH</th>\n",
       "      <th>volume_BTC</th>\n",
       "      <th>volume_LTC</th>\n",
       "      <th>volume_ETH</th>\n",
       "      <th>date</th>\n",
       "    </tr>\n",
       "  </thead>\n",
       "  <tbody>\n",
       "    <tr>\n",
       "      <th>0</th>\n",
       "      <td>0.5704</td>\n",
       "      <td>0.5728</td>\n",
       "      <td>0.5675</td>\n",
       "      <td>0.5840</td>\n",
       "      <td>0.4238</td>\n",
       "      <td>0.4469</td>\n",
       "      <td>0.4161</td>\n",
       "      <td>0.4477</td>\n",
       "      <td>0.5738</td>\n",
       "      <td>0.5741</td>\n",
       "      <td>0.5705</td>\n",
       "      <td>0.5717</td>\n",
       "      <td>0.0054</td>\n",
       "      <td>0.0117</td>\n",
       "      <td>0.0076</td>\n",
       "      <td>2018-08-15 23:55:00</td>\n",
       "    </tr>\n",
       "    <tr>\n",
       "      <th>1</th>\n",
       "      <td>0.5626</td>\n",
       "      <td>0.5726</td>\n",
       "      <td>0.5606</td>\n",
       "      <td>0.5747</td>\n",
       "      <td>0.4201</td>\n",
       "      <td>0.4482</td>\n",
       "      <td>0.4174</td>\n",
       "      <td>0.4461</td>\n",
       "      <td>0.5607</td>\n",
       "      <td>0.5766</td>\n",
       "      <td>0.5650</td>\n",
       "      <td>0.5689</td>\n",
       "      <td>0.0107</td>\n",
       "      <td>0.0225</td>\n",
       "      <td>0.0217</td>\n",
       "      <td>2018-08-15 23:50:00</td>\n",
       "    </tr>\n",
       "    <tr>\n",
       "      <th>2</th>\n",
       "      <td>0.5698</td>\n",
       "      <td>0.5648</td>\n",
       "      <td>0.5605</td>\n",
       "      <td>0.5696</td>\n",
       "      <td>0.4250</td>\n",
       "      <td>0.4437</td>\n",
       "      <td>0.4152</td>\n",
       "      <td>0.4416</td>\n",
       "      <td>0.5740</td>\n",
       "      <td>0.5634</td>\n",
       "      <td>0.5602</td>\n",
       "      <td>0.5614</td>\n",
       "      <td>0.0210</td>\n",
       "      <td>0.0212</td>\n",
       "      <td>0.0210</td>\n",
       "      <td>2018-08-15 23:45:00</td>\n",
       "    </tr>\n",
       "    <tr>\n",
       "      <th>3</th>\n",
       "      <td>0.5691</td>\n",
       "      <td>0.5720</td>\n",
       "      <td>0.5653</td>\n",
       "      <td>0.5847</td>\n",
       "      <td>0.4216</td>\n",
       "      <td>0.4513</td>\n",
       "      <td>0.4189</td>\n",
       "      <td>0.4515</td>\n",
       "      <td>0.5701</td>\n",
       "      <td>0.5761</td>\n",
       "      <td>0.5778</td>\n",
       "      <td>0.5853</td>\n",
       "      <td>0.0106</td>\n",
       "      <td>0.0396</td>\n",
       "      <td>0.0392</td>\n",
       "      <td>2018-08-15 23:40:00</td>\n",
       "    </tr>\n",
       "    <tr>\n",
       "      <th>4</th>\n",
       "      <td>0.5656</td>\n",
       "      <td>0.5713</td>\n",
       "      <td>0.5653</td>\n",
       "      <td>0.5783</td>\n",
       "      <td>0.4189</td>\n",
       "      <td>0.4459</td>\n",
       "      <td>0.4134</td>\n",
       "      <td>0.4419</td>\n",
       "      <td>0.5606</td>\n",
       "      <td>0.5743</td>\n",
       "      <td>0.5785</td>\n",
       "      <td>0.5614</td>\n",
       "      <td>0.0225</td>\n",
       "      <td>0.0934</td>\n",
       "      <td>0.0348</td>\n",
       "      <td>2018-08-15 23:35:00</td>\n",
       "    </tr>\n",
       "  </tbody>\n",
       "</table>\n",
       "</div>"
      ],
      "text/plain": [
       "   open_BTC  close_BTC  high_BTC  low_BTC  open_LTC  close_LTC  high_LTC  \\\n",
       "0    0.5704     0.5728    0.5675   0.5840    0.4238     0.4469    0.4161   \n",
       "1    0.5626     0.5726    0.5606   0.5747    0.4201     0.4482    0.4174   \n",
       "2    0.5698     0.5648    0.5605   0.5696    0.4250     0.4437    0.4152   \n",
       "3    0.5691     0.5720    0.5653   0.5847    0.4216     0.4513    0.4189   \n",
       "4    0.5656     0.5713    0.5653   0.5783    0.4189     0.4459    0.4134   \n",
       "\n",
       "   low_LTC  open_ETH  close_ETH  high_ETH  low_ETH  volume_BTC  volume_LTC  \\\n",
       "0   0.4477    0.5738     0.5741    0.5705   0.5717      0.0054      0.0117   \n",
       "1   0.4461    0.5607     0.5766    0.5650   0.5689      0.0107      0.0225   \n",
       "2   0.4416    0.5740     0.5634    0.5602   0.5614      0.0210      0.0212   \n",
       "3   0.4515    0.5701     0.5761    0.5778   0.5853      0.0106      0.0396   \n",
       "4   0.4419    0.5606     0.5743    0.5785   0.5614      0.0225      0.0934   \n",
       "\n",
       "   volume_ETH                date  \n",
       "0      0.0076 2018-08-15 23:55:00  \n",
       "1      0.0217 2018-08-15 23:50:00  \n",
       "2      0.0210 2018-08-15 23:45:00  \n",
       "3      0.0392 2018-08-15 23:40:00  \n",
       "4      0.0348 2018-08-15 23:35:00  "
      ]
     },
     "execution_count": 14,
     "metadata": {},
     "output_type": "execute_result"
    }
   ],
   "source": [
    "convert_log_return(merge2, True).head()"
   ]
  },
  {
   "cell_type": "code",
   "execution_count": 11,
   "metadata": {},
   "outputs": [],
   "source": [
    "def create_dataset(data, time_step, tick1, tick2, target):\n",
    "    '''convert time series data into X, y'''\n",
    "    \"\"\"given tag name(tick1, tick2) of two crpytocurrency\"\"\"\n",
    "    \"\"\"X = [low1, high1, open1, close1, volume1, low2, high2, open2, close2, volume2] for time (i, i + timestep)\"\"\"\n",
    "    \n",
    "    #use #timestep data from tick1, tick2 to predict next time stamp tick1' open price\n",
    "    \n",
    "    #create colume label\n",
    "    input_label1 = [i + '_' + tick1 for i in ['low', 'high', 'open','close', 'volume']]\n",
    "    input_label2 = [i + '_' + tick2 for i in ['low', 'high', 'open','close', 'volume']]\n",
    "    target_label = 'close_' + target\n",
    "    \n",
    "    tmp_data1 = data[input_label1]\n",
    "    tmp_data2 = data[input_label2]\n",
    "    tmp_target = data[target_label]\n",
    "    \n",
    "    transformed_X = []\n",
    "    transformed_y = []\n",
    "    for i in range(time_step, data.shape[0]):\n",
    "        tmp1 = tmp_data1[(i - time_step): i].values.tolist()\n",
    "        tmp2 = tmp_data2[(i - time_step): i].values.tolist()\n",
    "        tmp = []\n",
    "        for j in range(len(tmp1)):\n",
    "            tmp.append(tmp1[j] + tmp2[j])\n",
    "            \n",
    "        #tmp = [low1, high1, open1, close1, volume1, low2, high2, open2, close2, volume2]\n",
    "        transformed_X.append(tmp)\n",
    "        transformed_y.append(tmp_target.iloc[i])\n",
    "    \n",
    "    return np.asarray(transformed_X), np.asarray(transformed_y)"
   ]
  },
  {
   "cell_type": "markdown",
   "metadata": {},
   "source": [
    "### train, test, validation split by week"
   ]
  },
  {
   "cell_type": "code",
   "execution_count": 12,
   "metadata": {},
   "outputs": [],
   "source": [
    "def generate_week_list(start_date, end_date):\n",
    "    '''generate the start and end day of each week'''\n",
    "    '''week_list = {1: [start, end]}'''\n",
    "    \"\"\"In order to split train, test, validation in future step\"\"\"\n",
    "    week_list = {}\n",
    "    curr_week = start_date\n",
    "    i = 1\n",
    "    while curr_week < end_date:\n",
    "        end_week = curr_week + datetime.timedelta(days = 7)\n",
    "        week_list[i] = [curr_week, end_week]\n",
    "        curr_week, i = end_week, i + 1\n",
    "    \n",
    "    return week_list"
   ]
  },
  {
   "cell_type": "code",
   "execution_count": 13,
   "metadata": {},
   "outputs": [],
   "source": [
    "def extract_sample(index, week_list, date, X, y):\n",
    "    '''given index of week we want to sample, extract corresponding sample'''\n",
    "    \n",
    "    sample_X, sample_y = [], []\n",
    "    for i in index:\n",
    "        start, end = week_list[i]\n",
    "        tmp_index = [(date < end) & (date >= start)]\n",
    "        try:\n",
    "            sample_X = np.concatenate((sample_X, X[tmp_index]), axis = 0)\n",
    "            sample_y = np.concatenate((sample_y, y[tmp_index]), axis = 0)\n",
    "        except:\n",
    "            sample_X = X[tmp_index]\n",
    "            sample_y = y[tmp_index]\n",
    "    \n",
    "    return sample_X, sample_y"
   ]
  },
  {
   "cell_type": "code",
   "execution_count": 14,
   "metadata": {},
   "outputs": [],
   "source": [
    "def train_test_val(X, y, date):\n",
    "    '''split train, test, validation'''\n",
    "    #-----------------------------------------#\n",
    "    #--e.g. 52 weeks in total, 0.8, 0.1, 0.1--#\n",
    "    #-----------------------------------------#\n",
    "    \n",
    "    start, end = date.iloc[0], date.iloc[-1]\n",
    "    week_list = generate_week_list(start, end)\n",
    "    index = list(week_list.keys())\n",
    "    train_index, test_index = train_test_split(index, test_size = 0.2)\n",
    "    test_index, val_index = train_test_split(test_index, test_size = 0.5)\n",
    "    train_X, train_y = extract_sample(train_index, week_list, date, X, y)\n",
    "    test_X, test_y = extract_sample(test_index, week_list, date, X, y)\n",
    "    val_X, val_y = extract_sample(val_index, week_list, date, X, y)\n",
    "    \n",
    "    return train_X, train_y, test_X, test_y, val_X, val_y"
   ]
  },
  {
   "cell_type": "markdown",
   "metadata": {},
   "source": [
    "### RNN main program"
   ]
  },
  {
   "cell_type": "code",
   "execution_count": 15,
   "metadata": {},
   "outputs": [],
   "source": [
    "def step_decay(epoch):\n",
    "    \"\"\"learning rate scheduler\"\"\"\n",
    "    \"\"\"start from initial_rate, after epochs_drop step, drop\"\"\"\n",
    "    initial_rate = 0.05\n",
    "    drop = 0.1\n",
    "    epochs_drop = 2.0\n",
    "    \n",
    "    lrate = initial_rate * math.pow(drop, math.floor((1 + epoch)/epochs_drop))\n",
    "    \n",
    "    return lrate\n",
    "                                    "
   ]
  },
  {
   "cell_type": "code",
   "execution_count": 16,
   "metadata": {},
   "outputs": [],
   "source": [
    "def train_RNN(train_X, train_y, test_X, test_y, val_X, val_y, drop_rate, hidden_unit):\n",
    "    '''RNN'''\n",
    "    \n",
    "    #------------LSTM-------------------------\n",
    "\n",
    "    n_step, n_feature = train_X.shape[1:]\n",
    "    model = Sequential()\n",
    "\n",
    "    # Embedding layer\n",
    "    model.add(LSTM(hidden_unit, input_shape=(n_step, n_feature), activation='relu', return_sequences=False))\n",
    "#     model.add(LSTM(hidden_unit, input_shape=(n_step, n_feature), return_sequences=False))\n",
    "#     model.add(LeakyReLU(alpha=0.3))\n",
    "\n",
    "    model.add(Dropout(drop_rate))\n",
    "    model.add(Dense(8, activation='relu'))\n",
    "#     model.add(Dense(16))\n",
    "#     model.add(LeakyReLU(alpha=0.3))\n",
    "    model.add(Dense(1))\n",
    "    \n",
    "    # Compile the model\n",
    "    model.compile(optimizer='adam', loss='mean_squared_error', metrics=['mae'])\n",
    "    lrate = LearningRateScheduler(step_decay)\n",
    "    es = EarlyStopping(monitor='val_loss', mode='min', verbose=1, patience = 5)\n",
    "    history = model.fit(train_X, train_y, epochs=50, batch_size = 100, verbose=1, validation_data=(val_X, val_y), callbacks = [es])\n",
    "\n",
    "    testPredict = model.predict(test_X)\n",
    "    #score = model.evaluate(y_test, testPredict)\n",
    "    \n",
    "    return history, testPredict\n",
    "\n"
   ]
  },
  {
   "cell_type": "code",
   "execution_count": 17,
   "metadata": {},
   "outputs": [],
   "source": [
    "def optimize(train_X, train_y, test_X, test_y, val_X, val_y):\n",
    "    drop_rate = 0.4\n",
    "    hidden_list = [16, 32, 64]\n",
    "    best_score, best_unit = float(\"inf\"), 100\n",
    "    score_list = []\n",
    "    for hidden_unit in hidden_list:\n",
    "        #start RNN training\n",
    "        history, testPredict = train_RNN(train_X, train_y, test_X, test_y, val_X, val_y, drop_rate, hidden_unit)\n",
    "        score = history.history['val_loss'][0]\n",
    "        score_list.append(score)\n",
    "        if score < best_score:\n",
    "            best_score = score\n",
    "            best_unit = hidden_unit\n",
    "            best_history = history\n",
    "            best_pred = testPredict\n",
    "        return score_list, best_score, best_unit, best_history, best_pred"
   ]
  },
  {
   "cell_type": "code",
   "execution_count": 18,
   "metadata": {},
   "outputs": [],
   "source": [
    "def mainProgram(flag, tick1, tick2, target, drop_rate, hidden_unit):\n",
    "    #read data\n",
    "    merge2 = extract_merge('2018')\n",
    "    merge2_2017 = extract_merge('2017')\n",
    "    \n",
    "    #convert log return\n",
    "    return_matrix = convert_log_return(merge2, flag)\n",
    "    \n",
    "    #split X and y\n",
    "    data = return_matrix\n",
    "    time_step = 60 # about 5 hours\n",
    "    #X is N x time_step x 10 matrix\n",
    "    X, y = create_dataset(data, time_step, tick1, tick2, target)\n",
    "    \n",
    "    #train, test, validation split\n",
    "    date = return_matrix['date'][time_step:]\n",
    "    train_X, train_y, test_X, test_y, val_X, val_y = train_test_val(X, y, date)\n",
    "    \n",
    "    #start RNN training\n",
    "    history, testPredict = train_RNN(train_X, train_y, test_X, test_y, val_X, val_y, drop_rate, hidden_unit)\n",
    "    \n",
    "    return history, testPredict, test_y"
   ]
  },
  {
   "cell_type": "code",
   "execution_count": 23,
   "metadata": {},
   "outputs": [
    {
     "name": "stdout",
     "output_type": "stream",
     "text": [
      "Train on 82511 samples, validate on 12060 samples\n",
      "Epoch 1/50\n",
      "82511/82511 [==============================] - 38s 462us/step - loss: 195741.2889 - mean_absolute_error: 123.5815 - val_loss: 36991.1008 - val_mean_absolute_error: 92.3900\n",
      "Epoch 2/50\n",
      "82511/82511 [==============================] - 36s 434us/step - loss: 776542.5677 - mean_absolute_error: 160.5425 - val_loss: 896401.3437 - val_mean_absolute_error: 395.2872\n",
      "Epoch 3/50\n",
      "82511/82511 [==============================] - 37s 447us/step - loss: 1225076.9983 - mean_absolute_error: 263.5616 - val_loss: 93153.4494 - val_mean_absolute_error: 185.4734\n",
      "Epoch 4/50\n",
      "82511/82511 [==============================] - 36s 434us/step - loss: 278792.8478 - mean_absolute_error: 176.6433 - val_loss: 14474.6516 - val_mean_absolute_error: 55.3445\n",
      "Epoch 5/50\n",
      "82511/82511 [==============================] - 34s 416us/step - loss: 21741.5171 - mean_absolute_error: 52.3724 - val_loss: 676.5627 - val_mean_absolute_error: 9.4997\n",
      "Epoch 6/50\n",
      "82511/82511 [==============================] - 35s 422us/step - loss: 182950.7458 - mean_absolute_error: 56.5885 - val_loss: 113275.3538 - val_mean_absolute_error: 68.7388\n",
      "Epoch 7/50\n",
      "82511/82511 [==============================] - 36s 431us/step - loss: 28325.6143 - mean_absolute_error: 35.3095 - val_loss: 962.7017 - val_mean_absolute_error: 14.1045\n",
      "Epoch 8/50\n",
      "82511/82511 [==============================] - 35s 425us/step - loss: 6106.9344 - mean_absolute_error: 21.6961 - val_loss: 672.5532 - val_mean_absolute_error: 12.8602\n",
      "Epoch 9/50\n",
      "82511/82511 [==============================] - 38s 463us/step - loss: 5846.3798 - mean_absolute_error: 18.5970 - val_loss: 442.1867 - val_mean_absolute_error: 8.6774\n",
      "Epoch 10/50\n",
      "82511/82511 [==============================] - 36s 436us/step - loss: 3551.6328 - mean_absolute_error: 16.1828 - val_loss: 475.8752 - val_mean_absolute_error: 8.6420\n",
      "Epoch 11/50\n",
      "82511/82511 [==============================] - 36s 432us/step - loss: 4584862.7906 - mean_absolute_error: 271.9795 - val_loss: 11538.7240 - val_mean_absolute_error: 59.5134\n",
      "Epoch 12/50\n",
      "20000/82511 [======>.......................] - ETA: 26s - loss: 25458.8931 - mean_absolute_error: 62.9466"
     ]
    },
    {
     "ename": "KeyboardInterrupt",
     "evalue": "",
     "output_type": "error",
     "traceback": [
      "\u001b[0;31m---------------------------------------------------------------------------\u001b[0m",
      "\u001b[0;31mKeyboardInterrupt\u001b[0m                         Traceback (most recent call last)",
      "\u001b[0;32m<ipython-input-23-ff9cf3bd170b>\u001b[0m in \u001b[0;36m<module>\u001b[0;34m\u001b[0m\n\u001b[1;32m      5\u001b[0m \u001b[0mdrop_rate\u001b[0m \u001b[0;34m=\u001b[0m \u001b[0;36m0.4\u001b[0m\u001b[0;34m\u001b[0m\u001b[0;34m\u001b[0m\u001b[0m\n\u001b[1;32m      6\u001b[0m \u001b[0mhidden_unit\u001b[0m \u001b[0;34m=\u001b[0m \u001b[0;36m32\u001b[0m\u001b[0;34m\u001b[0m\u001b[0;34m\u001b[0m\u001b[0m\n\u001b[0;32m----> 7\u001b[0;31m \u001b[0mhist1\u001b[0m\u001b[0;34m,\u001b[0m \u001b[0mpred1\u001b[0m\u001b[0;34m,\u001b[0m \u001b[0mtest1\u001b[0m \u001b[0;34m=\u001b[0m \u001b[0mmainProgram\u001b[0m\u001b[0;34m(\u001b[0m\u001b[0mflag\u001b[0m\u001b[0;34m,\u001b[0m \u001b[0mtick1\u001b[0m\u001b[0;34m,\u001b[0m \u001b[0mtick2\u001b[0m\u001b[0;34m,\u001b[0m \u001b[0mtarget\u001b[0m\u001b[0;34m,\u001b[0m \u001b[0mdrop_rate\u001b[0m\u001b[0;34m,\u001b[0m \u001b[0mhidden_unit\u001b[0m\u001b[0;34m)\u001b[0m\u001b[0;34m\u001b[0m\u001b[0;34m\u001b[0m\u001b[0m\n\u001b[0m",
      "\u001b[0;32m<ipython-input-18-c0d4a19ef055>\u001b[0m in \u001b[0;36mmainProgram\u001b[0;34m(flag, tick1, tick2, target, drop_rate, hidden_unit)\u001b[0m\n\u001b[1;32m     18\u001b[0m \u001b[0;34m\u001b[0m\u001b[0m\n\u001b[1;32m     19\u001b[0m     \u001b[0;31m#start RNN training\u001b[0m\u001b[0;34m\u001b[0m\u001b[0;34m\u001b[0m\u001b[0;34m\u001b[0m\u001b[0m\n\u001b[0;32m---> 20\u001b[0;31m     \u001b[0mhistory\u001b[0m\u001b[0;34m,\u001b[0m \u001b[0mtestPredict\u001b[0m \u001b[0;34m=\u001b[0m \u001b[0mtrain_RNN\u001b[0m\u001b[0;34m(\u001b[0m\u001b[0mtrain_X\u001b[0m\u001b[0;34m,\u001b[0m \u001b[0mtrain_y\u001b[0m\u001b[0;34m,\u001b[0m \u001b[0mtest_X\u001b[0m\u001b[0;34m,\u001b[0m \u001b[0mtest_y\u001b[0m\u001b[0;34m,\u001b[0m \u001b[0mval_X\u001b[0m\u001b[0;34m,\u001b[0m \u001b[0mval_y\u001b[0m\u001b[0;34m,\u001b[0m \u001b[0mdrop_rate\u001b[0m\u001b[0;34m,\u001b[0m \u001b[0mhidden_unit\u001b[0m\u001b[0;34m)\u001b[0m\u001b[0;34m\u001b[0m\u001b[0;34m\u001b[0m\u001b[0m\n\u001b[0m\u001b[1;32m     21\u001b[0m \u001b[0;34m\u001b[0m\u001b[0m\n\u001b[1;32m     22\u001b[0m     \u001b[0;32mreturn\u001b[0m \u001b[0mhistory\u001b[0m\u001b[0;34m,\u001b[0m \u001b[0mtestPredict\u001b[0m\u001b[0;34m,\u001b[0m \u001b[0mtest_y\u001b[0m\u001b[0;34m\u001b[0m\u001b[0;34m\u001b[0m\u001b[0m\n",
      "\u001b[0;32m<ipython-input-16-fe027225032b>\u001b[0m in \u001b[0;36mtrain_RNN\u001b[0;34m(train_X, train_y, test_X, test_y, val_X, val_y, drop_rate, hidden_unit)\u001b[0m\n\u001b[1;32m     22\u001b[0m     \u001b[0mlrate\u001b[0m \u001b[0;34m=\u001b[0m \u001b[0mLearningRateScheduler\u001b[0m\u001b[0;34m(\u001b[0m\u001b[0mstep_decay\u001b[0m\u001b[0;34m)\u001b[0m\u001b[0;34m\u001b[0m\u001b[0;34m\u001b[0m\u001b[0m\n\u001b[1;32m     23\u001b[0m     \u001b[0mes\u001b[0m \u001b[0;34m=\u001b[0m \u001b[0mEarlyStopping\u001b[0m\u001b[0;34m(\u001b[0m\u001b[0mmonitor\u001b[0m\u001b[0;34m=\u001b[0m\u001b[0;34m'val_loss'\u001b[0m\u001b[0;34m,\u001b[0m \u001b[0mmode\u001b[0m\u001b[0;34m=\u001b[0m\u001b[0;34m'min'\u001b[0m\u001b[0;34m,\u001b[0m \u001b[0mverbose\u001b[0m\u001b[0;34m=\u001b[0m\u001b[0;36m1\u001b[0m\u001b[0;34m,\u001b[0m \u001b[0mpatience\u001b[0m \u001b[0;34m=\u001b[0m \u001b[0;36m5\u001b[0m\u001b[0;34m)\u001b[0m\u001b[0;34m\u001b[0m\u001b[0;34m\u001b[0m\u001b[0m\n\u001b[0;32m---> 24\u001b[0;31m     \u001b[0mhistory\u001b[0m \u001b[0;34m=\u001b[0m \u001b[0mmodel\u001b[0m\u001b[0;34m.\u001b[0m\u001b[0mfit\u001b[0m\u001b[0;34m(\u001b[0m\u001b[0mtrain_X\u001b[0m\u001b[0;34m,\u001b[0m \u001b[0mtrain_y\u001b[0m\u001b[0;34m,\u001b[0m \u001b[0mepochs\u001b[0m\u001b[0;34m=\u001b[0m\u001b[0;36m50\u001b[0m\u001b[0;34m,\u001b[0m \u001b[0mbatch_size\u001b[0m \u001b[0;34m=\u001b[0m \u001b[0;36m100\u001b[0m\u001b[0;34m,\u001b[0m \u001b[0mverbose\u001b[0m\u001b[0;34m=\u001b[0m\u001b[0;36m1\u001b[0m\u001b[0;34m,\u001b[0m \u001b[0mvalidation_data\u001b[0m\u001b[0;34m=\u001b[0m\u001b[0;34m(\u001b[0m\u001b[0mval_X\u001b[0m\u001b[0;34m,\u001b[0m \u001b[0mval_y\u001b[0m\u001b[0;34m)\u001b[0m\u001b[0;34m,\u001b[0m \u001b[0mcallbacks\u001b[0m \u001b[0;34m=\u001b[0m \u001b[0;34m[\u001b[0m\u001b[0mes\u001b[0m\u001b[0;34m]\u001b[0m\u001b[0;34m)\u001b[0m\u001b[0;34m\u001b[0m\u001b[0;34m\u001b[0m\u001b[0m\n\u001b[0m\u001b[1;32m     25\u001b[0m \u001b[0;34m\u001b[0m\u001b[0m\n\u001b[1;32m     26\u001b[0m     \u001b[0mtestPredict\u001b[0m \u001b[0;34m=\u001b[0m \u001b[0mmodel\u001b[0m\u001b[0;34m.\u001b[0m\u001b[0mpredict\u001b[0m\u001b[0;34m(\u001b[0m\u001b[0mtest_X\u001b[0m\u001b[0;34m)\u001b[0m\u001b[0;34m\u001b[0m\u001b[0;34m\u001b[0m\u001b[0m\n",
      "\u001b[0;32m/anaconda3/lib/python3.6/site-packages/keras/engine/training.py\u001b[0m in \u001b[0;36mfit\u001b[0;34m(self, x, y, batch_size, epochs, verbose, callbacks, validation_split, validation_data, shuffle, class_weight, sample_weight, initial_epoch, steps_per_epoch, validation_steps, **kwargs)\u001b[0m\n\u001b[1;32m   1037\u001b[0m                                         \u001b[0minitial_epoch\u001b[0m\u001b[0;34m=\u001b[0m\u001b[0minitial_epoch\u001b[0m\u001b[0;34m,\u001b[0m\u001b[0;34m\u001b[0m\u001b[0;34m\u001b[0m\u001b[0m\n\u001b[1;32m   1038\u001b[0m                                         \u001b[0msteps_per_epoch\u001b[0m\u001b[0;34m=\u001b[0m\u001b[0msteps_per_epoch\u001b[0m\u001b[0;34m,\u001b[0m\u001b[0;34m\u001b[0m\u001b[0;34m\u001b[0m\u001b[0m\n\u001b[0;32m-> 1039\u001b[0;31m                                         validation_steps=validation_steps)\n\u001b[0m\u001b[1;32m   1040\u001b[0m \u001b[0;34m\u001b[0m\u001b[0m\n\u001b[1;32m   1041\u001b[0m     def evaluate(self, x=None, y=None,\n",
      "\u001b[0;32m/anaconda3/lib/python3.6/site-packages/keras/engine/training_arrays.py\u001b[0m in \u001b[0;36mfit_loop\u001b[0;34m(model, f, ins, out_labels, batch_size, epochs, verbose, callbacks, val_f, val_ins, shuffle, callback_metrics, initial_epoch, steps_per_epoch, validation_steps)\u001b[0m\n\u001b[1;32m    197\u001b[0m                     \u001b[0mins_batch\u001b[0m\u001b[0;34m[\u001b[0m\u001b[0mi\u001b[0m\u001b[0;34m]\u001b[0m \u001b[0;34m=\u001b[0m \u001b[0mins_batch\u001b[0m\u001b[0;34m[\u001b[0m\u001b[0mi\u001b[0m\u001b[0;34m]\u001b[0m\u001b[0;34m.\u001b[0m\u001b[0mtoarray\u001b[0m\u001b[0;34m(\u001b[0m\u001b[0;34m)\u001b[0m\u001b[0;34m\u001b[0m\u001b[0;34m\u001b[0m\u001b[0m\n\u001b[1;32m    198\u001b[0m \u001b[0;34m\u001b[0m\u001b[0m\n\u001b[0;32m--> 199\u001b[0;31m                 \u001b[0mouts\u001b[0m \u001b[0;34m=\u001b[0m \u001b[0mf\u001b[0m\u001b[0;34m(\u001b[0m\u001b[0mins_batch\u001b[0m\u001b[0;34m)\u001b[0m\u001b[0;34m\u001b[0m\u001b[0;34m\u001b[0m\u001b[0m\n\u001b[0m\u001b[1;32m    200\u001b[0m                 \u001b[0mouts\u001b[0m \u001b[0;34m=\u001b[0m \u001b[0mto_list\u001b[0m\u001b[0;34m(\u001b[0m\u001b[0mouts\u001b[0m\u001b[0;34m)\u001b[0m\u001b[0;34m\u001b[0m\u001b[0;34m\u001b[0m\u001b[0m\n\u001b[1;32m    201\u001b[0m                 \u001b[0;32mfor\u001b[0m \u001b[0ml\u001b[0m\u001b[0;34m,\u001b[0m \u001b[0mo\u001b[0m \u001b[0;32min\u001b[0m \u001b[0mzip\u001b[0m\u001b[0;34m(\u001b[0m\u001b[0mout_labels\u001b[0m\u001b[0;34m,\u001b[0m \u001b[0mouts\u001b[0m\u001b[0;34m)\u001b[0m\u001b[0;34m:\u001b[0m\u001b[0;34m\u001b[0m\u001b[0;34m\u001b[0m\u001b[0m\n",
      "\u001b[0;32m/anaconda3/lib/python3.6/site-packages/keras/backend/tensorflow_backend.py\u001b[0m in \u001b[0;36m__call__\u001b[0;34m(self, inputs)\u001b[0m\n\u001b[1;32m   2713\u001b[0m                 \u001b[0;32mreturn\u001b[0m \u001b[0mself\u001b[0m\u001b[0;34m.\u001b[0m\u001b[0m_legacy_call\u001b[0m\u001b[0;34m(\u001b[0m\u001b[0minputs\u001b[0m\u001b[0;34m)\u001b[0m\u001b[0;34m\u001b[0m\u001b[0;34m\u001b[0m\u001b[0m\n\u001b[1;32m   2714\u001b[0m \u001b[0;34m\u001b[0m\u001b[0m\n\u001b[0;32m-> 2715\u001b[0;31m             \u001b[0;32mreturn\u001b[0m \u001b[0mself\u001b[0m\u001b[0;34m.\u001b[0m\u001b[0m_call\u001b[0m\u001b[0;34m(\u001b[0m\u001b[0minputs\u001b[0m\u001b[0;34m)\u001b[0m\u001b[0;34m\u001b[0m\u001b[0;34m\u001b[0m\u001b[0m\n\u001b[0m\u001b[1;32m   2716\u001b[0m         \u001b[0;32melse\u001b[0m\u001b[0;34m:\u001b[0m\u001b[0;34m\u001b[0m\u001b[0;34m\u001b[0m\u001b[0m\n\u001b[1;32m   2717\u001b[0m             \u001b[0;32mif\u001b[0m \u001b[0mpy_any\u001b[0m\u001b[0;34m(\u001b[0m\u001b[0mis_tensor\u001b[0m\u001b[0;34m(\u001b[0m\u001b[0mx\u001b[0m\u001b[0;34m)\u001b[0m \u001b[0;32mfor\u001b[0m \u001b[0mx\u001b[0m \u001b[0;32min\u001b[0m \u001b[0minputs\u001b[0m\u001b[0;34m)\u001b[0m\u001b[0;34m:\u001b[0m\u001b[0;34m\u001b[0m\u001b[0;34m\u001b[0m\u001b[0m\n",
      "\u001b[0;32m/anaconda3/lib/python3.6/site-packages/keras/backend/tensorflow_backend.py\u001b[0m in \u001b[0;36m_call\u001b[0;34m(self, inputs)\u001b[0m\n\u001b[1;32m   2673\u001b[0m             \u001b[0mfetched\u001b[0m \u001b[0;34m=\u001b[0m \u001b[0mself\u001b[0m\u001b[0;34m.\u001b[0m\u001b[0m_callable_fn\u001b[0m\u001b[0;34m(\u001b[0m\u001b[0;34m*\u001b[0m\u001b[0marray_vals\u001b[0m\u001b[0;34m,\u001b[0m \u001b[0mrun_metadata\u001b[0m\u001b[0;34m=\u001b[0m\u001b[0mself\u001b[0m\u001b[0;34m.\u001b[0m\u001b[0mrun_metadata\u001b[0m\u001b[0;34m)\u001b[0m\u001b[0;34m\u001b[0m\u001b[0;34m\u001b[0m\u001b[0m\n\u001b[1;32m   2674\u001b[0m         \u001b[0;32melse\u001b[0m\u001b[0;34m:\u001b[0m\u001b[0;34m\u001b[0m\u001b[0;34m\u001b[0m\u001b[0m\n\u001b[0;32m-> 2675\u001b[0;31m             \u001b[0mfetched\u001b[0m \u001b[0;34m=\u001b[0m \u001b[0mself\u001b[0m\u001b[0;34m.\u001b[0m\u001b[0m_callable_fn\u001b[0m\u001b[0;34m(\u001b[0m\u001b[0;34m*\u001b[0m\u001b[0marray_vals\u001b[0m\u001b[0;34m)\u001b[0m\u001b[0;34m\u001b[0m\u001b[0;34m\u001b[0m\u001b[0m\n\u001b[0m\u001b[1;32m   2676\u001b[0m         \u001b[0;32mreturn\u001b[0m \u001b[0mfetched\u001b[0m\u001b[0;34m[\u001b[0m\u001b[0;34m:\u001b[0m\u001b[0mlen\u001b[0m\u001b[0;34m(\u001b[0m\u001b[0mself\u001b[0m\u001b[0;34m.\u001b[0m\u001b[0moutputs\u001b[0m\u001b[0;34m)\u001b[0m\u001b[0;34m]\u001b[0m\u001b[0;34m\u001b[0m\u001b[0;34m\u001b[0m\u001b[0m\n\u001b[1;32m   2677\u001b[0m \u001b[0;34m\u001b[0m\u001b[0m\n",
      "\u001b[0;32m/anaconda3/lib/python3.6/site-packages/tensorflow/python/client/session.py\u001b[0m in \u001b[0;36m__call__\u001b[0;34m(self, *args, **kwargs)\u001b[0m\n\u001b[1;32m   1380\u001b[0m           ret = tf_session.TF_SessionRunCallable(\n\u001b[1;32m   1381\u001b[0m               \u001b[0mself\u001b[0m\u001b[0;34m.\u001b[0m\u001b[0m_session\u001b[0m\u001b[0;34m.\u001b[0m\u001b[0m_session\u001b[0m\u001b[0;34m,\u001b[0m \u001b[0mself\u001b[0m\u001b[0;34m.\u001b[0m\u001b[0m_handle\u001b[0m\u001b[0;34m,\u001b[0m \u001b[0margs\u001b[0m\u001b[0;34m,\u001b[0m \u001b[0mstatus\u001b[0m\u001b[0;34m,\u001b[0m\u001b[0;34m\u001b[0m\u001b[0;34m\u001b[0m\u001b[0m\n\u001b[0;32m-> 1382\u001b[0;31m               run_metadata_ptr)\n\u001b[0m\u001b[1;32m   1383\u001b[0m         \u001b[0;32mif\u001b[0m \u001b[0mrun_metadata\u001b[0m\u001b[0;34m:\u001b[0m\u001b[0;34m\u001b[0m\u001b[0;34m\u001b[0m\u001b[0m\n\u001b[1;32m   1384\u001b[0m           \u001b[0mproto_data\u001b[0m \u001b[0;34m=\u001b[0m \u001b[0mtf_session\u001b[0m\u001b[0;34m.\u001b[0m\u001b[0mTF_GetBuffer\u001b[0m\u001b[0;34m(\u001b[0m\u001b[0mrun_metadata_ptr\u001b[0m\u001b[0;34m)\u001b[0m\u001b[0;34m\u001b[0m\u001b[0;34m\u001b[0m\u001b[0m\n",
      "\u001b[0;31mKeyboardInterrupt\u001b[0m: "
     ]
    }
   ],
   "source": [
    "#use log return data (not normalize)\n",
    "flag = False\n",
    "tick1, tick2 = \"BTC\", \"ETH\"\n",
    "target = \"BTC\"\n",
    "drop_rate = 0.4\n",
    "hidden_unit = 32\n",
    "hist1, pred1, test1 = mainProgram(flag, tick1, tick2, target, drop_rate, hidden_unit)"
   ]
  },
  {
   "cell_type": "code",
   "execution_count": 20,
   "metadata": {},
   "outputs": [
    {
     "name": "stdout",
     "output_type": "stream",
     "text": [
      "Train on 82457 samples, validate on 12094 samples\n",
      "Epoch 1/50\n",
      "82457/82457 [==============================] - 33s 403us/step - loss: 0.0055 - mean_absolute_error: 0.0360 - val_loss: 0.0093 - val_mean_absolute_error: 0.0964\n",
      "Epoch 2/50\n",
      "82457/82457 [==============================] - 32s 388us/step - loss: 8.4762e-05 - mean_absolute_error: 0.0037 - val_loss: 0.0094 - val_mean_absolute_error: 0.0965\n",
      "Epoch 3/50\n",
      "82457/82457 [==============================] - 35s 419us/step - loss: 8.3161e-05 - mean_absolute_error: 0.0035 - val_loss: 0.0093 - val_mean_absolute_error: 0.0961\n",
      "Epoch 4/50\n",
      "82457/82457 [==============================] - 36s 432us/step - loss: 8.3019e-05 - mean_absolute_error: 0.0035 - val_loss: 0.0094 - val_mean_absolute_error: 0.0964\n",
      "Epoch 5/50\n",
      "82457/82457 [==============================] - 34s 412us/step - loss: 8.3420e-05 - mean_absolute_error: 0.0036 - val_loss: 0.0085 - val_mean_absolute_error: 0.0917\n",
      "Epoch 6/50\n",
      "82457/82457 [==============================] - 35s 420us/step - loss: 8.3810e-05 - mean_absolute_error: 0.0036 - val_loss: 0.0084 - val_mean_absolute_error: 0.0911\n",
      "Epoch 7/50\n",
      "82457/82457 [==============================] - 35s 419us/step - loss: 8.3967e-05 - mean_absolute_error: 0.0036 - val_loss: 0.0088 - val_mean_absolute_error: 0.0937\n",
      "Epoch 8/50\n",
      "82457/82457 [==============================] - 33s 397us/step - loss: 8.3311e-05 - mean_absolute_error: 0.0036 - val_loss: 0.0066 - val_mean_absolute_error: 0.0806\n",
      "Epoch 9/50\n",
      "82457/82457 [==============================] - 34s 413us/step - loss: 8.3353e-05 - mean_absolute_error: 0.0036 - val_loss: 0.0066 - val_mean_absolute_error: 0.0810\n",
      "Epoch 10/50\n",
      "82457/82457 [==============================] - 35s 423us/step - loss: 8.2333e-05 - mean_absolute_error: 0.0035 - val_loss: 0.0063 - val_mean_absolute_error: 0.0791\n",
      "Epoch 11/50\n",
      "82457/82457 [==============================] - 33s 399us/step - loss: 8.3013e-05 - mean_absolute_error: 0.0036 - val_loss: 0.0061 - val_mean_absolute_error: 0.0779\n",
      "Epoch 12/50\n",
      "82457/82457 [==============================] - 33s 400us/step - loss: 8.2148e-05 - mean_absolute_error: 0.0035 - val_loss: 0.0057 - val_mean_absolute_error: 0.0752\n",
      "Epoch 13/50\n",
      "82457/82457 [==============================] - 33s 403us/step - loss: 8.2891e-05 - mean_absolute_error: 0.0036 - val_loss: 0.0055 - val_mean_absolute_error: 0.0740\n",
      "Epoch 14/50\n",
      "82457/82457 [==============================] - 33s 405us/step - loss: 8.2611e-05 - mean_absolute_error: 0.0036 - val_loss: 0.0047 - val_mean_absolute_error: 0.0681\n",
      "Epoch 15/50\n",
      "82457/82457 [==============================] - 34s 410us/step - loss: 8.2099e-05 - mean_absolute_error: 0.0035 - val_loss: 0.0037 - val_mean_absolute_error: 0.0605\n",
      "Epoch 16/50\n",
      "82457/82457 [==============================] - 33s 403us/step - loss: 8.1181e-05 - mean_absolute_error: 0.0035 - val_loss: 0.0036 - val_mean_absolute_error: 0.0595\n",
      "Epoch 17/50\n",
      "82457/82457 [==============================] - 33s 397us/step - loss: 8.0850e-05 - mean_absolute_error: 0.0034 - val_loss: 0.0034 - val_mean_absolute_error: 0.0576\n",
      "Epoch 18/50\n",
      "82457/82457 [==============================] - 33s 406us/step - loss: 8.0475e-05 - mean_absolute_error: 0.0035 - val_loss: 0.0035 - val_mean_absolute_error: 0.0588\n",
      "Epoch 19/50\n",
      "82457/82457 [==============================] - 36s 433us/step - loss: 8.0622e-05 - mean_absolute_error: 0.0035 - val_loss: 0.0034 - val_mean_absolute_error: 0.0574\n",
      "Epoch 20/50\n",
      "82457/82457 [==============================] - 34s 414us/step - loss: 7.8829e-05 - mean_absolute_error: 0.0034 - val_loss: 0.0031 - val_mean_absolute_error: 0.0547\n",
      "Epoch 21/50\n",
      "82457/82457 [==============================] - 36s 435us/step - loss: 7.8493e-05 - mean_absolute_error: 0.0034 - val_loss: 0.0028 - val_mean_absolute_error: 0.0523\n",
      "Epoch 22/50\n",
      "82457/82457 [==============================] - 35s 424us/step - loss: 7.9010e-05 - mean_absolute_error: 0.0034 - val_loss: 0.0029 - val_mean_absolute_error: 0.0531\n",
      "Epoch 23/50\n",
      "82457/82457 [==============================] - 34s 414us/step - loss: 7.8182e-05 - mean_absolute_error: 0.0034 - val_loss: 0.0027 - val_mean_absolute_error: 0.0518\n",
      "Epoch 24/50\n",
      "82457/82457 [==============================] - 33s 396us/step - loss: 7.7804e-05 - mean_absolute_error: 0.0033 - val_loss: 0.0030 - val_mean_absolute_error: 0.0540\n",
      "Epoch 25/50\n",
      "82457/82457 [==============================] - 32s 393us/step - loss: 7.8757e-05 - mean_absolute_error: 0.0034 - val_loss: 0.0031 - val_mean_absolute_error: 0.0546\n",
      "Epoch 26/50\n",
      "82457/82457 [==============================] - 34s 410us/step - loss: 7.7099e-05 - mean_absolute_error: 0.0034 - val_loss: 0.0028 - val_mean_absolute_error: 0.0527\n",
      "Epoch 27/50\n",
      "82457/82457 [==============================] - 34s 413us/step - loss: 7.7331e-05 - mean_absolute_error: 0.0033 - val_loss: 0.0028 - val_mean_absolute_error: 0.0528\n",
      "Epoch 28/50\n",
      "82457/82457 [==============================] - 33s 402us/step - loss: 7.7044e-05 - mean_absolute_error: 0.0033 - val_loss: 0.0029 - val_mean_absolute_error: 0.0530\n",
      "Epoch 00028: early stopping\n"
     ]
    }
   ],
   "source": [
    "#use log return data (normalize)\n",
    "flag = True\n",
    "tick1, tick2 = \"BTC\", \"ETH\"\n",
    "target = \"BTC\"\n",
    "drop_rate = 0.4\n",
    "hidden_unit = 16\n",
    "hist2, pred2, test2 = mainProgram(flag, tick1, tick2, target, drop_rate, hidden_unit)"
   ]
  },
  {
   "cell_type": "code",
   "execution_count": 21,
   "metadata": {},
   "outputs": [
    {
     "data": {
      "image/png": "[encoded data removed]",
      "text/plain": [
       "<Figure size 432x288 with 1 Axes>"
      ]
     },
     "metadata": {
      "needs_background": "light"
     },
     "output_type": "display_data"
    }
   ],
   "source": [
    "plt.plot(pred1, label = \"predictin\")\n",
    "plt.plot(test1, label = \"test data\")\n",
    "plt.legend()\n",
    "plt.title(\"result without normalization\")\n",
    "plt.show()"
   ]
  },
  {
   "cell_type": "code",
   "execution_count": 22,
   "metadata": {},
   "outputs": [
    {
     "data": {
      "image/png": "[encoded data removed]",
      "text/plain": [
       "<Figure size 432x288 with 1 Axes>"
      ]
     },
     "metadata": {
      "needs_background": "light"
     },
     "output_type": "display_data"
    }
   ],
   "source": [
    "plt.plot(pred2, label = \"predictin\")\n",
    "plt.plot(test2, label = \"test data\")\n",
    "plt.legend()\n",
    "plt.title(\"result with normalization \")\n",
    "plt.show()"
   ]
  },
  {
   "cell_type": "code",
   "execution_count": 57,
   "metadata": {},
   "outputs": [],
   "source": [
    "#merge2 is the extract & merge data\n",
    "#return matrix stores all log return data\n",
    "\n",
    "return_matrix = convert_log_return(merge2, True)\n"
   ]
  },
  {
   "cell_type": "code",
   "execution_count": 58,
   "metadata": {},
   "outputs": [],
   "source": [
    "data = return_matrix\n",
    "time_step = 60 # about 5 hours\n",
    "tick1, tick2 = 'BTC', 'LTC'\n",
    "target = 'BTC'\n",
    "#X is N x time_step x 10 matrix\n",
    "X, y = create_dataset(data, time_step, tick1, tick2, target)"
   ]
  },
  {
   "cell_type": "code",
   "execution_count": 59,
   "metadata": {},
   "outputs": [],
   "source": [
    "date = return_matrix['date'][time_step:]\n",
    "train_X, train_y, test_X, test_y, val_X, val_y = train_test_val(X, y, date)"
   ]
  },
  {
   "cell_type": "code",
   "execution_count": 27,
   "metadata": {},
   "outputs": [
    {
     "data": {
      "text/plain": [
       "(82583, 60, 10)"
      ]
     },
     "execution_count": 27,
     "metadata": {},
     "output_type": "execute_result"
    }
   ],
   "source": [
    "train_X.shape"
   ]
  },
  {
   "cell_type": "code",
   "execution_count": 28,
   "metadata": {},
   "outputs": [
    {
     "data": {
      "text/plain": [
       "(10005, 60, 10)"
      ]
     },
     "execution_count": 28,
     "metadata": {},
     "output_type": "execute_result"
    }
   ],
   "source": [
    "test_X.shape"
   ]
  },
  {
   "cell_type": "code",
   "execution_count": 60,
   "metadata": {},
   "outputs": [
    {
     "name": "stdout",
     "output_type": "stream",
     "text": [
      "Train on 82491 samples, validate on 12062 samples\n",
      "Epoch 1/50\n",
      "82491/82491 [==============================] - 34s 415us/step - loss: 0.0014 - mean_absolute_error: 0.0077 - val_loss: 4.8461e-05 - val_mean_absolute_error: 0.0034\n",
      "Epoch 2/50\n",
      "82491/82491 [==============================] - 33s 401us/step - loss: 8.9440e-05 - mean_absolute_error: 0.0033 - val_loss: 4.2841e-05 - val_mean_absolute_error: 0.0023\n",
      "Epoch 3/50\n",
      "82491/82491 [==============================] - 32s 393us/step - loss: 8.9697e-05 - mean_absolute_error: 0.0034 - val_loss: 4.2834e-05 - val_mean_absolute_error: 0.0024\n",
      "Epoch 4/50\n",
      "82491/82491 [==============================] - 32s 392us/step - loss: 8.9109e-05 - mean_absolute_error: 0.0032 - val_loss: 4.3178e-05 - val_mean_absolute_error: 0.0025\n",
      "Epoch 5/50\n",
      "82491/82491 [==============================] - 32s 389us/step - loss: 8.9181e-05 - mean_absolute_error: 0.0033 - val_loss: 4.2842e-05 - val_mean_absolute_error: 0.0023\n",
      "Epoch 6/50\n",
      "82491/82491 [==============================] - 32s 389us/step - loss: 8.9021e-05 - mean_absolute_error: 0.0032 - val_loss: 4.2862e-05 - val_mean_absolute_error: 0.0024\n",
      "Epoch 7/50\n",
      "82491/82491 [==============================] - 32s 394us/step - loss: 8.9051e-05 - mean_absolute_error: 0.0032 - val_loss: 4.2833e-05 - val_mean_absolute_error: 0.0023\n",
      "Epoch 8/50\n",
      "82491/82491 [==============================] - 32s 393us/step - loss: 8.9031e-05 - mean_absolute_error: 0.0032 - val_loss: 4.2841e-05 - val_mean_absolute_error: 0.0023\n",
      "Epoch 9/50\n",
      "82491/82491 [==============================] - 32s 390us/step - loss: 8.9015e-05 - mean_absolute_error: 0.0032 - val_loss: 4.2833e-05 - val_mean_absolute_error: 0.0023\n",
      "Epoch 10/50\n",
      "82491/82491 [==============================] - 32s 391us/step - loss: 8.9028e-05 - mean_absolute_error: 0.0032 - val_loss: 4.2837e-05 - val_mean_absolute_error: 0.0023\n",
      "Epoch 11/50\n",
      "82491/82491 [==============================] - 32s 390us/step - loss: 8.9041e-05 - mean_absolute_error: 0.0032 - val_loss: 4.2838e-05 - val_mean_absolute_error: 0.0023\n",
      "Epoch 12/50\n",
      "82491/82491 [==============================] - 32s 393us/step - loss: 8.9016e-05 - mean_absolute_error: 0.0032 - val_loss: 4.2838e-05 - val_mean_absolute_error: 0.0023\n",
      "Epoch 13/50\n",
      "82491/82491 [==============================] - 33s 395us/step - loss: 8.9027e-05 - mean_absolute_error: 0.0032 - val_loss: 4.2839e-05 - val_mean_absolute_error: 0.0023\n",
      "Epoch 14/50\n",
      "82491/82491 [==============================] - 32s 392us/step - loss: 8.9006e-05 - mean_absolute_error: 0.0032 - val_loss: 4.2839e-05 - val_mean_absolute_error: 0.0023\n",
      "Epoch 00014: early stopping\n"
     ]
    }
   ],
   "source": [
    "history, testPredict = train_RNN(train_X, train_y, test_X, test_y, val_X, val_y, 0.4, 16)"
   ]
  },
  {
   "cell_type": "code",
   "execution_count": 52,
   "metadata": {},
   "outputs": [
    {
     "data": {
      "image/png": "[encoded data removed]",
      "text/plain": [
       "<Figure size 432x288 with 1 Axes>"
      ]
     },
     "metadata": {
      "needs_background": "light"
     },
     "output_type": "display_data"
    }
   ],
   "source": [
    "loss = history.history['loss']\n",
    "val_loss = history.history['val_loss']\n",
    "plt.plot(range(2, len(loss) + 1), loss[1:], 'r-', label='Training Loss')\n",
    "plt.plot(range(2, len(loss) + 1), val_loss[1:], 'b-', label='Validation Loss')\n",
    "plt.legend()\n",
    "plt.show()"
   ]
  },
  {
   "cell_type": "code",
   "execution_count": null,
   "metadata": {},
   "outputs": [],
   "source": []
  },
  {
   "cell_type": "code",
   "execution_count": 225,
   "metadata": {},
   "outputs": [
    {
     "data": {
      "image/png": "[encoded data removed]",
      "text/plain": [
       "<Figure size 432x288 with 1 Axes>"
      ]
     },
     "metadata": {
      "needs_background": "light"
     },
     "output_type": "display_data"
    }
   ],
   "source": [
    "val_mae = history.history['val_mean_absolute_error']\n",
    "mae= history.history['mean_absolute_error']\n",
    "plt.plot(range(1, len(loss) + 1), mae, 'r-', label='Training mean absolute error')\n",
    "plt.plot(range(1, len(loss) + 1), val_mae, 'b-', label='Validation mean absolute error')\n",
    "plt.legend()\n",
    "plt.show()"
   ]
  },
  {
   "cell_type": "code",
   "execution_count": 56,
   "metadata": {},
   "outputs": [
    {
     "data": {
      "text/plain": [
       "<matplotlib.legend.Legend at 0x1a592a5ef0>"
      ]
     },
     "execution_count": 56,
     "metadata": {},
     "output_type": "execute_result"
    },
    {
     "data": {
      "image/png": "[encoded data removed]",
      "text/plain": [
       "<Figure size 432x288 with 1 Axes>"
      ]
     },
     "metadata": {
      "needs_background": "light"
     },
     "output_type": "display_data"
    }
   ],
   "source": [
    "plt.plot(testPredict)\n",
    "plt.plot(test_y)\n",
    "plt.legend(['prediction','true'])"
   ]
  },
  {
   "cell_type": "markdown",
   "metadata": {},
   "source": [
    "## Baseline: ARIMA"
   ]
  },
  {
   "cell_type": "code",
   "execution_count": 28,
   "metadata": {},
   "outputs": [],
   "source": [
    "from statsmodels.graphics.tsaplots import plot_acf, plot_pacf\n",
    "from statsmodels.tsa.stattools import adfuller\n",
    "from statsmodels.stats.diagnostic import acorr_ljungbox\n",
    "from statsmodels.tsa.arima_model import ARIMA "
   ]
  },
  {
   "cell_type": "code",
   "execution_count": 54,
   "metadata": {},
   "outputs": [],
   "source": [
    "result = adfuller(test_y)"
   ]
  },
  {
   "cell_type": "code",
   "execution_count": 55,
   "metadata": {},
   "outputs": [
    {
     "name": "stdout",
     "output_type": "stream",
     "text": [
      "The p-value is:  0.0\n"
     ]
    }
   ],
   "source": [
    "print(\"The p-value is: \", result[1])"
   ]
  },
  {
   "cell_type": "code",
   "execution_count": 56,
   "metadata": {},
   "outputs": [],
   "source": [
    "#find the order of ARIMA\n",
    "min_p = min_q = float('inf')\n",
    "min_bic = float('inf')\n",
    "for p in range(1,8):\n",
    "    for q in range(1,8):\n",
    "        try:\n",
    "            tmp_bic=ARIMA(test_y, (p, 0, q)).fit().bic\n",
    "            if tmp_bic<min_bic:\n",
    "                min_p,min_q=p,q\n",
    "                min_bic=tmp_bic\n",
    "        except:\n",
    "            continue"
   ]
  },
  {
   "cell_type": "code",
   "execution_count": 34,
   "metadata": {},
   "outputs": [],
   "source": [
    "model = ARIMA(test_y, (4, 0, 4)).fit()"
   ]
  },
  {
   "cell_type": "code",
   "execution_count": 35,
   "metadata": {},
   "outputs": [],
   "source": [
    "pred_y = model.predict()"
   ]
  },
  {
   "cell_type": "code",
   "execution_count": 40,
   "metadata": {},
   "outputs": [
    {
     "data": {
      "text/plain": [
       "<matplotlib.legend.Legend at 0x1a845f3208>"
      ]
     },
     "execution_count": 40,
     "metadata": {},
     "output_type": "execute_result"
    },
    {
     "data": {
      "image/png": "[encoded data removed]",
      "text/plain": [
       "<Figure size 432x288 with 1 Axes>"
      ]
     },
     "metadata": {
      "needs_background": "light"
     },
     "output_type": "display_data"
    }
   ],
   "source": [
    "plt.plot(pred_y[:500])\n",
    "plt.plot(test_y[:500])\n",
    "plt.legend(['prediction','true'])"
   ]
  },
  {
   "cell_type": "code",
   "execution_count": 37,
   "metadata": {},
   "outputs": [
    {
     "data": {
      "text/html": [
       "<table class=\"simpletable\">\n",
       "<caption>ARMA Model Results</caption>\n",
       "<tr>\n",
       "  <th>Dep. Variable:</th>         <td>y</td>        <th>  No. Observations:  </th>    <td>10078</td>  \n",
       "</tr>\n",
       "<tr>\n",
       "  <th>Model:</th>            <td>ARMA(4, 4)</td>    <th>  Log Likelihood     </th> <td>-35083.272</td>\n",
       "</tr>\n",
       "<tr>\n",
       "  <th>Method:</th>             <td>css-mle</td>     <th>  S.D. of innovations</th>    <td>7.864</td>  \n",
       "</tr>\n",
       "<tr>\n",
       "  <th>Date:</th>          <td>Wed, 04 Sep 2019</td> <th>  AIC                </th>  <td>70186.545</td>\n",
       "</tr>\n",
       "<tr>\n",
       "  <th>Time:</th>              <td>19:36:51</td>     <th>  BIC                </th>  <td>70258.726</td>\n",
       "</tr>\n",
       "<tr>\n",
       "  <th>Sample:</th>                <td>0</td>        <th>  HQIC               </th>  <td>70210.968</td>\n",
       "</tr>\n",
       "<tr>\n",
       "  <th></th>                       <td> </td>        <th>                     </th>      <td> </td>    \n",
       "</tr>\n",
       "</table>\n",
       "<table class=\"simpletable\">\n",
       "<tr>\n",
       "     <td></td>        <th>coef</th>     <th>std err</th>      <th>z</th>      <th>P>|z|</th>  <th>[0.025</th>    <th>0.975]</th>  \n",
       "</tr>\n",
       "<tr>\n",
       "  <th>const</th>   <td>    0.0756</td> <td>    0.069</td> <td>    1.096</td> <td> 0.273</td> <td>   -0.060</td> <td>    0.211</td>\n",
       "</tr>\n",
       "<tr>\n",
       "  <th>ar.L1.y</th> <td>    0.5863</td> <td>    0.123</td> <td>    4.785</td> <td> 0.000</td> <td>    0.346</td> <td>    0.826</td>\n",
       "</tr>\n",
       "<tr>\n",
       "  <th>ar.L2.y</th> <td>   -0.0440</td> <td>    0.129</td> <td>   -0.341</td> <td> 0.733</td> <td>   -0.297</td> <td>    0.209</td>\n",
       "</tr>\n",
       "<tr>\n",
       "  <th>ar.L3.y</th> <td>   -0.4287</td> <td>    0.133</td> <td>   -3.230</td> <td> 0.001</td> <td>   -0.689</td> <td>   -0.169</td>\n",
       "</tr>\n",
       "<tr>\n",
       "  <th>ar.L4.y</th> <td>    0.8143</td> <td>    0.102</td> <td>    7.949</td> <td> 0.000</td> <td>    0.614</td> <td>    1.015</td>\n",
       "</tr>\n",
       "<tr>\n",
       "  <th>ma.L1.y</th> <td>   -0.5882</td> <td>    0.127</td> <td>   -4.628</td> <td> 0.000</td> <td>   -0.837</td> <td>   -0.339</td>\n",
       "</tr>\n",
       "<tr>\n",
       "  <th>ma.L2.y</th> <td>    0.0378</td> <td>    0.133</td> <td>    0.284</td> <td> 0.776</td> <td>   -0.223</td> <td>    0.299</td>\n",
       "</tr>\n",
       "<tr>\n",
       "  <th>ma.L3.y</th> <td>    0.4174</td> <td>    0.138</td> <td>    3.028</td> <td> 0.002</td> <td>    0.147</td> <td>    0.687</td>\n",
       "</tr>\n",
       "<tr>\n",
       "  <th>ma.L4.y</th> <td>   -0.8034</td> <td>    0.106</td> <td>   -7.595</td> <td> 0.000</td> <td>   -1.011</td> <td>   -0.596</td>\n",
       "</tr>\n",
       "</table>\n",
       "<table class=\"simpletable\">\n",
       "<caption>Roots</caption>\n",
       "<tr>\n",
       "    <td></td>   <th>            Real</th>  <th>         Imaginary</th> <th>         Modulus</th>  <th>        Frequency</th>\n",
       "</tr>\n",
       "<tr>\n",
       "  <th>AR.1</th> <td>          -1.0873</td> <td>          -0.0000j</td> <td>           1.0873</td> <td>          -0.5000</td>\n",
       "</tr>\n",
       "<tr>\n",
       "  <th>AR.2</th> <td>           0.2929</td> <td>          -1.0064j</td> <td>           1.0481</td> <td>          -0.2049</td>\n",
       "</tr>\n",
       "<tr>\n",
       "  <th>AR.3</th> <td>           0.2929</td> <td>          +1.0064j</td> <td>           1.0481</td> <td>           0.2049</td>\n",
       "</tr>\n",
       "<tr>\n",
       "  <th>AR.4</th> <td>           1.0281</td> <td>          -0.0000j</td> <td>           1.0281</td> <td>          -0.0000</td>\n",
       "</tr>\n",
       "<tr>\n",
       "  <th>MA.1</th> <td>          -1.0923</td> <td>          -0.0000j</td> <td>           1.0923</td> <td>          -0.5000</td>\n",
       "</tr>\n",
       "<tr>\n",
       "  <th>MA.2</th> <td>           0.2935</td> <td>          -1.0128j</td> <td>           1.0545</td> <td>          -0.2051</td>\n",
       "</tr>\n",
       "<tr>\n",
       "  <th>MA.3</th> <td>           0.2935</td> <td>          +1.0128j</td> <td>           1.0545</td> <td>           0.2051</td>\n",
       "</tr>\n",
       "<tr>\n",
       "  <th>MA.4</th> <td>           1.0248</td> <td>          -0.0000j</td> <td>           1.0248</td> <td>          -0.0000</td>\n",
       "</tr>\n",
       "</table>"
      ],
      "text/plain": [
       "<class 'statsmodels.iolib.summary.Summary'>\n",
       "\"\"\"\n",
       "                              ARMA Model Results                              \n",
       "==============================================================================\n",
       "Dep. Variable:                      y   No. Observations:                10078\n",
       "Model:                     ARMA(4, 4)   Log Likelihood              -35083.272\n",
       "Method:                       css-mle   S.D. of innovations              7.864\n",
       "Date:                Wed, 04 Sep 2019   AIC                          70186.545\n",
       "Time:                        19:36:51   BIC                          70258.726\n",
       "Sample:                             0   HQIC                         70210.968\n",
       "                                                                              \n",
       "==============================================================================\n",
       "                 coef    std err          z      P>|z|      [0.025      0.975]\n",
       "------------------------------------------------------------------------------\n",
       "const          0.0756      0.069      1.096      0.273      -0.060       0.211\n",
       "ar.L1.y        0.5863      0.123      4.785      0.000       0.346       0.826\n",
       "ar.L2.y       -0.0440      0.129     -0.341      0.733      -0.297       0.209\n",
       "ar.L3.y       -0.4287      0.133     -3.230      0.001      -0.689      -0.169\n",
       "ar.L4.y        0.8143      0.102      7.949      0.000       0.614       1.015\n",
       "ma.L1.y       -0.5882      0.127     -4.628      0.000      -0.837      -0.339\n",
       "ma.L2.y        0.0378      0.133      0.284      0.776      -0.223       0.299\n",
       "ma.L3.y        0.4174      0.138      3.028      0.002       0.147       0.687\n",
       "ma.L4.y       -0.8034      0.106     -7.595      0.000      -1.011      -0.596\n",
       "                                    Roots                                    \n",
       "=============================================================================\n",
       "                  Real          Imaginary           Modulus         Frequency\n",
       "-----------------------------------------------------------------------------\n",
       "AR.1           -1.0873           -0.0000j            1.0873           -0.5000\n",
       "AR.2            0.2929           -1.0064j            1.0481           -0.2049\n",
       "AR.3            0.2929           +1.0064j            1.0481            0.2049\n",
       "AR.4            1.0281           -0.0000j            1.0281           -0.0000\n",
       "MA.1           -1.0923           -0.0000j            1.0923           -0.5000\n",
       "MA.2            0.2935           -1.0128j            1.0545           -0.2051\n",
       "MA.3            0.2935           +1.0128j            1.0545            0.2051\n",
       "MA.4            1.0248           -0.0000j            1.0248           -0.0000\n",
       "-----------------------------------------------------------------------------\n",
       "\"\"\""
      ]
     },
     "execution_count": 37,
     "metadata": {},
     "output_type": "execute_result"
    }
   ],
   "source": [
    "#model = ARIMA(train_data, (1, 0, 1)).fit()\n",
    "model.summary()"
   ]
  },
  {
   "cell_type": "code",
   "execution_count": null,
   "metadata": {},
   "outputs": [],
   "source": []
  }
 ],
 "metadata": {
  "kernelspec": {
   "display_name": "Python 3",
   "language": "python",
   "name": "python3"
  },
  "language_info": {
   "codemirror_mode": {
    "name": "ipython",
    "version": 3
   },
   "file_extension": ".py",
   "mimetype": "text/x-python",
   "name": "python",
   "nbconvert_exporter": "python",
   "pygments_lexer": "ipython3",
   "version": "3.6.7"
  }
 },
 "nbformat": 4,
 "nbformat_minor": 2
}
