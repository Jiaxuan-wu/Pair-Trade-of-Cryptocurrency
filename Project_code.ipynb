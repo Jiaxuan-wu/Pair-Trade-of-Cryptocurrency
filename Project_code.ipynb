{
 "cells": [
  {
   "cell_type": "code",
   "execution_count": 1,
   "metadata": {},
   "outputs": [],
   "source": [
    "import cbpro\n",
    "import numpy as np\n",
    "import datetime\n",
    "import pandas as pd\n",
    "import time\n",
    "import math\n",
    "import seaborn as sns\n",
    "import matplotlib.pyplot as plt\n",
    "from scipy.spatial.distance import euclidean\n",
    "from fastdtw import fastdtw\n",
    "from scipy import stats\n",
    "public_client = cbpro.PublicClient()"
   ]
  },
  {
   "cell_type": "code",
   "execution_count": 2,
   "metadata": {},
   "outputs": [
    {
     "name": "stderr",
     "output_type": "stream",
     "text": [
      "Using TensorFlow backend.\n"
     ]
    }
   ],
   "source": [
    "import keras\n",
    "from keras.models import Sequential\n",
    "from keras.layers import LSTM, Dense, Dropout,LeakyReLU\n",
    "from keras.callbacks import EarlyStopping, LearningRateScheduler\n",
    "from sklearn.model_selection import train_test_split\n",
    "from sklearn.preprocessing import MinMaxScaler\n",
    "from sklearn.metrics import mean_squared_error\n",
    "import random\n",
    "pd.set_option('precision', 4)"
   ]
  },
  {
   "cell_type": "code",
   "execution_count": 3,
   "metadata": {},
   "outputs": [],
   "source": [
    "import warnings\n",
    "warnings.filterwarnings(\"ignore\")"
   ]
  },
  {
   "cell_type": "markdown",
   "metadata": {},
   "source": [
    "## Extract data from API"
   ]
  },
  {
   "cell_type": "code",
   "execution_count": 4,
   "metadata": {},
   "outputs": [],
   "source": [
    "def getData(label,start_time,end_time):\n",
    "    '''pull out data from start date to end date'''\n",
    "    #input\n",
    "    #label -- string, type of currency, such as 'ETH-USD'\n",
    "    #start_time, end_time -- ISO 8601 format date\n",
    "    \n",
    "    #output\n",
    "    #numpy ndarray\n",
    "    #pull out minute data\n",
    "    data=public_client.get_product_historic_rates(label,start=start_time, end=end_time, granularity=300)\n",
    "    return data"
   ]
  },
  {
   "cell_type": "code",
   "execution_count": 5,
   "metadata": {},
   "outputs": [],
   "source": [
    "def getMinuteData(label, start_date, end_date):\n",
    "    '''get all data of label from start_date to end_date'''\n",
    "    sample = []\n",
    "    date_list = pd.date_range(start=start_date, end=end_date)\n",
    "    for head, tail in zip(date_list[:-1], date_list[1:]):\n",
    "        tmp = getData(label,head.isoformat(),tail.isoformat())\n",
    "        while len(tmp) == 1:\n",
    "            time.sleep(0.8)\n",
    "            tmp = getData(label,head.isoformat(),tail.isoformat())\n",
    "        sample += tmp\n",
    "        time.sleep(0.5)\n",
    "    return sample"
   ]
  },
  {
   "cell_type": "code",
   "execution_count": 6,
   "metadata": {},
   "outputs": [],
   "source": [
    "def save_data(data,tag):\n",
    "    '''save the data in dictionary into separated csv file'''\n",
    "    \n",
    "    #transform to pandas dataframe format and add columne name\n",
    "    result=pd.DataFrame(data,columns=['date','low','high','open','close','volume'])\n",
    "    \n",
    "    #transform unix time to datetime for better understand\n",
    "    result['date']=pd.to_datetime(result['date'], unit='s')\n",
    "    filename=tag+'_2017.csv'\n",
    "    result.to_csv(filename)\n",
    "    #return result    "
   ]
  },
  {
   "cell_type": "code",
   "execution_count": 7,
   "metadata": {},
   "outputs": [],
   "source": [
    "# #extract from API and save into excel file\n",
    "# #Extract 2017 data\n",
    "\n",
    "# start_date, end_date = '08/15/2017', '08/15/2018'\n",
    "# ticker = ticker=['BTC-USD','ETH-USD','LTC-USD']\n",
    "# for tick in ticker:\n",
    "#     data = getMinuteData(tick, start_date, end_date)\n",
    "#     save_data(data, tick)"
   ]
  },
  {
   "cell_type": "markdown",
   "metadata": {},
   "source": [
    "## Read Data from CSV file"
   ]
  },
  {
   "cell_type": "code",
   "execution_count": 8,
   "metadata": {},
   "outputs": [],
   "source": [
    "def extract_merge(year):\n",
    "    \"\"\"extract data from csv file and merge them into 1 table\"\"\"\n",
    "    tick = ['BTC', 'ETH', 'LTC']\n",
    "    if year == '2018':\n",
    "        ticker = [\"Data/\" + i + '-USD.csv' for i in tick]\n",
    "    else:\n",
    "        ticker = [\"Data/\" + i + '-USD_2017.csv' for i in tick]\n",
    "    BTC_data = pd.read_csv(ticker[0],parse_dates=['date'])\n",
    "    BTC_data=BTC_data.drop(BTC_data.columns[0],axis=1)\n",
    "    ETH_data=pd.read_csv(ticker[1],parse_dates=['date'])\n",
    "    ETH_data=ETH_data.drop(ETH_data.columns[0],axis=1)\n",
    "    LTC_data=pd.read_csv(ticker[2],parse_dates=['date'])\n",
    "    LTC_data=LTC_data.drop(LTC_data.columns[0],axis=1)\n",
    "    \n",
    "    #merge BTC & ETH data\n",
    "    merge1=BTC_data.merge(ETH_data, how='inner', on='date', suffixes=('_BTC','_ETH'))\n",
    "    #merge above table with LTC data\n",
    "    merge2=pd.merge(merge1,LTC_data,how='inner', on='date')\n",
    "    #change the colume name\n",
    "    merge2=merge2.rename(columns={i:i+'_LTC' for i in list(LTC_data)[1:]})\n",
    "    merge2 = merge2.drop_duplicates()\n",
    "    \n",
    "    return merge2"
   ]
  },
  {
   "cell_type": "code",
   "execution_count": 9,
   "metadata": {},
   "outputs": [],
   "source": [
    "merge2 = extract_merge('2018')\n",
    "merge2_2017 = extract_merge('2017')"
   ]
  },
  {
   "cell_type": "markdown",
   "metadata": {},
   "source": [
    "## Start RNN model"
   ]
  },
  {
   "cell_type": "markdown",
   "metadata": {},
   "source": [
    "### generate log return (here use percentage return)"
   ]
  },
  {
   "cell_type": "code",
   "execution_count": 10,
   "metadata": {},
   "outputs": [],
   "source": [
    "# #change all price into log return\n",
    "# def convert_log_return(data):\n",
    "#     '''change price into percentage log return'''\n",
    "    \n",
    "#     #extract all volume data\n",
    "#     volume_data = data.filter(like = \"volume\")\n",
    "    \n",
    "#     #find column that need to calculate percentage return\n",
    "#     tag = ['BTC', 'LTC', 'ETH']\n",
    "#     tick = ['open', 'close', 'high', 'low']\n",
    "#     col_name_list = [j + \"_\" + i for i in tag for j in tick]\n",
    "    \n",
    "#     for col_name in col_name_list:\n",
    "#         new_col_name = 'return_' + col_name\n",
    "#         #calculate percentage change\n",
    "#         tmp = data[col_name].pct_change()\n",
    "        \n",
    "#         #convert percentage return into log\n",
    "#         #if return == 0, log return == 0\n",
    "#         data[new_col_name] = tmp\n",
    "    \n",
    "#     #add volume back\n",
    "#     return_matrix = pd.concat([data.filter(like='return'),volume_data], axis = 1)\n",
    "    \n",
    "#     return return_matrix"
   ]
  },
  {
   "cell_type": "code",
   "execution_count": 11,
   "metadata": {},
   "outputs": [],
   "source": [
    "def calculate_log_return(df):\n",
    "    df1 = np.asarray(df.iloc[1:].values.tolist())\n",
    "    df2 = np.asarray(df.iloc[:-1].values.tolist())\n",
    "    result = np.log(df1/df2)\n",
    "    return result"
   ]
  },
  {
   "cell_type": "code",
   "execution_count": 12,
   "metadata": {},
   "outputs": [],
   "source": [
    "def normalize(df):\n",
    "    #normalization\n",
    "    column_names = list(df)\n",
    "    min_max_scaler = MinMaxScaler()\n",
    "    return_matrix = pd.DataFrame(min_max_scaler.fit_transform(df), columns = column_names)\n",
    "    return return_matrix"
   ]
  },
  {
   "cell_type": "code",
   "execution_count": 13,
   "metadata": {},
   "outputs": [],
   "source": [
    "def convert_log_return(data, flag):\n",
    "    \"\"\"convert all price (except volumn) into log return\"\"\"\n",
    "    \"\"\"log return = log(x_t/x_{t-1})\"\"\"\n",
    "    #initialize the dataframe\n",
    "    return_matrix = pd.DataFrame()\n",
    "    \n",
    "    #find column that need to calculate percentage return\n",
    "    tag = ['BTC', 'LTC', 'ETH']\n",
    "    tick = ['open', 'close', 'high', 'low']\n",
    "    col_name_list = [j + \"_\" + i for i in tag for j in tick]\n",
    "    \n",
    "    for col_name in col_name_list:\n",
    "        df = data[col_name]\n",
    "        return_matrix[col_name] = calculate_log_return(df)\n",
    "    \n",
    "    #add volume back\n",
    "    volume_data = np.asarray(data.filter(like = \"volume\").iloc[1:].values.tolist())\n",
    "    #get volume name for eacy cryptocurrency\n",
    "    volume_list = [\"volume_\" + i for i in tag]\n",
    "    for i in range(len(volume_list)):\n",
    "        return_matrix[volume_list[i]] = volume_data[:,i]\n",
    "        \n",
    "    #if flag == true means need normalization\n",
    "    if flag == True:\n",
    "        return_matrix = normalize(return_matrix)\n",
    "    \n",
    "    #add date\n",
    "    date_data = data['date'].tolist()\n",
    "    return_matrix['date'] = pd.to_datetime(date_data[1:])\n",
    "    \n",
    "    return return_matrix"
   ]
  },
  {
   "cell_type": "code",
   "execution_count": 14,
   "metadata": {},
   "outputs": [
    {
     "data": {
      "text/html": [
       "<div>\n",
       "<style scoped>\n",
       "    .dataframe tbody tr th:only-of-type {\n",
       "        vertical-align: middle;\n",
       "    }\n",
       "\n",
       "    .dataframe tbody tr th {\n",
       "        vertical-align: top;\n",
       "    }\n",
       "\n",
       "    .dataframe thead th {\n",
       "        text-align: right;\n",
       "    }\n",
       "</style>\n",
       "<table border=\"1\" class=\"dataframe\">\n",
       "  <thead>\n",
       "    <tr style=\"text-align: right;\">\n",
       "      <th></th>\n",
       "      <th>open_BTC</th>\n",
       "      <th>close_BTC</th>\n",
       "      <th>high_BTC</th>\n",
       "      <th>low_BTC</th>\n",
       "      <th>open_LTC</th>\n",
       "      <th>close_LTC</th>\n",
       "      <th>high_LTC</th>\n",
       "      <th>low_LTC</th>\n",
       "      <th>open_ETH</th>\n",
       "      <th>close_ETH</th>\n",
       "      <th>high_ETH</th>\n",
       "      <th>low_ETH</th>\n",
       "      <th>volume_BTC</th>\n",
       "      <th>volume_LTC</th>\n",
       "      <th>volume_ETH</th>\n",
       "      <th>date</th>\n",
       "    </tr>\n",
       "  </thead>\n",
       "  <tbody>\n",
       "    <tr>\n",
       "      <th>0</th>\n",
       "      <td>0.5704</td>\n",
       "      <td>0.5728</td>\n",
       "      <td>0.5675</td>\n",
       "      <td>0.5840</td>\n",
       "      <td>0.4238</td>\n",
       "      <td>0.4469</td>\n",
       "      <td>0.4161</td>\n",
       "      <td>0.4477</td>\n",
       "      <td>0.5738</td>\n",
       "      <td>0.5741</td>\n",
       "      <td>0.5705</td>\n",
       "      <td>0.5717</td>\n",
       "      <td>0.0054</td>\n",
       "      <td>0.0117</td>\n",
       "      <td>0.0076</td>\n",
       "      <td>2018-08-15 23:55:00</td>\n",
       "    </tr>\n",
       "    <tr>\n",
       "      <th>1</th>\n",
       "      <td>0.5626</td>\n",
       "      <td>0.5726</td>\n",
       "      <td>0.5606</td>\n",
       "      <td>0.5747</td>\n",
       "      <td>0.4201</td>\n",
       "      <td>0.4482</td>\n",
       "      <td>0.4174</td>\n",
       "      <td>0.4461</td>\n",
       "      <td>0.5607</td>\n",
       "      <td>0.5766</td>\n",
       "      <td>0.5650</td>\n",
       "      <td>0.5689</td>\n",
       "      <td>0.0107</td>\n",
       "      <td>0.0225</td>\n",
       "      <td>0.0217</td>\n",
       "      <td>2018-08-15 23:50:00</td>\n",
       "    </tr>\n",
       "    <tr>\n",
       "      <th>2</th>\n",
       "      <td>0.5698</td>\n",
       "      <td>0.5648</td>\n",
       "      <td>0.5605</td>\n",
       "      <td>0.5696</td>\n",
       "      <td>0.4250</td>\n",
       "      <td>0.4437</td>\n",
       "      <td>0.4152</td>\n",
       "      <td>0.4416</td>\n",
       "      <td>0.5740</td>\n",
       "      <td>0.5634</td>\n",
       "      <td>0.5602</td>\n",
       "      <td>0.5614</td>\n",
       "      <td>0.0210</td>\n",
       "      <td>0.0212</td>\n",
       "      <td>0.0210</td>\n",
       "      <td>2018-08-15 23:45:00</td>\n",
       "    </tr>\n",
       "    <tr>\n",
       "      <th>3</th>\n",
       "      <td>0.5691</td>\n",
       "      <td>0.5720</td>\n",
       "      <td>0.5653</td>\n",
       "      <td>0.5847</td>\n",
       "      <td>0.4216</td>\n",
       "      <td>0.4513</td>\n",
       "      <td>0.4189</td>\n",
       "      <td>0.4515</td>\n",
       "      <td>0.5701</td>\n",
       "      <td>0.5761</td>\n",
       "      <td>0.5778</td>\n",
       "      <td>0.5853</td>\n",
       "      <td>0.0106</td>\n",
       "      <td>0.0396</td>\n",
       "      <td>0.0392</td>\n",
       "      <td>2018-08-15 23:40:00</td>\n",
       "    </tr>\n",
       "    <tr>\n",
       "      <th>4</th>\n",
       "      <td>0.5656</td>\n",
       "      <td>0.5713</td>\n",
       "      <td>0.5653</td>\n",
       "      <td>0.5783</td>\n",
       "      <td>0.4189</td>\n",
       "      <td>0.4459</td>\n",
       "      <td>0.4134</td>\n",
       "      <td>0.4419</td>\n",
       "      <td>0.5606</td>\n",
       "      <td>0.5743</td>\n",
       "      <td>0.5785</td>\n",
       "      <td>0.5614</td>\n",
       "      <td>0.0225</td>\n",
       "      <td>0.0934</td>\n",
       "      <td>0.0348</td>\n",
       "      <td>2018-08-15 23:35:00</td>\n",
       "    </tr>\n",
       "  </tbody>\n",
       "</table>\n",
       "</div>"
      ],
      "text/plain": [
       "   open_BTC  close_BTC  high_BTC  low_BTC  open_LTC  close_LTC  high_LTC  \\\n",
       "0    0.5704     0.5728    0.5675   0.5840    0.4238     0.4469    0.4161   \n",
       "1    0.5626     0.5726    0.5606   0.5747    0.4201     0.4482    0.4174   \n",
       "2    0.5698     0.5648    0.5605   0.5696    0.4250     0.4437    0.4152   \n",
       "3    0.5691     0.5720    0.5653   0.5847    0.4216     0.4513    0.4189   \n",
       "4    0.5656     0.5713    0.5653   0.5783    0.4189     0.4459    0.4134   \n",
       "\n",
       "   low_LTC  open_ETH  close_ETH  high_ETH  low_ETH  volume_BTC  volume_LTC  \\\n",
       "0   0.4477    0.5738     0.5741    0.5705   0.5717      0.0054      0.0117   \n",
       "1   0.4461    0.5607     0.5766    0.5650   0.5689      0.0107      0.0225   \n",
       "2   0.4416    0.5740     0.5634    0.5602   0.5614      0.0210      0.0212   \n",
       "3   0.4515    0.5701     0.5761    0.5778   0.5853      0.0106      0.0396   \n",
       "4   0.4419    0.5606     0.5743    0.5785   0.5614      0.0225      0.0934   \n",
       "\n",
       "   volume_ETH                date  \n",
       "0      0.0076 2018-08-15 23:55:00  \n",
       "1      0.0217 2018-08-15 23:50:00  \n",
       "2      0.0210 2018-08-15 23:45:00  \n",
       "3      0.0392 2018-08-15 23:40:00  \n",
       "4      0.0348 2018-08-15 23:35:00  "
      ]
     },
     "execution_count": 14,
     "metadata": {},
     "output_type": "execute_result"
    }
   ],
   "source": [
    "convert_log_return(merge2, True).head()"
   ]
  },
  {
   "cell_type": "code",
   "execution_count": 15,
   "metadata": {},
   "outputs": [],
   "source": [
    "def create_dataset(data, time_step, tick1, tick2, target):\n",
    "    '''convert time series data into X, y'''\n",
    "    \"\"\"given tag name(tick1, tick2) of two crpytocurrency\"\"\"\n",
    "    \"\"\"X = [low1, high1, open1, close1, volume1, low2, high2, open2, close2, volume2] for time (i, i + timestep)\"\"\"\n",
    "    \n",
    "    #use #timestep data from tick1, tick2 to predict next time stamp tick1' open price\n",
    "    \n",
    "    #create colume label\n",
    "    input_label1 = [i + '_' + tick1 for i in ['low', 'high', 'open','close', 'volume']]\n",
    "    input_label2 = [i + '_' + tick2 for i in ['low', 'high', 'open','close', 'volume']]\n",
    "    target_label = 'close_' + target\n",
    "    \n",
    "    tmp_data1 = data[input_label1]\n",
    "    tmp_data2 = data[input_label2]\n",
    "    tmp_target = data[target_label]\n",
    "    \n",
    "    transformed_X = []\n",
    "    transformed_y = []\n",
    "    for i in range(time_step, data.shape[0]):\n",
    "        tmp1 = tmp_data1[(i - time_step): i].values.tolist()\n",
    "        tmp2 = tmp_data2[(i - time_step): i].values.tolist()\n",
    "        tmp = []\n",
    "        for j in range(len(tmp1)):\n",
    "            tmp.append(tmp1[j] + tmp2[j])\n",
    "            \n",
    "        #tmp = [low1, high1, open1, close1, volume1, low2, high2, open2, close2, volume2]\n",
    "        transformed_X.append(tmp)\n",
    "        transformed_y.append(tmp_target.iloc[i])\n",
    "    \n",
    "    return np.asarray(transformed_X), np.asarray(transformed_y)"
   ]
  },
  {
   "cell_type": "markdown",
   "metadata": {},
   "source": [
    "### train, test, validation split by week"
   ]
  },
  {
   "cell_type": "code",
   "execution_count": 16,
   "metadata": {},
   "outputs": [],
   "source": [
    "def generate_week_list(start_date, end_date):\n",
    "    '''generate the start and end day of each week'''\n",
    "    '''week_list = {1: [start, end]}'''\n",
    "    \"\"\"In order to split train, test, validation in future step\"\"\"\n",
    "    week_list = {}\n",
    "    curr_week = start_date\n",
    "    i = 1\n",
    "    while curr_week < end_date:\n",
    "        end_week = curr_week + datetime.timedelta(days = 7)\n",
    "        week_list[i] = [curr_week, end_week]\n",
    "        curr_week, i = end_week, i + 1\n",
    "    \n",
    "    return week_list"
   ]
  },
  {
   "cell_type": "code",
   "execution_count": 17,
   "metadata": {},
   "outputs": [],
   "source": [
    "def extract_sample(index, week_list, date, X, y):\n",
    "    '''given index of week we want to sample, extract corresponding sample'''\n",
    "    \n",
    "    sample_X, sample_y = [], []\n",
    "    for i in index:\n",
    "        start, end = week_list[i]\n",
    "        tmp_index = [(date < end) & (date >= start)]\n",
    "        try:\n",
    "            sample_X = np.concatenate((sample_X, X[tmp_index]), axis = 0)\n",
    "            sample_y = np.concatenate((sample_y, y[tmp_index]), axis = 0)\n",
    "        except:\n",
    "            sample_X = X[tmp_index]\n",
    "            sample_y = y[tmp_index]\n",
    "    \n",
    "    return sample_X, sample_y"
   ]
  },
  {
   "cell_type": "code",
   "execution_count": 18,
   "metadata": {},
   "outputs": [],
   "source": [
    "def train_test_val(X, y, date):\n",
    "    '''split train, test, validation'''\n",
    "    #-----------------------------------------#\n",
    "    #--e.g. 52 weeks in total, 0.8, 0.1, 0.1--#\n",
    "    #-----------------------------------------#\n",
    "    \n",
    "    start, end = date.iloc[0], date.iloc[-1]\n",
    "    week_list = generate_week_list(start, end)\n",
    "    index = list(week_list.keys())\n",
    "    train_index, test_index = train_test_split(index, test_size = 0.2)\n",
    "    test_index, val_index = train_test_split(test_index, test_size = 0.5)\n",
    "    train_X, train_y = extract_sample(train_index, week_list, date, X, y)\n",
    "    test_X, test_y = extract_sample(test_index, week_list, date, X, y)\n",
    "    val_X, val_y = extract_sample(val_index, week_list, date, X, y)\n",
    "    \n",
    "    return train_X, train_y, test_X, test_y, val_X, val_y"
   ]
  },
  {
   "cell_type": "code",
   "execution_count": 49,
   "metadata": {},
   "outputs": [],
   "source": [
    "def remove_outlier(data, target):\n",
    "    #calculate lower bound and upper bound\n",
    "    q1 = data[target].quantile(0.25)\n",
    "    q3 = data[target].quantile(0.75)\n",
    "    IQR = q3 - q1\n",
    "    lower_bound = q1 -(1.5 * IQR) \n",
    "    upper_bound = q3 +(1.5 * IQR) \n",
    "    \n",
    "    #filter the data\n",
    "    filter_data = data[(data[target] >= lower_bound) & (data[target] <= upper_bound)]\n",
    "    return filter_data"
   ]
  },
  {
   "cell_type": "markdown",
   "metadata": {},
   "source": [
    "### RNN main program"
   ]
  },
  {
   "cell_type": "code",
   "execution_count": 19,
   "metadata": {},
   "outputs": [],
   "source": [
    "def step_decay(epoch):\n",
    "    \"\"\"learning rate scheduler\"\"\"\n",
    "    \"\"\"start from initial_rate, after epochs_drop step, drop\"\"\"\n",
    "    initial_rate = 0.05\n",
    "    drop = 0.1\n",
    "    epochs_drop = 2.0\n",
    "    \n",
    "    lrate = initial_rate * math.pow(drop, math.floor((1 + epoch)/epochs_drop))\n",
    "    \n",
    "    return lrate\n",
    "                                    "
   ]
  },
  {
   "cell_type": "code",
   "execution_count": 24,
   "metadata": {},
   "outputs": [],
   "source": [
    "def train_RNN(train_X, train_y, test_X, test_y, val_X, val_y, drop_rate, hidden_unit):\n",
    "    '''RNN'''\n",
    "    \n",
    "    #------------LSTM-------------------------\n",
    "\n",
    "    n_step, n_feature = train_X.shape[1:]\n",
    "    model = Sequential()\n",
    "\n",
    "    # Embedding layer\n",
    "    model.add(LSTM(hidden_unit, input_shape=(n_step, n_feature), activation='relu', return_sequences=False))\n",
    "#     model.add(LSTM(hidden_unit, input_shape=(n_step, n_feature), return_sequences=False))\n",
    "#     model.add(LeakyReLU(alpha=0.3))\n",
    "\n",
    "    model.add(Dropout(drop_rate))\n",
    "    model.add(Dense(8, activation='relu'))\n",
    "#     model.add(Dense(16))\n",
    "#     model.add(LeakyReLU(alpha=0.3))\n",
    "    model.add(Dense(1))\n",
    "    \n",
    "    # Compile the model\n",
    "    model.compile(optimizer='adam', loss='mean_squared_error', metrics=['mae'])\n",
    "    lrate = LearningRateScheduler(step_decay)\n",
    "    es = EarlyStopping(monitor='val_loss', mode='min', verbose=1, patience = 5)\n",
    "    history = model.fit(train_X, train_y, epochs=50, batch_size = 200, verbose=1, validation_data=(val_X, val_y), callbacks = [es])\n",
    "\n",
    "    testPredict = model.predict(test_X)\n",
    "    #score = model.evaluate(y_test, testPredict)\n",
    "    \n",
    "    return history, testPredict\n",
    "\n"
   ]
  },
  {
   "cell_type": "code",
   "execution_count": 21,
   "metadata": {},
   "outputs": [],
   "source": [
    "# def optimize(train_X, train_y, test_X, test_y, val_X, val_y):\n",
    "#     drop_rate = 0.4\n",
    "#     hidden_list = [16, 32, 64]\n",
    "#     best_score, best_unit = float(\"inf\"), 100\n",
    "#     score_list = []\n",
    "#     for hidden_unit in hidden_list:\n",
    "#         #start RNN training\n",
    "#         history, testPredict = train_RNN(train_X, train_y, test_X, test_y, val_X, val_y, drop_rate, hidden_unit)\n",
    "#         score = history.history['val_loss'][0]\n",
    "#         score_list.append(score)\n",
    "#         if score < best_score:\n",
    "#             best_score = score\n",
    "#             best_unit = hidden_unit\n",
    "#             best_history = history\n",
    "#             best_pred = testPredict\n",
    "#         return score_list, best_score, best_unit, best_history, best_pred"
   ]
  },
  {
   "cell_type": "code",
   "execution_count": 22,
   "metadata": {},
   "outputs": [],
   "source": [
    "def mainProgram(flag, tick1, tick2, target, drop_rate, hidden_unit):\n",
    "    #read data\n",
    "    merge2 = extract_merge('2018')\n",
    "    merge2_2017 = extract_merge('2017')\n",
    "    \n",
    "    #convert log return\n",
    "    return_matrix = convert_log_return(merge2, flag)\n",
    "    \n",
    "    #split X and y\n",
    "    data = return_matrix\n",
    "    time_step = 60 # about 5 hours\n",
    "    #X is N x time_step x 10 matrix\n",
    "    X, y = create_dataset(data, time_step, tick1, tick2, target)\n",
    "    \n",
    "    #train, test, validation split\n",
    "    date = return_matrix['date'][time_step:]\n",
    "    train_X, train_y, test_X, test_y, val_X, val_y = train_test_val(X, y, date)\n",
    "    \n",
    "    #start RNN training\n",
    "    history, testPredict = train_RNN(train_X, train_y, test_X, test_y, val_X, val_y, drop_rate, hidden_unit)\n",
    "    \n",
    "    return history, testPredict, test_y"
   ]
  },
  {
   "cell_type": "code",
   "execution_count": 23,
   "metadata": {},
   "outputs": [
    {
     "name": "stdout",
     "output_type": "stream",
     "text": [
      "Train on 82504 samples, validate on 12050 samples\n",
      "Epoch 1/50\n",
      "82504/82504 [==============================] - 37s 444us/step - loss: 840720.0382 - mean_absolute_error: 139.6497 - val_loss: 7532.9607 - val_mean_absolute_error: 39.5101\n",
      "Epoch 2/50\n",
      "82504/82504 [==============================] - 34s 413us/step - loss: 298795.2511 - mean_absolute_error: 63.0868 - val_loss: 2264.9820 - val_mean_absolute_error: 22.0185\n",
      "Epoch 3/50\n",
      "82504/82504 [==============================] - 35s 422us/step - loss: 14324.7907 - mean_absolute_error: 31.0768 - val_loss: 781.1898 - val_mean_absolute_error: 10.5029\n",
      "Epoch 4/50\n",
      "82504/82504 [==============================] - 35s 422us/step - loss: 3131.1497 - mean_absolute_error: 19.5243 - val_loss: 365.3225 - val_mean_absolute_error: 8.4670\n",
      "Epoch 5/50\n",
      "82504/82504 [==============================] - 35s 419us/step - loss: 9581.2451 - mean_absolute_error: 16.0274 - val_loss: 363.4518 - val_mean_absolute_error: 6.3464\n",
      "Epoch 6/50\n",
      "82504/82504 [==============================] - 33s 402us/step - loss: 1149.4474 - mean_absolute_error: 11.9469 - val_loss: 314.7414 - val_mean_absolute_error: 5.2053\n",
      "Epoch 7/50\n",
      "82504/82504 [==============================] - 34s 415us/step - loss: 201217.2866 - mean_absolute_error: 40.0932 - val_loss: 14227.9747 - val_mean_absolute_error: 57.7058\n",
      "Epoch 8/50\n",
      "82504/82504 [==============================] - 34s 406us/step - loss: 8288.8104 - mean_absolute_error: 31.5867 - val_loss: 1670.8006 - val_mean_absolute_error: 11.7314\n",
      "Epoch 9/50\n",
      "82504/82504 [==============================] - 34s 415us/step - loss: 3697.3455 - mean_absolute_error: 20.8938 - val_loss: 289.9420 - val_mean_absolute_error: 8.8831\n",
      "Epoch 10/50\n",
      "82504/82504 [==============================] - 35s 419us/step - loss: 9312.2254 - mean_absolute_error: 27.2606 - val_loss: 4264.6213 - val_mean_absolute_error: 29.1405\n",
      "Epoch 11/50\n",
      "82504/82504 [==============================] - 34s 415us/step - loss: 20412.9492 - mean_absolute_error: 40.6269 - val_loss: 3194.9691 - val_mean_absolute_error: 27.2981\n",
      "Epoch 12/50\n",
      "82504/82504 [==============================] - 35s 424us/step - loss: 172636.0769 - mean_absolute_error: 36.0605 - val_loss: 483.2692 - val_mean_absolute_error: 13.2821\n",
      "Epoch 13/50\n",
      "82504/82504 [==============================] - 35s 419us/step - loss: 405.0052 - mean_absolute_error: 8.1932 - val_loss: 165.9640 - val_mean_absolute_error: 7.5946\n",
      "Epoch 14/50\n",
      "82504/82504 [==============================] - 34s 416us/step - loss: 241.1167 - mean_absolute_error: 5.9707 - val_loss: 103.6411 - val_mean_absolute_error: 6.4918\n",
      "Epoch 15/50\n",
      "82504/82504 [==============================] - 34s 410us/step - loss: 149.9869 - mean_absolute_error: 5.1066 - val_loss: 69.5048 - val_mean_absolute_error: 5.2841\n",
      "Epoch 16/50\n",
      "82504/82504 [==============================] - 34s 408us/step - loss: 127.4547 - mean_absolute_error: 4.3060 - val_loss: 46.6427 - val_mean_absolute_error: 3.6388\n",
      "Epoch 17/50\n",
      "82504/82504 [==============================] - 33s 405us/step - loss: 101.2649 - mean_absolute_error: 3.7752 - val_loss: 32.5273 - val_mean_absolute_error: 3.3396\n",
      "Epoch 18/50\n",
      "82504/82504 [==============================] - 33s 404us/step - loss: 83.6016 - mean_absolute_error: 3.3493 - val_loss: 52.8169 - val_mean_absolute_error: 2.7664\n",
      "Epoch 19/50\n",
      "82504/82504 [==============================] - 35s 422us/step - loss: 68.0427 - mean_absolute_error: 2.9258 - val_loss: 24.2295 - val_mean_absolute_error: 2.4407\n",
      "Epoch 20/50\n",
      "82504/82504 [==============================] - 34s 409us/step - loss: 70.0177 - mean_absolute_error: 2.7802 - val_loss: 25.3384 - val_mean_absolute_error: 2.3874\n",
      "Epoch 21/50\n",
      "82504/82504 [==============================] - 34s 414us/step - loss: 52.6493 - mean_absolute_error: 2.5079 - val_loss: 20.7083 - val_mean_absolute_error: 1.7741\n",
      "Epoch 22/50\n",
      "82504/82504 [==============================] - 36s 440us/step - loss: 182.3999 - mean_absolute_error: 3.1392 - val_loss: 1854.0223 - val_mean_absolute_error: 15.5933\n",
      "Epoch 23/50\n",
      "82504/82504 [==============================] - 35s 420us/step - loss: 224352.8899 - mean_absolute_error: 11.9653 - val_loss: 168004.9938 - val_mean_absolute_error: 66.0488\n",
      "Epoch 24/50\n",
      "82504/82504 [==============================] - 34s 408us/step - loss: 91064.5949 - mean_absolute_error: 85.3197 - val_loss: 2277.2095 - val_mean_absolute_error: 19.4234\n",
      "Epoch 25/50\n",
      "82504/82504 [==============================] - 34s 409us/step - loss: 12629.5954 - mean_absolute_error: 44.6896 - val_loss: 163.2873 - val_mean_absolute_error: 8.3988\n",
      "Epoch 26/50\n",
      "82504/82504 [==============================] - 33s 402us/step - loss: 3145.0931 - mean_absolute_error: 17.7249 - val_loss: 22.5596 - val_mean_absolute_error: 3.6853\n",
      "Epoch 00026: early stopping\n"
     ]
    }
   ],
   "source": [
    "#use log return data (not normalize)\n",
    "flag = False\n",
    "tick1, tick2 = \"BTC\", \"ETH\"\n",
    "target = \"BTC\"\n",
    "drop_rate = 0.4\n",
    "hidden_unit = 32\n",
    "hist1, pred1, test1 = mainProgram(flag, tick1, tick2, target, drop_rate, hidden_unit)"
   ]
  },
  {
   "cell_type": "code",
   "execution_count": 20,
   "metadata": {},
   "outputs": [
    {
     "name": "stdout",
     "output_type": "stream",
     "text": [
      "Train on 82457 samples, validate on 12094 samples\n",
      "Epoch 1/50\n",
      "82457/82457 [==============================] - 33s 403us/step - loss: 0.0055 - mean_absolute_error: 0.0360 - val_loss: 0.0093 - val_mean_absolute_error: 0.0964\n",
      "Epoch 2/50\n",
      "82457/82457 [==============================] - 32s 388us/step - loss: 8.4762e-05 - mean_absolute_error: 0.0037 - val_loss: 0.0094 - val_mean_absolute_error: 0.0965\n",
      "Epoch 3/50\n",
      "82457/82457 [==============================] - 35s 419us/step - loss: 8.3161e-05 - mean_absolute_error: 0.0035 - val_loss: 0.0093 - val_mean_absolute_error: 0.0961\n",
      "Epoch 4/50\n",
      "82457/82457 [==============================] - 36s 432us/step - loss: 8.3019e-05 - mean_absolute_error: 0.0035 - val_loss: 0.0094 - val_mean_absolute_error: 0.0964\n",
      "Epoch 5/50\n",
      "82457/82457 [==============================] - 34s 412us/step - loss: 8.3420e-05 - mean_absolute_error: 0.0036 - val_loss: 0.0085 - val_mean_absolute_error: 0.0917\n",
      "Epoch 6/50\n",
      "82457/82457 [==============================] - 35s 420us/step - loss: 8.3810e-05 - mean_absolute_error: 0.0036 - val_loss: 0.0084 - val_mean_absolute_error: 0.0911\n",
      "Epoch 7/50\n",
      "82457/82457 [==============================] - 35s 419us/step - loss: 8.3967e-05 - mean_absolute_error: 0.0036 - val_loss: 0.0088 - val_mean_absolute_error: 0.0937\n",
      "Epoch 8/50\n",
      "82457/82457 [==============================] - 33s 397us/step - loss: 8.3311e-05 - mean_absolute_error: 0.0036 - val_loss: 0.0066 - val_mean_absolute_error: 0.0806\n",
      "Epoch 9/50\n",
      "82457/82457 [==============================] - 34s 413us/step - loss: 8.3353e-05 - mean_absolute_error: 0.0036 - val_loss: 0.0066 - val_mean_absolute_error: 0.0810\n",
      "Epoch 10/50\n",
      "82457/82457 [==============================] - 35s 423us/step - loss: 8.2333e-05 - mean_absolute_error: 0.0035 - val_loss: 0.0063 - val_mean_absolute_error: 0.0791\n",
      "Epoch 11/50\n",
      "82457/82457 [==============================] - 33s 399us/step - loss: 8.3013e-05 - mean_absolute_error: 0.0036 - val_loss: 0.0061 - val_mean_absolute_error: 0.0779\n",
      "Epoch 12/50\n",
      "82457/82457 [==============================] - 33s 400us/step - loss: 8.2148e-05 - mean_absolute_error: 0.0035 - val_loss: 0.0057 - val_mean_absolute_error: 0.0752\n",
      "Epoch 13/50\n",
      "82457/82457 [==============================] - 33s 403us/step - loss: 8.2891e-05 - mean_absolute_error: 0.0036 - val_loss: 0.0055 - val_mean_absolute_error: 0.0740\n",
      "Epoch 14/50\n",
      "82457/82457 [==============================] - 33s 405us/step - loss: 8.2611e-05 - mean_absolute_error: 0.0036 - val_loss: 0.0047 - val_mean_absolute_error: 0.0681\n",
      "Epoch 15/50\n",
      "82457/82457 [==============================] - 34s 410us/step - loss: 8.2099e-05 - mean_absolute_error: 0.0035 - val_loss: 0.0037 - val_mean_absolute_error: 0.0605\n",
      "Epoch 16/50\n",
      "82457/82457 [==============================] - 33s 403us/step - loss: 8.1181e-05 - mean_absolute_error: 0.0035 - val_loss: 0.0036 - val_mean_absolute_error: 0.0595\n",
      "Epoch 17/50\n",
      "82457/82457 [==============================] - 33s 397us/step - loss: 8.0850e-05 - mean_absolute_error: 0.0034 - val_loss: 0.0034 - val_mean_absolute_error: 0.0576\n",
      "Epoch 18/50\n",
      "82457/82457 [==============================] - 33s 406us/step - loss: 8.0475e-05 - mean_absolute_error: 0.0035 - val_loss: 0.0035 - val_mean_absolute_error: 0.0588\n",
      "Epoch 19/50\n",
      "82457/82457 [==============================] - 36s 433us/step - loss: 8.0622e-05 - mean_absolute_error: 0.0035 - val_loss: 0.0034 - val_mean_absolute_error: 0.0574\n",
      "Epoch 20/50\n",
      "82457/82457 [==============================] - 34s 414us/step - loss: 7.8829e-05 - mean_absolute_error: 0.0034 - val_loss: 0.0031 - val_mean_absolute_error: 0.0547\n",
      "Epoch 21/50\n",
      "82457/82457 [==============================] - 36s 435us/step - loss: 7.8493e-05 - mean_absolute_error: 0.0034 - val_loss: 0.0028 - val_mean_absolute_error: 0.0523\n",
      "Epoch 22/50\n",
      "82457/82457 [==============================] - 35s 424us/step - loss: 7.9010e-05 - mean_absolute_error: 0.0034 - val_loss: 0.0029 - val_mean_absolute_error: 0.0531\n",
      "Epoch 23/50\n",
      "82457/82457 [==============================] - 34s 414us/step - loss: 7.8182e-05 - mean_absolute_error: 0.0034 - val_loss: 0.0027 - val_mean_absolute_error: 0.0518\n",
      "Epoch 24/50\n",
      "82457/82457 [==============================] - 33s 396us/step - loss: 7.7804e-05 - mean_absolute_error: 0.0033 - val_loss: 0.0030 - val_mean_absolute_error: 0.0540\n",
      "Epoch 25/50\n",
      "82457/82457 [==============================] - 32s 393us/step - loss: 7.8757e-05 - mean_absolute_error: 0.0034 - val_loss: 0.0031 - val_mean_absolute_error: 0.0546\n",
      "Epoch 26/50\n",
      "82457/82457 [==============================] - 34s 410us/step - loss: 7.7099e-05 - mean_absolute_error: 0.0034 - val_loss: 0.0028 - val_mean_absolute_error: 0.0527\n",
      "Epoch 27/50\n",
      "82457/82457 [==============================] - 34s 413us/step - loss: 7.7331e-05 - mean_absolute_error: 0.0033 - val_loss: 0.0028 - val_mean_absolute_error: 0.0528\n",
      "Epoch 28/50\n",
      "82457/82457 [==============================] - 33s 402us/step - loss: 7.7044e-05 - mean_absolute_error: 0.0033 - val_loss: 0.0029 - val_mean_absolute_error: 0.0530\n",
      "Epoch 00028: early stopping\n"
     ]
    }
   ],
   "source": [
    "#use log return data (normalize)\n",
    "flag = True\n",
    "tick1, tick2 = \"BTC\", \"ETH\"\n",
    "target = \"BTC\"\n",
    "drop_rate = 0.4\n",
    "hidden_unit = 16\n",
    "hist2, pred2, test2 = mainProgram(flag, tick1, tick2, target, drop_rate, hidden_unit)"
   ]
  },
  {
   "cell_type": "code",
   "execution_count": 28,
   "metadata": {},
   "outputs": [
    {
     "data": {
      "image/png": "[encoded data removed]",
      "text/plain": [
       "<Figure size 432x288 with 1 Axes>"
      ]
     },
     "metadata": {
      "needs_background": "light"
     },
     "output_type": "display_data"
    }
   ],
   "source": [
    "plt.plot(pred1, label = \"predictin\")\n",
    "plt.plot(test1, label = \"test data\")\n",
    "plt.legend()\n",
    "plt.title(\"result without normalization\")\n",
    "plt.show()"
   ]
  },
  {
   "cell_type": "code",
   "execution_count": 22,
   "metadata": {},
   "outputs": [
    {
     "data": {
      "image/png": "[encoded data removed]",
      "text/plain": [
       "<Figure size 432x288 with 1 Axes>"
      ]
     },
     "metadata": {
      "needs_background": "light"
     },
     "output_type": "display_data"
    }
   ],
   "source": [
    "plt.plot(pred2, label = \"predictin\")\n",
    "plt.plot(test2, label = \"test data\")\n",
    "plt.legend()\n",
    "plt.title(\"result with normalization \")\n",
    "plt.show()"
   ]
  },
  {
   "cell_type": "code",
   "execution_count": 53,
   "metadata": {},
   "outputs": [],
   "source": [
    "#merge2 is the extract & merge data\n",
    "#return matrix stores all log return data\n",
    "\n",
    "return_matrix = convert_log_return(merge2, False)\n",
    "filtered_matrix = remove_outlier(return_matrix,\"open_BTC\")"
   ]
  },
  {
   "cell_type": "code",
   "execution_count": 31,
   "metadata": {},
   "outputs": [],
   "source": [
    "data = return_matrix\n",
    "time_step = 60 # about 5 hours\n",
    "tick1, tick2 = 'BTC', 'LTC'\n",
    "target = 'BTC'\n",
    "#X is N x time_step x 10 matrix\n",
    "X, y = create_dataset(data, time_step, tick1, tick2, target)"
   ]
  },
  {
   "cell_type": "code",
   "execution_count": 32,
   "metadata": {},
   "outputs": [],
   "source": [
    "date = return_matrix['date'][time_step:]\n",
    "train_X, train_y, test_X, test_y, val_X, val_y = train_test_val(X, y, date)"
   ]
  },
  {
   "cell_type": "code",
   "execution_count": 57,
   "metadata": {},
   "outputs": [],
   "source": [
    "filtered_matrix = remove_outlier(return_matrix,\"open_BTC\")\n",
    "filtered_X, filtered_y = create_dataset(filtered_matrix, 60, \"BTC\",\"LTC\", \"BTC\")\n",
    "date1 = filtered_matrix['date'][60:]\n",
    "train1_X, train1_y, test1_X, test1_y, val1_X, val1_y = train_test_val(filtered_X, filtered_y, date1)"
   ]
  },
  {
   "cell_type": "code",
   "execution_count": 33,
   "metadata": {},
   "outputs": [
    {
     "data": {
      "text/plain": [
       "(82459, 60, 10)"
      ]
     },
     "execution_count": 33,
     "metadata": {},
     "output_type": "execute_result"
    }
   ],
   "source": [
    "train_X.shape"
   ]
  },
  {
   "cell_type": "code",
   "execution_count": 34,
   "metadata": {},
   "outputs": [
    {
     "data": {
      "text/plain": [
       "(10080, 60, 10)"
      ]
     },
     "execution_count": 34,
     "metadata": {},
     "output_type": "execute_result"
    }
   ],
   "source": [
    "test_X.shape"
   ]
  },
  {
   "cell_type": "code",
   "execution_count": 35,
   "metadata": {},
   "outputs": [
    {
     "name": "stdout",
     "output_type": "stream",
     "text": [
      "Train on 82459 samples, validate on 12089 samples\n",
      "Epoch 1/50\n",
      "82459/82459 [==============================] - 17s 209us/step - loss: 29.3783 - mean_absolute_error: 1.2981 - val_loss: 0.2696 - val_mean_absolute_error: 0.1990\n",
      "Epoch 2/50\n",
      "82459/82459 [==============================] - 17s 204us/step - loss: 0.0890 - mean_absolute_error: 0.0827 - val_loss: 0.0464 - val_mean_absolute_error: 0.0659\n",
      "Epoch 3/50\n",
      "82459/82459 [==============================] - 17s 204us/step - loss: 0.0187 - mean_absolute_error: 0.0352 - val_loss: 0.0129 - val_mean_absolute_error: 0.0289\n",
      "Epoch 4/50\n",
      "82459/82459 [==============================] - 18s 220us/step - loss: 0.0057 - mean_absolute_error: 0.0179 - val_loss: 0.0071 - val_mean_absolute_error: 0.0150\n",
      "Epoch 5/50\n",
      "82459/82459 [==============================] - 18s 219us/step - loss: 0.0035 - mean_absolute_error: 0.0121 - val_loss: 0.0024 - val_mean_absolute_error: 0.0097\n",
      "Epoch 6/50\n",
      "82459/82459 [==============================] - 18s 215us/step - loss: 0.0028 - mean_absolute_error: 0.0091 - val_loss: 0.0010 - val_mean_absolute_error: 0.0068\n",
      "Epoch 7/50\n",
      "82459/82459 [==============================] - 18s 216us/step - loss: 0.0025 - mean_absolute_error: 0.0080 - val_loss: 5.9170e-04 - val_mean_absolute_error: 0.0058\n",
      "Epoch 8/50\n",
      "82459/82459 [==============================] - 17s 212us/step - loss: 0.0015 - mean_absolute_error: 0.0064 - val_loss: 3.9737e-04 - val_mean_absolute_error: 0.0041\n",
      "Epoch 9/50\n",
      "82459/82459 [==============================] - 17s 201us/step - loss: 0.0011 - mean_absolute_error: 0.0054 - val_loss: 2.8492e-04 - val_mean_absolute_error: 0.0056\n",
      "Epoch 10/50\n",
      "82459/82459 [==============================] - 17s 207us/step - loss: 0.0011 - mean_absolute_error: 0.0050 - val_loss: 2.3840e-04 - val_mean_absolute_error: 0.0030\n",
      "Epoch 11/50\n",
      "82459/82459 [==============================] - 17s 205us/step - loss: 7.8422e-04 - mean_absolute_error: 0.0044 - val_loss: 1.2161e-04 - val_mean_absolute_error: 0.0028\n",
      "Epoch 12/50\n",
      "82459/82459 [==============================] - 17s 204us/step - loss: 5.0869e-04 - mean_absolute_error: 0.0042 - val_loss: 9.4879e-05 - val_mean_absolute_error: 0.0025\n",
      "Epoch 13/50\n",
      "82459/82459 [==============================] - 17s 207us/step - loss: 3.5211e-04 - mean_absolute_error: 0.0036 - val_loss: 8.4998e-05 - val_mean_absolute_error: 0.0025\n",
      "Epoch 14/50\n",
      "82459/82459 [==============================] - 17s 200us/step - loss: 3.4571e-04 - mean_absolute_error: 0.0035 - val_loss: 7.5753e-05 - val_mean_absolute_error: 0.0023\n",
      "Epoch 15/50\n",
      "82459/82459 [==============================] - 17s 210us/step - loss: 2.9927e-04 - mean_absolute_error: 0.0034 - val_loss: 8.9815e-05 - val_mean_absolute_error: 0.0033\n",
      "Epoch 16/50\n",
      "82459/82459 [==============================] - 17s 201us/step - loss: 2.6630e-04 - mean_absolute_error: 0.0032 - val_loss: 5.5273e-05 - val_mean_absolute_error: 0.0025\n",
      "Epoch 17/50\n",
      "82459/82459 [==============================] - 17s 210us/step - loss: 5.6131e-04 - mean_absolute_error: 0.0038 - val_loss: 4.7490e-05 - val_mean_absolute_error: 0.0023\n",
      "Epoch 18/50\n",
      "82459/82459 [==============================] - 17s 203us/step - loss: 2.0645e-04 - mean_absolute_error: 0.0029 - val_loss: 4.2707e-05 - val_mean_absolute_error: 0.0020\n",
      "Epoch 19/50\n",
      "82459/82459 [==============================] - 17s 206us/step - loss: 2.0526e-04 - mean_absolute_error: 0.0031 - val_loss: 1.2620e-04 - val_mean_absolute_error: 0.0051\n",
      "Epoch 20/50\n",
      "82459/82459 [==============================] - 18s 216us/step - loss: 1.6711e-04 - mean_absolute_error: 0.0030 - val_loss: 8.4444e-05 - val_mean_absolute_error: 0.0040\n",
      "Epoch 21/50\n",
      "82459/82459 [==============================] - 18s 214us/step - loss: 1.5586e-04 - mean_absolute_error: 0.0030 - val_loss: 3.0133e-05 - val_mean_absolute_error: 0.0019\n",
      "Epoch 22/50\n",
      "82459/82459 [==============================] - 17s 209us/step - loss: 0.0046 - mean_absolute_error: 0.0123 - val_loss: 2.1459e-05 - val_mean_absolute_error: 0.0017\n",
      "Epoch 23/50\n",
      "82459/82459 [==============================] - 16s 200us/step - loss: 9.8161e-05 - mean_absolute_error: 0.0026 - val_loss: 2.2382e-05 - val_mean_absolute_error: 0.0017\n",
      "Epoch 24/50\n",
      "82459/82459 [==============================] - 17s 207us/step - loss: 3.6662e-04 - mean_absolute_error: 0.0059 - val_loss: 2.8643e-04 - val_mean_absolute_error: 0.0081\n",
      "Epoch 25/50\n",
      "82459/82459 [==============================] - 17s 207us/step - loss: 1.1612e-04 - mean_absolute_error: 0.0034 - val_loss: 1.1717e-04 - val_mean_absolute_error: 0.0057\n",
      "Epoch 26/50\n",
      "82459/82459 [==============================] - 17s 205us/step - loss: 0.0035 - mean_absolute_error: 0.0093 - val_loss: 3.0229e-05 - val_mean_absolute_error: 0.0024\n",
      "Epoch 27/50\n",
      "82459/82459 [==============================] - 17s 206us/step - loss: 4.1161e-05 - mean_absolute_error: 0.0021 - val_loss: 1.9047e-05 - val_mean_absolute_error: 0.0017\n",
      "Epoch 28/50\n",
      "82459/82459 [==============================] - 17s 202us/step - loss: 0.0014 - mean_absolute_error: 0.0087 - val_loss: 4.5024e-05 - val_mean_absolute_error: 0.0017\n",
      "Epoch 29/50\n",
      "82459/82459 [==============================] - 17s 202us/step - loss: 6.2680e-04 - mean_absolute_error: 0.0054 - val_loss: 0.0314 - val_mean_absolute_error: 0.0832\n",
      "Epoch 30/50\n",
      "82459/82459 [==============================] - 17s 204us/step - loss: 0.0024 - mean_absolute_error: 0.0112 - val_loss: 1.7764e-05 - val_mean_absolute_error: 0.0016\n",
      "Epoch 31/50\n",
      "82459/82459 [==============================] - 17s 203us/step - loss: 2.2571e-05 - mean_absolute_error: 0.0017 - val_loss: 1.7579e-05 - val_mean_absolute_error: 0.0018\n",
      "Epoch 32/50\n",
      "82459/82459 [==============================] - 17s 203us/step - loss: 8.0035e-05 - mean_absolute_error: 0.0028 - val_loss: 7.2132e-04 - val_mean_absolute_error: 0.0155\n",
      "Epoch 33/50\n",
      "82459/82459 [==============================] - 17s 202us/step - loss: 5.8713e-05 - mean_absolute_error: 0.0026 - val_loss: 4.2717e-05 - val_mean_absolute_error: 0.0028\n",
      "Epoch 34/50\n",
      "82459/82459 [==============================] - 17s 202us/step - loss: 1.5704e-04 - mean_absolute_error: 0.0036 - val_loss: 1.7282e-05 - val_mean_absolute_error: 0.0019\n",
      "Epoch 35/50\n",
      "82459/82459 [==============================] - 17s 202us/step - loss: 3.0803e-05 - mean_absolute_error: 0.0021 - val_loss: 1.5405e-05 - val_mean_absolute_error: 0.0014\n",
      "Epoch 36/50\n",
      "82459/82459 [==============================] - 17s 200us/step - loss: 0.0013 - mean_absolute_error: 0.0068 - val_loss: 1.5550e-05 - val_mean_absolute_error: 0.0015\n",
      "Epoch 37/50\n",
      "82459/82459 [==============================] - 17s 204us/step - loss: 1.7341e-05 - mean_absolute_error: 0.0015 - val_loss: 1.5217e-05 - val_mean_absolute_error: 0.0014\n",
      "Epoch 38/50\n",
      "82459/82459 [==============================] - 18s 224us/step - loss: 1.6196e-05 - mean_absolute_error: 0.0014 - val_loss: 1.5652e-05 - val_mean_absolute_error: 0.0014\n",
      "Epoch 39/50\n",
      "82459/82459 [==============================] - 17s 209us/step - loss: 1.6641e-05 - mean_absolute_error: 0.0014 - val_loss: 1.5175e-05 - val_mean_absolute_error: 0.0014\n",
      "Epoch 40/50\n",
      "82459/82459 [==============================] - 17s 205us/step - loss: 1.6148e-05 - mean_absolute_error: 0.0014 - val_loss: 1.5135e-05 - val_mean_absolute_error: 0.0014\n",
      "Epoch 41/50\n",
      "82459/82459 [==============================] - 17s 211us/step - loss: 2.1765e-05 - mean_absolute_error: 0.0015 - val_loss: 1.5443e-05 - val_mean_absolute_error: 0.0014\n",
      "Epoch 42/50\n",
      "82459/82459 [==============================] - 18s 213us/step - loss: 1.5953e-05 - mean_absolute_error: 0.0014 - val_loss: 1.5192e-05 - val_mean_absolute_error: 0.0014\n",
      "Epoch 43/50\n",
      "82459/82459 [==============================] - 17s 210us/step - loss: 1.6081e-05 - mean_absolute_error: 0.0014 - val_loss: 1.5227e-05 - val_mean_absolute_error: 0.0014\n",
      "Epoch 44/50\n",
      "82459/82459 [==============================] - 18s 218us/step - loss: 1.6078e-05 - mean_absolute_error: 0.0014 - val_loss: 1.5178e-05 - val_mean_absolute_error: 0.0014\n",
      "Epoch 45/50\n",
      "82459/82459 [==============================] - 18s 222us/step - loss: 1.6186e-05 - mean_absolute_error: 0.0015 - val_loss: 1.5023e-05 - val_mean_absolute_error: 0.0014\n",
      "Epoch 46/50\n",
      "82459/82459 [==============================] - 17s 212us/step - loss: 1.5822e-05 - mean_absolute_error: 0.0014 - val_loss: 1.5070e-05 - val_mean_absolute_error: 0.0014\n"
     ]
    },
    {
     "name": "stdout",
     "output_type": "stream",
     "text": [
      "Epoch 47/50\n",
      "82459/82459 [==============================] - 17s 204us/step - loss: 1.6062e-05 - mean_absolute_error: 0.0015 - val_loss: 1.5314e-05 - val_mean_absolute_error: 0.0015\n",
      "Epoch 48/50\n",
      "82459/82459 [==============================] - 17s 211us/step - loss: 1.6228e-05 - mean_absolute_error: 0.0015 - val_loss: 1.5508e-05 - val_mean_absolute_error: 0.0015\n",
      "Epoch 49/50\n",
      "82459/82459 [==============================] - 18s 219us/step - loss: 1.5876e-05 - mean_absolute_error: 0.0015 - val_loss: 1.5548e-05 - val_mean_absolute_error: 0.0014\n",
      "Epoch 50/50\n",
      "82459/82459 [==============================] - 17s 209us/step - loss: 1.5984e-05 - mean_absolute_error: 0.0015 - val_loss: 1.5571e-05 - val_mean_absolute_error: 0.0015\n",
      "Epoch 00050: early stopping\n"
     ]
    }
   ],
   "source": [
    "history, testPredict = train_RNN(train_X, train_y, test_X, test_y, val_X, val_y, 0.4, 16)"
   ]
  },
  {
   "cell_type": "code",
   "execution_count": 41,
   "metadata": {},
   "outputs": [
    {
     "data": {
      "image/png": "[encoded data removed]",
      "text/plain": [
       "<Figure size 432x288 with 1 Axes>"
      ]
     },
     "metadata": {
      "needs_background": "light"
     },
     "output_type": "display_data"
    }
   ],
   "source": [
    "loss = history1.history['loss']\n",
    "val_loss = history1.history['val_loss']\n",
    "plt.plot(range(2, len(loss) + 1), loss[1:], 'r-', label='Training Loss')\n",
    "plt.plot(range(2, len(loss) + 1), val_loss[1:], 'b-', label='Validation Loss')\n",
    "plt.legend()\n",
    "plt.show()"
   ]
  },
  {
   "cell_type": "markdown",
   "metadata": {},
   "source": [
    "### Result after removing outliers"
   ]
  },
  {
   "cell_type": "code",
   "execution_count": 60,
   "metadata": {},
   "outputs": [
    {
     "name": "stdout",
     "output_type": "stream",
     "text": [
      "Train on 72396 samples, validate on 11133 samples\n",
      "Epoch 1/50\n",
      "72396/72396 [==============================] - 15s 213us/step - loss: 5810.1159 - mean_absolute_error: 28.0241 - val_loss: 32.9828 - val_mean_absolute_error: 3.2964\n",
      "Epoch 2/50\n",
      "72396/72396 [==============================] - 16s 217us/step - loss: 14.7551 - mean_absolute_error: 1.2303 - val_loss: 2.5260 - val_mean_absolute_error: 0.7202\n",
      "Epoch 3/50\n",
      "72396/72396 [==============================] - 15s 209us/step - loss: 6.2567 - mean_absolute_error: 0.6122 - val_loss: 1.3081 - val_mean_absolute_error: 0.4421\n",
      "Epoch 4/50\n",
      "72396/72396 [==============================] - 15s 210us/step - loss: 6.6476 - mean_absolute_error: 0.5608 - val_loss: 2.3744 - val_mean_absolute_error: 0.4563\n",
      "Epoch 5/50\n",
      "72396/72396 [==============================] - 15s 211us/step - loss: 3.2051 - mean_absolute_error: 0.3907 - val_loss: 1.0755 - val_mean_absolute_error: 0.3166\n",
      "Epoch 6/50\n",
      "72396/72396 [==============================] - 15s 207us/step - loss: 1.8252 - mean_absolute_error: 0.3079 - val_loss: 0.7554 - val_mean_absolute_error: 0.2447\n",
      "Epoch 7/50\n",
      "72396/72396 [==============================] - 16s 214us/step - loss: 2.2186 - mean_absolute_error: 0.3021 - val_loss: 1.6133 - val_mean_absolute_error: 0.3754\n",
      "Epoch 8/50\n",
      "72396/72396 [==============================] - 16s 219us/step - loss: 2.7806 - mean_absolute_error: 0.3195 - val_loss: 2.1453 - val_mean_absolute_error: 0.3908\n",
      "Epoch 9/50\n",
      "72396/72396 [==============================] - 16s 220us/step - loss: 1.7444 - mean_absolute_error: 0.2261 - val_loss: 0.3689 - val_mean_absolute_error: 0.2713\n",
      "Epoch 10/50\n",
      "72396/72396 [==============================] - 15s 210us/step - loss: 0.5903 - mean_absolute_error: 0.1535 - val_loss: 1.1826 - val_mean_absolute_error: 0.2005\n",
      "Epoch 11/50\n",
      "72396/72396 [==============================] - 15s 210us/step - loss: 0.4639 - mean_absolute_error: 0.1311 - val_loss: 0.1548 - val_mean_absolute_error: 0.1338\n",
      "Epoch 12/50\n",
      "72396/72396 [==============================] - 15s 213us/step - loss: 0.5977 - mean_absolute_error: 0.1478 - val_loss: 0.1285 - val_mean_absolute_error: 0.1736\n",
      "Epoch 13/50\n",
      "72396/72396 [==============================] - 15s 210us/step - loss: 0.8556 - mean_absolute_error: 0.1238 - val_loss: 0.0954 - val_mean_absolute_error: 0.0987\n",
      "Epoch 14/50\n",
      "72396/72396 [==============================] - 15s 207us/step - loss: 0.2666 - mean_absolute_error: 0.0903 - val_loss: 0.7606 - val_mean_absolute_error: 0.0945\n",
      "Epoch 15/50\n",
      "72396/72396 [==============================] - 15s 212us/step - loss: 0.4574 - mean_absolute_error: 0.0812 - val_loss: 0.0874 - val_mean_absolute_error: 0.0636\n",
      "Epoch 16/50\n",
      "72396/72396 [==============================] - 15s 207us/step - loss: 0.0991 - mean_absolute_error: 0.0642 - val_loss: 0.0826 - val_mean_absolute_error: 0.0634\n",
      "Epoch 17/50\n",
      "72396/72396 [==============================] - 15s 209us/step - loss: 0.1398 - mean_absolute_error: 0.0571 - val_loss: 0.0789 - val_mean_absolute_error: 0.0736\n",
      "Epoch 18/50\n",
      "72396/72396 [==============================] - 15s 209us/step - loss: 0.0952 - mean_absolute_error: 0.0505 - val_loss: 0.0749 - val_mean_absolute_error: 0.0472\n",
      "Epoch 19/50\n",
      "72396/72396 [==============================] - 15s 207us/step - loss: 0.0644 - mean_absolute_error: 0.0488 - val_loss: 0.0567 - val_mean_absolute_error: 0.0365\n",
      "Epoch 20/50\n",
      "72396/72396 [==============================] - 15s 207us/step - loss: 0.0728 - mean_absolute_error: 0.0473 - val_loss: 0.0506 - val_mean_absolute_error: 0.0246\n",
      "Epoch 21/50\n",
      "72396/72396 [==============================] - 15s 212us/step - loss: 0.0815 - mean_absolute_error: 0.0497 - val_loss: 0.0525 - val_mean_absolute_error: 0.0455\n",
      "Epoch 22/50\n",
      "72396/72396 [==============================] - 15s 211us/step - loss: 0.0535 - mean_absolute_error: 0.0356 - val_loss: 0.0650 - val_mean_absolute_error: 0.0439\n",
      "Epoch 23/50\n",
      "72396/72396 [==============================] - 15s 207us/step - loss: 0.0587 - mean_absolute_error: 0.0490 - val_loss: 0.0343 - val_mean_absolute_error: 0.0308\n",
      "Epoch 24/50\n",
      "72396/72396 [==============================] - 15s 208us/step - loss: 0.0578 - mean_absolute_error: 0.0453 - val_loss: 0.0480 - val_mean_absolute_error: 0.0332\n",
      "Epoch 25/50\n",
      "72396/72396 [==============================] - 16s 216us/step - loss: 0.0300 - mean_absolute_error: 0.0276 - val_loss: 0.0153 - val_mean_absolute_error: 0.0095\n",
      "Epoch 26/50\n",
      "72396/72396 [==============================] - 15s 206us/step - loss: 0.0317 - mean_absolute_error: 0.0336 - val_loss: 0.0269 - val_mean_absolute_error: 0.0387\n",
      "Epoch 27/50\n",
      "72396/72396 [==============================] - 15s 206us/step - loss: 0.1044 - mean_absolute_error: 0.0929 - val_loss: 0.0094 - val_mean_absolute_error: 0.0270\n",
      "Epoch 28/50\n",
      "72396/72396 [==============================] - 16s 223us/step - loss: 0.0224 - mean_absolute_error: 0.0288 - val_loss: 0.0208 - val_mean_absolute_error: 0.0793\n",
      "Epoch 29/50\n",
      "72396/72396 [==============================] - 17s 233us/step - loss: 0.0262 - mean_absolute_error: 0.0386 - val_loss: 0.0028 - val_mean_absolute_error: 0.0180\n",
      "Epoch 30/50\n",
      "72396/72396 [==============================] - 16s 216us/step - loss: 0.0192 - mean_absolute_error: 0.0329 - val_loss: 0.0046 - val_mean_absolute_error: 0.0074\n",
      "Epoch 31/50\n",
      "72396/72396 [==============================] - 14s 196us/step - loss: 0.0229 - mean_absolute_error: 0.0408 - val_loss: 0.0016 - val_mean_absolute_error: 0.0119\n",
      "Epoch 32/50\n",
      "72396/72396 [==============================] - 15s 205us/step - loss: 0.0271 - mean_absolute_error: 0.0462 - val_loss: 0.0133 - val_mean_absolute_error: 0.0341\n",
      "Epoch 33/50\n",
      "72396/72396 [==============================] - 14s 200us/step - loss: 0.0780 - mean_absolute_error: 0.0890 - val_loss: 0.0025 - val_mean_absolute_error: 0.0271\n",
      "Epoch 34/50\n",
      "72396/72396 [==============================] - 14s 200us/step - loss: 0.0439 - mean_absolute_error: 0.0254 - val_loss: 0.0022 - val_mean_absolute_error: 0.0039\n",
      "Epoch 35/50\n",
      "72396/72396 [==============================] - 15s 205us/step - loss: 0.0048 - mean_absolute_error: 0.0126 - val_loss: 0.0015 - val_mean_absolute_error: 0.0062\n",
      "Epoch 36/50\n",
      "72396/72396 [==============================] - 15s 203us/step - loss: 0.0173 - mean_absolute_error: 0.0161 - val_loss: 0.0093 - val_mean_absolute_error: 0.0345\n",
      "Epoch 37/50\n",
      "72396/72396 [==============================] - 15s 206us/step - loss: 0.1268 - mean_absolute_error: 0.0895 - val_loss: 0.0414 - val_mean_absolute_error: 0.0503\n",
      "Epoch 38/50\n",
      "72396/72396 [==============================] - 14s 200us/step - loss: 0.0109 - mean_absolute_error: 0.0187 - val_loss: 0.0049 - val_mean_absolute_error: 0.0052\n",
      "Epoch 39/50\n",
      "72396/72396 [==============================] - 15s 202us/step - loss: 0.0262 - mean_absolute_error: 0.0203 - val_loss: 0.0275 - val_mean_absolute_error: 0.0489\n",
      "Epoch 40/50\n",
      "72396/72396 [==============================] - 14s 200us/step - loss: 0.0258 - mean_absolute_error: 0.0383 - val_loss: 0.0039 - val_mean_absolute_error: 0.0103\n",
      "Epoch 00040: early stopping\n"
     ]
    }
   ],
   "source": [
    "#after removing outliers\n",
    "filter_history, filter_testPredict = train_RNN(train1_X, train1_y, test1_X, test1_y, val1_X, val1_y, 0.4, 16)"
   ]
  },
  {
   "cell_type": "code",
   "execution_count": 62,
   "metadata": {},
   "outputs": [
    {
     "data": {
      "image/png": "[encoded data removed]",
      "text/plain": [
       "<Figure size 432x288 with 1 Axes>"
      ]
     },
     "metadata": {
      "needs_background": "light"
     },
     "output_type": "display_data"
    }
   ],
   "source": [
    "loss = filter_history.history['loss']\n",
    "val_loss = filter_history.history['val_loss']\n",
    "plt.plot(range(2, len(loss) + 1), loss[1:], 'r-', label='Training Loss')\n",
    "plt.plot(range(2, len(loss) + 1), val_loss[1:], 'b-', label='Validation Loss')\n",
    "plt.legend()\n",
    "plt.show()"
   ]
  },
  {
   "cell_type": "code",
   "execution_count": 63,
   "metadata": {},
   "outputs": [
    {
     "data": {
      "text/plain": [
       "<matplotlib.legend.Legend at 0x1a65d2e518>"
      ]
     },
     "execution_count": 63,
     "metadata": {},
     "output_type": "execute_result"
    },
    {
     "data": {
      "image/png": "[encoded data removed]",
      "text/plain": [
       "<Figure size 432x288 with 1 Axes>"
      ]
     },
     "metadata": {
      "needs_background": "light"
     },
     "output_type": "display_data"
    }
   ],
   "source": [
    "plt.plot(filter_testPredict)\n",
    "plt.plot(test1_y)\n",
    "plt.legend(['prediction','true'])"
   ]
  },
  {
   "cell_type": "code",
   "execution_count": 85,
   "metadata": {},
   "outputs": [
    {
     "data": {
      "image/png": "[encoded data removed]",
      "text/plain": [
       "<Figure size 432x288 with 5 Axes>"
      ]
     },
     "metadata": {
      "needs_background": "light"
     },
     "output_type": "display_data"
    }
   ],
   "source": [
    "tick = \"BTC\"\n",
    "feature = ['low', 'high', 'open','close', 'volume']\n",
    "for i in range(5):\n",
    "    plt.subplot(3,2,i + 1)\n",
    "    ticker = feature[i] + \"_\" + tick\n",
    "    plt.hist(filtered_matrix[ticker])\n",
    "    plt.title(ticker)\n",
    "    plt.yscale('log')\n"
   ]
  },
  {
   "cell_type": "markdown",
   "metadata": {},
   "source": [
    "## Baseline: ARIMA"
   ]
  },
  {
   "cell_type": "code",
   "execution_count": 28,
   "metadata": {},
   "outputs": [],
   "source": [
    "from statsmodels.graphics.tsaplots import plot_acf, plot_pacf\n",
    "from statsmodels.tsa.stattools import adfuller\n",
    "from statsmodels.stats.diagnostic import acorr_ljungbox\n",
    "from statsmodels.tsa.arima_model import ARIMA "
   ]
  },
  {
   "cell_type": "code",
   "execution_count": 54,
   "metadata": {},
   "outputs": [],
   "source": [
    "result = adfuller(test_y)"
   ]
  },
  {
   "cell_type": "code",
   "execution_count": 55,
   "metadata": {},
   "outputs": [
    {
     "name": "stdout",
     "output_type": "stream",
     "text": [
      "The p-value is:  0.0\n"
     ]
    }
   ],
   "source": [
    "print(\"The p-value is: \", result[1])"
   ]
  },
  {
   "cell_type": "code",
   "execution_count": 56,
   "metadata": {},
   "outputs": [],
   "source": [
    "#find the order of ARIMA\n",
    "min_p = min_q = float('inf')\n",
    "min_bic = float('inf')\n",
    "for p in range(1,8):\n",
    "    for q in range(1,8):\n",
    "        try:\n",
    "            tmp_bic=ARIMA(test_y, (p, 0, q)).fit().bic\n",
    "            if tmp_bic<min_bic:\n",
    "                min_p,min_q=p,q\n",
    "                min_bic=tmp_bic\n",
    "        except:\n",
    "            continue"
   ]
  },
  {
   "cell_type": "code",
   "execution_count": 34,
   "metadata": {},
   "outputs": [],
   "source": [
    "model = ARIMA(test_y, (4, 0, 4)).fit()"
   ]
  },
  {
   "cell_type": "code",
   "execution_count": 35,
   "metadata": {},
   "outputs": [],
   "source": [
    "pred_y = model.predict()"
   ]
  },
  {
   "cell_type": "code",
   "execution_count": 40,
   "metadata": {},
   "outputs": [
    {
     "data": {
      "text/plain": [
       "<matplotlib.legend.Legend at 0x1a845f3208>"
      ]
     },
     "execution_count": 40,
     "metadata": {},
     "output_type": "execute_result"
    },
    {
     "data": {
      "image/png": "[encoded data removed]",
      "text/plain": [
       "<Figure size 432x288 with 1 Axes>"
      ]
     },
     "metadata": {
      "needs_background": "light"
     },
     "output_type": "display_data"
    }
   ],
   "source": [
    "plt.plot(pred_y[:500])\n",
    "plt.plot(test_y[:500])\n",
    "plt.legend(['prediction','true'])"
   ]
  },
  {
   "cell_type": "code",
   "execution_count": 37,
   "metadata": {},
   "outputs": [
    {
     "data": {
      "text/html": [
       "<table class=\"simpletable\">\n",
       "<caption>ARMA Model Results</caption>\n",
       "<tr>\n",
       "  <th>Dep. Variable:</th>         <td>y</td>        <th>  No. Observations:  </th>    <td>10078</td>  \n",
       "</tr>\n",
       "<tr>\n",
       "  <th>Model:</th>            <td>ARMA(4, 4)</td>    <th>  Log Likelihood     </th> <td>-35083.272</td>\n",
       "</tr>\n",
       "<tr>\n",
       "  <th>Method:</th>             <td>css-mle</td>     <th>  S.D. of innovations</th>    <td>7.864</td>  \n",
       "</tr>\n",
       "<tr>\n",
       "  <th>Date:</th>          <td>Wed, 04 Sep 2019</td> <th>  AIC                </th>  <td>70186.545</td>\n",
       "</tr>\n",
       "<tr>\n",
       "  <th>Time:</th>              <td>19:36:51</td>     <th>  BIC                </th>  <td>70258.726</td>\n",
       "</tr>\n",
       "<tr>\n",
       "  <th>Sample:</th>                <td>0</td>        <th>  HQIC               </th>  <td>70210.968</td>\n",
       "</tr>\n",
       "<tr>\n",
       "  <th></th>                       <td> </td>        <th>                     </th>      <td> </td>    \n",
       "</tr>\n",
       "</table>\n",
       "<table class=\"simpletable\">\n",
       "<tr>\n",
       "     <td></td>        <th>coef</th>     <th>std err</th>      <th>z</th>      <th>P>|z|</th>  <th>[0.025</th>    <th>0.975]</th>  \n",
       "</tr>\n",
       "<tr>\n",
       "  <th>const</th>   <td>    0.0756</td> <td>    0.069</td> <td>    1.096</td> <td> 0.273</td> <td>   -0.060</td> <td>    0.211</td>\n",
       "</tr>\n",
       "<tr>\n",
       "  <th>ar.L1.y</th> <td>    0.5863</td> <td>    0.123</td> <td>    4.785</td> <td> 0.000</td> <td>    0.346</td> <td>    0.826</td>\n",
       "</tr>\n",
       "<tr>\n",
       "  <th>ar.L2.y</th> <td>   -0.0440</td> <td>    0.129</td> <td>   -0.341</td> <td> 0.733</td> <td>   -0.297</td> <td>    0.209</td>\n",
       "</tr>\n",
       "<tr>\n",
       "  <th>ar.L3.y</th> <td>   -0.4287</td> <td>    0.133</td> <td>   -3.230</td> <td> 0.001</td> <td>   -0.689</td> <td>   -0.169</td>\n",
       "</tr>\n",
       "<tr>\n",
       "  <th>ar.L4.y</th> <td>    0.8143</td> <td>    0.102</td> <td>    7.949</td> <td> 0.000</td> <td>    0.614</td> <td>    1.015</td>\n",
       "</tr>\n",
       "<tr>\n",
       "  <th>ma.L1.y</th> <td>   -0.5882</td> <td>    0.127</td> <td>   -4.628</td> <td> 0.000</td> <td>   -0.837</td> <td>   -0.339</td>\n",
       "</tr>\n",
       "<tr>\n",
       "  <th>ma.L2.y</th> <td>    0.0378</td> <td>    0.133</td> <td>    0.284</td> <td> 0.776</td> <td>   -0.223</td> <td>    0.299</td>\n",
       "</tr>\n",
       "<tr>\n",
       "  <th>ma.L3.y</th> <td>    0.4174</td> <td>    0.138</td> <td>    3.028</td> <td> 0.002</td> <td>    0.147</td> <td>    0.687</td>\n",
       "</tr>\n",
       "<tr>\n",
       "  <th>ma.L4.y</th> <td>   -0.8034</td> <td>    0.106</td> <td>   -7.595</td> <td> 0.000</td> <td>   -1.011</td> <td>   -0.596</td>\n",
       "</tr>\n",
       "</table>\n",
       "<table class=\"simpletable\">\n",
       "<caption>Roots</caption>\n",
       "<tr>\n",
       "    <td></td>   <th>            Real</th>  <th>         Imaginary</th> <th>         Modulus</th>  <th>        Frequency</th>\n",
       "</tr>\n",
       "<tr>\n",
       "  <th>AR.1</th> <td>          -1.0873</td> <td>          -0.0000j</td> <td>           1.0873</td> <td>          -0.5000</td>\n",
       "</tr>\n",
       "<tr>\n",
       "  <th>AR.2</th> <td>           0.2929</td> <td>          -1.0064j</td> <td>           1.0481</td> <td>          -0.2049</td>\n",
       "</tr>\n",
       "<tr>\n",
       "  <th>AR.3</th> <td>           0.2929</td> <td>          +1.0064j</td> <td>           1.0481</td> <td>           0.2049</td>\n",
       "</tr>\n",
       "<tr>\n",
       "  <th>AR.4</th> <td>           1.0281</td> <td>          -0.0000j</td> <td>           1.0281</td> <td>          -0.0000</td>\n",
       "</tr>\n",
       "<tr>\n",
       "  <th>MA.1</th> <td>          -1.0923</td> <td>          -0.0000j</td> <td>           1.0923</td> <td>          -0.5000</td>\n",
       "</tr>\n",
       "<tr>\n",
       "  <th>MA.2</th> <td>           0.2935</td> <td>          -1.0128j</td> <td>           1.0545</td> <td>          -0.2051</td>\n",
       "</tr>\n",
       "<tr>\n",
       "  <th>MA.3</th> <td>           0.2935</td> <td>          +1.0128j</td> <td>           1.0545</td> <td>           0.2051</td>\n",
       "</tr>\n",
       "<tr>\n",
       "  <th>MA.4</th> <td>           1.0248</td> <td>          -0.0000j</td> <td>           1.0248</td> <td>          -0.0000</td>\n",
       "</tr>\n",
       "</table>"
      ],
      "text/plain": [
       "<class 'statsmodels.iolib.summary.Summary'>\n",
       "\"\"\"\n",
       "                              ARMA Model Results                              \n",
       "==============================================================================\n",
       "Dep. Variable:                      y   No. Observations:                10078\n",
       "Model:                     ARMA(4, 4)   Log Likelihood              -35083.272\n",
       "Method:                       css-mle   S.D. of innovations              7.864\n",
       "Date:                Wed, 04 Sep 2019   AIC                          70186.545\n",
       "Time:                        19:36:51   BIC                          70258.726\n",
       "Sample:                             0   HQIC                         70210.968\n",
       "                                                                              \n",
       "==============================================================================\n",
       "                 coef    std err          z      P>|z|      [0.025      0.975]\n",
       "------------------------------------------------------------------------------\n",
       "const          0.0756      0.069      1.096      0.273      -0.060       0.211\n",
       "ar.L1.y        0.5863      0.123      4.785      0.000       0.346       0.826\n",
       "ar.L2.y       -0.0440      0.129     -0.341      0.733      -0.297       0.209\n",
       "ar.L3.y       -0.4287      0.133     -3.230      0.001      -0.689      -0.169\n",
       "ar.L4.y        0.8143      0.102      7.949      0.000       0.614       1.015\n",
       "ma.L1.y       -0.5882      0.127     -4.628      0.000      -0.837      -0.339\n",
       "ma.L2.y        0.0378      0.133      0.284      0.776      -0.223       0.299\n",
       "ma.L3.y        0.4174      0.138      3.028      0.002       0.147       0.687\n",
       "ma.L4.y       -0.8034      0.106     -7.595      0.000      -1.011      -0.596\n",
       "                                    Roots                                    \n",
       "=============================================================================\n",
       "                  Real          Imaginary           Modulus         Frequency\n",
       "-----------------------------------------------------------------------------\n",
       "AR.1           -1.0873           -0.0000j            1.0873           -0.5000\n",
       "AR.2            0.2929           -1.0064j            1.0481           -0.2049\n",
       "AR.3            0.2929           +1.0064j            1.0481            0.2049\n",
       "AR.4            1.0281           -0.0000j            1.0281           -0.0000\n",
       "MA.1           -1.0923           -0.0000j            1.0923           -0.5000\n",
       "MA.2            0.2935           -1.0128j            1.0545           -0.2051\n",
       "MA.3            0.2935           +1.0128j            1.0545            0.2051\n",
       "MA.4            1.0248           -0.0000j            1.0248           -0.0000\n",
       "-----------------------------------------------------------------------------\n",
       "\"\"\""
      ]
     },
     "execution_count": 37,
     "metadata": {},
     "output_type": "execute_result"
    }
   ],
   "source": [
    "#model = ARIMA(train_data, (1, 0, 1)).fit()\n",
    "model.summary()"
   ]
  },
  {
   "cell_type": "code",
   "execution_count": null,
   "metadata": {},
   "outputs": [],
   "source": []
  }
 ],
 "metadata": {
  "kernelspec": {
   "display_name": "Python 3",
   "language": "python",
   "name": "python3"
  },
  "language_info": {
   "codemirror_mode": {
    "name": "ipython",
    "version": 3
   },
   "file_extension": ".py",
   "mimetype": "text/x-python",
   "name": "python",
   "nbconvert_exporter": "python",
   "pygments_lexer": "ipython3",
   "version": "3.6.7"
  }
 },
 "nbformat": 4,
 "nbformat_minor": 2
}
