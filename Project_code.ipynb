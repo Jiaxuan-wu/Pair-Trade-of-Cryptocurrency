{
 "cells": [
  {
   "cell_type": "code",
   "execution_count": 2,
   "metadata": {},
   "outputs": [],
   "source": [
    "import cbpro\n",
    "import numpy as np\n",
    "import datetime\n",
    "import pandas as pd\n",
    "import time\n",
    "import math\n",
    "import seaborn as sns\n",
    "import matplotlib.pyplot as plt\n",
    "from scipy.spatial.distance import euclidean\n",
    "from fastdtw import fastdtw\n",
    "from scipy import stats\n",
    "public_client = cbpro.PublicClient()"
   ]
  },
  {
   "cell_type": "code",
   "execution_count": 3,
   "metadata": {},
   "outputs": [
    {
     "name": "stderr",
     "output_type": "stream",
     "text": [
      "Using TensorFlow backend.\n"
     ]
    }
   ],
   "source": [
    "import keras\n",
    "from keras.models import Sequential\n",
    "from keras.layers import LSTM, Dense, Dropout,LeakyReLU\n",
    "from keras.callbacks import EarlyStopping, LearningRateScheduler\n",
    "from sklearn.model_selection import train_test_split\n",
    "from sklearn.preprocessing import MinMaxScaler\n",
    "from sklearn.metrics import mean_squared_error\n",
    "import random\n",
    "pd.set_option('precision', 4)"
   ]
  },
  {
   "cell_type": "code",
   "execution_count": 4,
   "metadata": {},
   "outputs": [],
   "source": [
    "import warnings\n",
    "warnings.filterwarnings(\"ignore\")"
   ]
  },
  {
   "cell_type": "markdown",
   "metadata": {},
   "source": [
    "## Extract data from API"
   ]
  },
  {
   "cell_type": "code",
   "execution_count": 5,
   "metadata": {},
   "outputs": [],
   "source": [
    "def getData(label,start_time,end_time):\n",
    "    '''pull out data from start date to end date'''\n",
    "    #input\n",
    "    #label -- string, type of currency, such as 'ETH-USD'\n",
    "    #start_time, end_time -- ISO 8601 format date\n",
    "    \n",
    "    #output\n",
    "    #numpy ndarray\n",
    "    #pull out minute data\n",
    "    data=public_client.get_product_historic_rates(label,start=start_time, end=end_time, granularity=300)\n",
    "    return data"
   ]
  },
  {
   "cell_type": "code",
   "execution_count": 6,
   "metadata": {},
   "outputs": [],
   "source": [
    "def getMinuteData(label, start_date, end_date):\n",
    "    '''get all data of label from start_date to end_date'''\n",
    "    sample = []\n",
    "    date_list = pd.date_range(start=start_date, end=end_date)\n",
    "    for head, tail in zip(date_list[:-1], date_list[1:]):\n",
    "        tmp = getData(label,head.isoformat(),tail.isoformat())\n",
    "        while len(tmp) == 1:\n",
    "            time.sleep(0.8)\n",
    "            tmp = getData(label,head.isoformat(),tail.isoformat())\n",
    "        sample += tmp\n",
    "        time.sleep(0.5)\n",
    "    return sample"
   ]
  },
  {
   "cell_type": "code",
   "execution_count": 7,
   "metadata": {},
   "outputs": [],
   "source": [
    "def save_data(data,tag):\n",
    "    '''save the data in dictionary into separated csv file'''\n",
    "    \n",
    "    #transform to pandas dataframe format and add columne name\n",
    "    result=pd.DataFrame(data,columns=['date','low','high','open','close','volume'])\n",
    "    \n",
    "    #transform unix time to datetime for better understand\n",
    "    result['date']=pd.to_datetime(result['date'], unit='s')\n",
    "    filename=tag+'_2017.csv'\n",
    "    result.to_csv(filename)\n",
    "    #return result    "
   ]
  },
  {
   "cell_type": "code",
   "execution_count": 8,
   "metadata": {},
   "outputs": [],
   "source": [
    "# #extract from API and save into excel file\n",
    "# #Extract 2017 data\n",
    "\n",
    "# start_date, end_date = '08/15/2017', '08/15/2018'\n",
    "# ticker = ticker=['BTC-USD','ETH-USD','LTC-USD']\n",
    "# for tick in ticker:\n",
    "#     data = getMinuteData(tick, start_date, end_date)\n",
    "#     save_data(data, tick)"
   ]
  },
  {
   "cell_type": "markdown",
   "metadata": {},
   "source": [
    "## Read Data from CSV file"
   ]
  },
  {
   "cell_type": "code",
   "execution_count": 9,
   "metadata": {},
   "outputs": [],
   "source": [
    "def extract_merge(year):\n",
    "    \"\"\"extract data from csv file and merge them into 1 table\"\"\"\n",
    "    tick = ['BTC', 'ETH', 'LTC']\n",
    "    if year == '2018':\n",
    "        ticker = [\"Data/\" + i + '-USD.csv' for i in tick]\n",
    "    else:\n",
    "        ticker = [\"Data/\" + i + '-USD_2017.csv' for i in tick]\n",
    "    BTC_data = pd.read_csv(ticker[0],parse_dates=['date'])\n",
    "    BTC_data=BTC_data.drop(BTC_data.columns[0],axis=1)\n",
    "    ETH_data=pd.read_csv(ticker[1],parse_dates=['date'])\n",
    "    ETH_data=ETH_data.drop(ETH_data.columns[0],axis=1)\n",
    "    LTC_data=pd.read_csv(ticker[2],parse_dates=['date'])\n",
    "    LTC_data=LTC_data.drop(LTC_data.columns[0],axis=1)\n",
    "    \n",
    "    #merge BTC & ETH data\n",
    "    merge1=BTC_data.merge(ETH_data, how='inner', on='date', suffixes=('_BTC','_ETH'))\n",
    "    #merge above table with LTC data\n",
    "    merge2=pd.merge(merge1,LTC_data,how='inner', on='date')\n",
    "    #change the colume name\n",
    "    merge2=merge2.rename(columns={i:i+'_LTC' for i in list(LTC_data)[1:]})\n",
    "    merge2 = merge2.drop_duplicates()\n",
    "    \n",
    "    return merge2"
   ]
  },
  {
   "cell_type": "code",
   "execution_count": 10,
   "metadata": {},
   "outputs": [],
   "source": [
    "merge2 = extract_merge('2018')\n",
    "merge2_2017 = extract_merge('2017')"
   ]
  },
  {
   "cell_type": "code",
   "execution_count": 11,
   "metadata": {},
   "outputs": [],
   "source": [
    "BTC_data = pd.read_csv(\"Data/BTC-USD.csv\")\n",
    "\n"
   ]
  },
  {
   "cell_type": "code",
   "execution_count": 12,
   "metadata": {},
   "outputs": [
    {
     "data": {
      "image/png": "[encoded data removed]",
      "text/plain": [
       "<Figure size 432x288 with 1 Axes>"
      ]
     },
     "metadata": {
      "needs_background": "light"
     },
     "output_type": "display_data"
    }
   ],
   "source": [
    "tick=['BTC','ETH','LTC']\n",
    "variable=['open']\n",
    "\n",
    "for var in variable:\n",
    "    target=var+'_'\n",
    "    fig,ax = plt.subplots()\n",
    "\n",
    "    for ticker in tick:\n",
    "        ax.plot(merge2['date'],merge2['low_'+ticker],label=ticker)\n",
    "\n",
    "    ax.set_xlabel(\"time\")\n",
    "    ax.set_ylabel(var)\n",
    "    ax.legend(loc='best')\n",
    "    plt.xticks(rotation=30)\n",
    "    plt.yscale('log')\n",
    "    plt.savefig(\"open_price\", dpi = 600)"
   ]
  },
  {
   "cell_type": "markdown",
   "metadata": {},
   "source": [
    "## Start RNN model"
   ]
  },
  {
   "cell_type": "markdown",
   "metadata": {},
   "source": [
    "### generate log return (here use percentage return)"
   ]
  },
  {
   "cell_type": "code",
   "execution_count": 13,
   "metadata": {},
   "outputs": [],
   "source": [
    "# #change all price into log return\n",
    "# def convert_log_return(data):\n",
    "#     '''change price into percentage log return'''\n",
    "    \n",
    "#     #extract all volume data\n",
    "#     volume_data = data.filter(like = \"volume\")\n",
    "    \n",
    "#     #find column that need to calculate percentage return\n",
    "#     tag = ['BTC', 'LTC', 'ETH']\n",
    "#     tick = ['open', 'close', 'high', 'low']\n",
    "#     col_name_list = [j + \"_\" + i for i in tag for j in tick]\n",
    "    \n",
    "#     for col_name in col_name_list:\n",
    "#         new_col_name = 'return_' + col_name\n",
    "#         #calculate percentage change\n",
    "#         tmp = data[col_name].pct_change()\n",
    "        \n",
    "#         #convert percentage return into log\n",
    "#         #if return == 0, log return == 0\n",
    "#         data[new_col_name] = tmp\n",
    "    \n",
    "#     #add volume back\n",
    "#     return_matrix = pd.concat([data.filter(like='return'),volume_data], axis = 1)\n",
    "    \n",
    "#     return return_matrix"
   ]
  },
  {
   "cell_type": "code",
   "execution_count": 14,
   "metadata": {},
   "outputs": [],
   "source": [
    "def calculate_log_return(df):\n",
    "    df1 = np.asarray(df.iloc[1:].values.tolist())\n",
    "    df2 = np.asarray(df.iloc[:-1].values.tolist())\n",
    "    result = np.log(df1/df2)\n",
    "    return result"
   ]
  },
  {
   "cell_type": "code",
   "execution_count": 15,
   "metadata": {},
   "outputs": [],
   "source": [
    "def normalize(df):\n",
    "    #normalization\n",
    "    column_names = list(df)\n",
    "    min_max_scaler = MinMaxScaler()\n",
    "    return_matrix = pd.DataFrame(min_max_scaler.fit_transform(df), columns = column_names)\n",
    "    return return_matrix"
   ]
  },
  {
   "cell_type": "code",
   "execution_count": 16,
   "metadata": {},
   "outputs": [],
   "source": [
    "def convert_log_return(data, flag):\n",
    "    \"\"\"convert all price (except volumn) into log return\"\"\"\n",
    "    \"\"\"log return = log(x_t/x_{t-1})\"\"\"\n",
    "    #initialize the dataframe\n",
    "    return_matrix = pd.DataFrame()\n",
    "    \n",
    "    #find column that need to calculate percentage return\n",
    "    tag = ['BTC', 'LTC', 'ETH']\n",
    "    tick = ['open', 'close', 'high', 'low']\n",
    "    col_name_list = [j + \"_\" + i for i in tag for j in tick]\n",
    "    \n",
    "    for col_name in col_name_list:\n",
    "        df = data[col_name]\n",
    "        return_matrix[col_name] = calculate_log_return(df)\n",
    "    \n",
    "    #add volume back\n",
    "    volume_data = np.asarray(data.filter(like = \"volume\").iloc[1:].values.tolist())\n",
    "    #get volume name for eacy cryptocurrency\n",
    "    volume_list = [\"volume_\" + i for i in tag]\n",
    "    for i in range(len(volume_list)):\n",
    "        return_matrix[volume_list[i]] = volume_data[:,i]\n",
    "        \n",
    "    #if flag == true means need normalization\n",
    "    if flag == True:\n",
    "        return_matrix = normalize(return_matrix)\n",
    "    \n",
    "    #add date\n",
    "    date_data = data['date'].tolist()\n",
    "    return_matrix['date'] = pd.to_datetime(date_data[1:])\n",
    "    \n",
    "    return return_matrix"
   ]
  },
  {
   "cell_type": "code",
   "execution_count": 17,
   "metadata": {},
   "outputs": [],
   "source": [
    "def create_dataset(data, time_step, tick1, tick2, target):\n",
    "    '''convert time series data into X, y'''\n",
    "    \"\"\"given tag name(tick1, tick2) of two crpytocurrency\"\"\"\n",
    "    \"\"\"X = [low1, high1, open1, close1, volume1, low2, high2, open2, close2, volume2] for time (i, i + timestep)\"\"\"\n",
    "    \n",
    "    #use #timestep data from tick1, tick2 to predict next time stamp tick1' open price\n",
    "    \n",
    "    #create colume label\n",
    "    input_label1 = [i + '_' + tick1 for i in ['low', 'high', 'open','close', 'volume']]\n",
    "    input_label2 = [i + '_' + tick2 for i in ['low', 'high', 'open','close', 'volume']]\n",
    "    target_label = 'close_' + target\n",
    "    \n",
    "    tmp_data1 = data[input_label1]\n",
    "    tmp_data2 = data[input_label2]\n",
    "    tmp_target = data[target_label]\n",
    "    \n",
    "    transformed_X = []\n",
    "    transformed_y = []\n",
    "    for i in range(time_step, data.shape[0]):\n",
    "        tmp1 = tmp_data1[(i - time_step): i].values.tolist()\n",
    "        tmp2 = tmp_data2[(i - time_step): i].values.tolist()\n",
    "        tmp = []\n",
    "        for j in range(len(tmp1)):\n",
    "            tmp.append(tmp1[j] + tmp2[j])\n",
    "            \n",
    "        #tmp = [low1, high1, open1, close1, volume1, low2, high2, open2, close2, volume2]\n",
    "        transformed_X.append(tmp)\n",
    "        transformed_y.append(tmp_target.iloc[i])\n",
    "    \n",
    "    return np.asarray(transformed_X), np.asarray(transformed_y)"
   ]
  },
  {
   "cell_type": "markdown",
   "metadata": {},
   "source": [
    "### train, test, validation split by week"
   ]
  },
  {
   "cell_type": "code",
   "execution_count": 18,
   "metadata": {},
   "outputs": [],
   "source": [
    "def generate_week_list(start_date, end_date):\n",
    "    '''generate the start and end day of each week'''\n",
    "    '''week_list = {1: [start, end]}'''\n",
    "    \"\"\"In order to split train, test, validation in future step\"\"\"\n",
    "    week_list = {}\n",
    "    curr_week = start_date\n",
    "    i = 1\n",
    "    while curr_week < end_date:\n",
    "        end_week = curr_week + datetime.timedelta(days = 7)\n",
    "        week_list[i] = [curr_week, end_week]\n",
    "        curr_week, i = end_week, i + 1\n",
    "    \n",
    "    return week_list"
   ]
  },
  {
   "cell_type": "code",
   "execution_count": 19,
   "metadata": {},
   "outputs": [],
   "source": [
    "def extract_sample(index, week_list, date, X, y):\n",
    "    '''given index of week we want to sample, extract corresponding sample'''\n",
    "    \n",
    "    sample_X, sample_y = [], []\n",
    "    for i in index:\n",
    "        start, end = week_list[i]\n",
    "        tmp_index = [(date < end) & (date >= start)]\n",
    "        try:\n",
    "            sample_X = np.concatenate((sample_X, X[tmp_index]), axis = 0)\n",
    "            sample_y = np.concatenate((sample_y, y[tmp_index]), axis = 0)\n",
    "        except:\n",
    "            sample_X = X[tmp_index]\n",
    "            sample_y = y[tmp_index]\n",
    "    \n",
    "    return sample_X, sample_y"
   ]
  },
  {
   "cell_type": "code",
   "execution_count": 20,
   "metadata": {},
   "outputs": [],
   "source": [
    "def train_test_val(X, y, date):\n",
    "    '''split train, test, validation'''\n",
    "    #-----------------------------------------#\n",
    "    #--e.g. 52 weeks in total, 0.8, 0.1, 0.1--#\n",
    "    #-----------------------------------------#\n",
    "    \n",
    "    start, end = date.iloc[0], date.iloc[-1]\n",
    "    week_list = generate_week_list(start, end)\n",
    "    index = list(week_list.keys())\n",
    "    train_index, test_index = train_test_split(index, test_size = 0.2)\n",
    "    test_index, val_index = train_test_split(test_index, test_size = 0.5)\n",
    "    train_X, train_y = extract_sample(train_index, week_list, date, X, y)\n",
    "    test_X, test_y = extract_sample(test_index, week_list, date, X, y)\n",
    "    val_X, val_y = extract_sample(val_index, week_list, date, X, y)\n",
    "    \n",
    "    return train_X, train_y, test_X, test_y, val_X, val_y"
   ]
  },
  {
   "cell_type": "code",
   "execution_count": 21,
   "metadata": {},
   "outputs": [],
   "source": [
    "def remove_outlier(data, target):\n",
    "    #calculate lower bound and upper bound\n",
    "    q1 = data[target].quantile(0.25)\n",
    "    q3 = data[target].quantile(0.75)\n",
    "    IQR = q3 - q1\n",
    "    lower_bound = q1 -(3 * IQR) \n",
    "    upper_bound = q3 +(3 * IQR) \n",
    "    \n",
    "    #filter the data\n",
    "    filter_data = data[(data[target] >= lower_bound) & (data[target] <= upper_bound)]\n",
    "    return filter_data"
   ]
  },
  {
   "cell_type": "markdown",
   "metadata": {},
   "source": [
    "### RNN main program"
   ]
  },
  {
   "cell_type": "code",
   "execution_count": 22,
   "metadata": {},
   "outputs": [],
   "source": [
    "def step_decay(epoch):\n",
    "    \"\"\"learning rate scheduler\"\"\"\n",
    "    \"\"\"start from initial_rate, after epochs_drop step, drop\"\"\"\n",
    "    initial_rate = 0.05\n",
    "    drop = 0.1\n",
    "    epochs_drop = 2.0\n",
    "    \n",
    "    lrate = initial_rate * math.pow(drop, math.floor((1 + epoch)/epochs_drop))\n",
    "    \n",
    "    return lrate\n",
    "                                    "
   ]
  },
  {
   "cell_type": "code",
   "execution_count": 23,
   "metadata": {},
   "outputs": [],
   "source": [
    "def train_RNN(train_X, train_y, test_X, test_y, val_X, val_y, drop_rate, hidden_unit):\n",
    "    '''RNN'''\n",
    "    \n",
    "    #------------LSTM-------------------------\n",
    "\n",
    "    n_step, n_feature = train_X.shape[1:]\n",
    "    model = Sequential()\n",
    "\n",
    "    # Embedding layer\n",
    "    model.add(LSTM(hidden_unit, input_shape=(n_step, n_feature), activation='relu', return_sequences=False))\n",
    "#     model.add(LSTM(hidden_unit, input_shape=(n_step, n_feature), return_sequences=False))\n",
    "#     model.add(LeakyReLU(alpha=0.3))\n",
    "\n",
    "    model.add(Dropout(drop_rate))\n",
    "    model.add(Dense(8, activation='relu'))\n",
    "#     model.add(Dense(16))\n",
    "#     model.add(LeakyReLU(alpha=0.3))\n",
    "    model.add(Dense(1))\n",
    "    \n",
    "    # Compile the model\n",
    "    model.compile(optimizer='adam', loss='mean_squared_error', metrics=['mae'])\n",
    "    lrate = LearningRateScheduler(step_decay)\n",
    "    es = EarlyStopping(monitor='val_loss', mode='min', verbose=1, patience = 5)\n",
    "    history = model.fit(train_X, train_y, epochs=50, batch_size = 200, verbose=1, validation_data=(val_X, val_y), callbacks = [es])\n",
    "\n",
    "    testPredict = model.predict(test_X)\n",
    "    #score = model.evaluate(y_test, testPredict)\n",
    "    \n",
    "    return history, testPredict\n",
    "\n"
   ]
  },
  {
   "cell_type": "code",
   "execution_count": 24,
   "metadata": {},
   "outputs": [],
   "source": [
    "# def optimize(train_X, train_y, test_X, test_y, val_X, val_y):\n",
    "#     drop_rate = 0.4\n",
    "#     hidden_list = [16, 32, 64]\n",
    "#     best_score, best_unit = float(\"inf\"), 100\n",
    "#     score_list = []\n",
    "#     for hidden_unit in hidden_list:\n",
    "#         #start RNN training\n",
    "#         history, testPredict = train_RNN(train_X, train_y, test_X, test_y, val_X, val_y, drop_rate, hidden_unit)\n",
    "#         score = history.history['val_loss'][0]\n",
    "#         score_list.append(score)\n",
    "#         if score < best_score:\n",
    "#             best_score = score\n",
    "#             best_unit = hidden_unit\n",
    "#             best_history = history\n",
    "#             best_pred = testPredict\n",
    "#         return score_list, best_score, best_unit, best_history, best_pred"
   ]
  },
  {
   "cell_type": "code",
   "execution_count": 49,
   "metadata": {},
   "outputs": [],
   "source": [
    "def mainProgram(flag, tick1, tick2, target, drop_rate, hidden_unit):\n",
    "    #read data\n",
    "    merge2 = extract_merge('2018')\n",
    "    merge2_2017 = extract_merge('2017')\n",
    "    \n",
    "    #convert log return\n",
    "    return_matrix = convert_log_return(merge2, flag)\n",
    "    \n",
    "    #split X and y\n",
    "    data = return_matrix\n",
    "    time_step = 60 # about 5 hours\n",
    "    #X is N x time_step x 10 matrix\n",
    "    X, y = create_dataset(data, time_step, tick1, tick2, target)\n",
    "    \n",
    "    #train, test, validation split\n",
    "    date = return_matrix['date'][time_step:]\n",
    "    train_X, train_y, test_X, test_y, val_X, val_y = train_test_val(X, y, date)\n",
    "    \n",
    "    #start RNN training\n",
    "    history, testPredict = train_RNN(train_X, train_y, test_X, test_y, val_X, val_y, drop_rate, hidden_unit)\n",
    "    \n",
    "    return history, testPredict, test_y"
   ]
  },
  {
   "cell_type": "code",
   "execution_count": 23,
   "metadata": {},
   "outputs": [
    {
     "name": "stdout",
     "output_type": "stream",
     "text": [
      "Train on 82504 samples, validate on 12050 samples\n",
      "Epoch 1/50\n",
      "82504/82504 [==============================] - 37s 444us/step - loss: 840720.0382 - mean_absolute_error: 139.6497 - val_loss: 7532.9607 - val_mean_absolute_error: 39.5101\n",
      "Epoch 2/50\n",
      "82504/82504 [==============================] - 34s 413us/step - loss: 298795.2511 - mean_absolute_error: 63.0868 - val_loss: 2264.9820 - val_mean_absolute_error: 22.0185\n",
      "Epoch 3/50\n",
      "82504/82504 [==============================] - 35s 422us/step - loss: 14324.7907 - mean_absolute_error: 31.0768 - val_loss: 781.1898 - val_mean_absolute_error: 10.5029\n",
      "Epoch 4/50\n",
      "82504/82504 [==============================] - 35s 422us/step - loss: 3131.1497 - mean_absolute_error: 19.5243 - val_loss: 365.3225 - val_mean_absolute_error: 8.4670\n",
      "Epoch 5/50\n",
      "82504/82504 [==============================] - 35s 419us/step - loss: 9581.2451 - mean_absolute_error: 16.0274 - val_loss: 363.4518 - val_mean_absolute_error: 6.3464\n",
      "Epoch 6/50\n",
      "82504/82504 [==============================] - 33s 402us/step - loss: 1149.4474 - mean_absolute_error: 11.9469 - val_loss: 314.7414 - val_mean_absolute_error: 5.2053\n",
      "Epoch 7/50\n",
      "82504/82504 [==============================] - 34s 415us/step - loss: 201217.2866 - mean_absolute_error: 40.0932 - val_loss: 14227.9747 - val_mean_absolute_error: 57.7058\n",
      "Epoch 8/50\n",
      "82504/82504 [==============================] - 34s 406us/step - loss: 8288.8104 - mean_absolute_error: 31.5867 - val_loss: 1670.8006 - val_mean_absolute_error: 11.7314\n",
      "Epoch 9/50\n",
      "82504/82504 [==============================] - 34s 415us/step - loss: 3697.3455 - mean_absolute_error: 20.8938 - val_loss: 289.9420 - val_mean_absolute_error: 8.8831\n",
      "Epoch 10/50\n",
      "82504/82504 [==============================] - 35s 419us/step - loss: 9312.2254 - mean_absolute_error: 27.2606 - val_loss: 4264.6213 - val_mean_absolute_error: 29.1405\n",
      "Epoch 11/50\n",
      "82504/82504 [==============================] - 34s 415us/step - loss: 20412.9492 - mean_absolute_error: 40.6269 - val_loss: 3194.9691 - val_mean_absolute_error: 27.2981\n",
      "Epoch 12/50\n",
      "82504/82504 [==============================] - 35s 424us/step - loss: 172636.0769 - mean_absolute_error: 36.0605 - val_loss: 483.2692 - val_mean_absolute_error: 13.2821\n",
      "Epoch 13/50\n",
      "82504/82504 [==============================] - 35s 419us/step - loss: 405.0052 - mean_absolute_error: 8.1932 - val_loss: 165.9640 - val_mean_absolute_error: 7.5946\n",
      "Epoch 14/50\n",
      "82504/82504 [==============================] - 34s 416us/step - loss: 241.1167 - mean_absolute_error: 5.9707 - val_loss: 103.6411 - val_mean_absolute_error: 6.4918\n",
      "Epoch 15/50\n",
      "82504/82504 [==============================] - 34s 410us/step - loss: 149.9869 - mean_absolute_error: 5.1066 - val_loss: 69.5048 - val_mean_absolute_error: 5.2841\n",
      "Epoch 16/50\n",
      "82504/82504 [==============================] - 34s 408us/step - loss: 127.4547 - mean_absolute_error: 4.3060 - val_loss: 46.6427 - val_mean_absolute_error: 3.6388\n",
      "Epoch 17/50\n",
      "82504/82504 [==============================] - 33s 405us/step - loss: 101.2649 - mean_absolute_error: 3.7752 - val_loss: 32.5273 - val_mean_absolute_error: 3.3396\n",
      "Epoch 18/50\n",
      "82504/82504 [==============================] - 33s 404us/step - loss: 83.6016 - mean_absolute_error: 3.3493 - val_loss: 52.8169 - val_mean_absolute_error: 2.7664\n",
      "Epoch 19/50\n",
      "82504/82504 [==============================] - 35s 422us/step - loss: 68.0427 - mean_absolute_error: 2.9258 - val_loss: 24.2295 - val_mean_absolute_error: 2.4407\n",
      "Epoch 20/50\n",
      "82504/82504 [==============================] - 34s 409us/step - loss: 70.0177 - mean_absolute_error: 2.7802 - val_loss: 25.3384 - val_mean_absolute_error: 2.3874\n",
      "Epoch 21/50\n",
      "82504/82504 [==============================] - 34s 414us/step - loss: 52.6493 - mean_absolute_error: 2.5079 - val_loss: 20.7083 - val_mean_absolute_error: 1.7741\n",
      "Epoch 22/50\n",
      "82504/82504 [==============================] - 36s 440us/step - loss: 182.3999 - mean_absolute_error: 3.1392 - val_loss: 1854.0223 - val_mean_absolute_error: 15.5933\n",
      "Epoch 23/50\n",
      "82504/82504 [==============================] - 35s 420us/step - loss: 224352.8899 - mean_absolute_error: 11.9653 - val_loss: 168004.9938 - val_mean_absolute_error: 66.0488\n",
      "Epoch 24/50\n",
      "82504/82504 [==============================] - 34s 408us/step - loss: 91064.5949 - mean_absolute_error: 85.3197 - val_loss: 2277.2095 - val_mean_absolute_error: 19.4234\n",
      "Epoch 25/50\n",
      "82504/82504 [==============================] - 34s 409us/step - loss: 12629.5954 - mean_absolute_error: 44.6896 - val_loss: 163.2873 - val_mean_absolute_error: 8.3988\n",
      "Epoch 26/50\n",
      "82504/82504 [==============================] - 33s 402us/step - loss: 3145.0931 - mean_absolute_error: 17.7249 - val_loss: 22.5596 - val_mean_absolute_error: 3.6853\n",
      "Epoch 00026: early stopping\n"
     ]
    }
   ],
   "source": [
    "#use log return data (not normalize)\n",
    "flag = False\n",
    "tick1, tick2 = \"BTC\", \"ETH\"\n",
    "target = \"BTC\"\n",
    "drop_rate = 0.4\n",
    "hidden_unit = 32\n",
    "hist1, pred1, test1 = mainProgram(flag, tick1, tick2, target, drop_rate, hidden_unit)"
   ]
  },
  {
   "cell_type": "code",
   "execution_count": 20,
   "metadata": {},
   "outputs": [
    {
     "name": "stdout",
     "output_type": "stream",
     "text": [
      "Train on 82457 samples, validate on 12094 samples\n",
      "Epoch 1/50\n",
      "82457/82457 [==============================] - 33s 403us/step - loss: 0.0055 - mean_absolute_error: 0.0360 - val_loss: 0.0093 - val_mean_absolute_error: 0.0964\n",
      "Epoch 2/50\n",
      "82457/82457 [==============================] - 32s 388us/step - loss: 8.4762e-05 - mean_absolute_error: 0.0037 - val_loss: 0.0094 - val_mean_absolute_error: 0.0965\n",
      "Epoch 3/50\n",
      "82457/82457 [==============================] - 35s 419us/step - loss: 8.3161e-05 - mean_absolute_error: 0.0035 - val_loss: 0.0093 - val_mean_absolute_error: 0.0961\n",
      "Epoch 4/50\n",
      "82457/82457 [==============================] - 36s 432us/step - loss: 8.3019e-05 - mean_absolute_error: 0.0035 - val_loss: 0.0094 - val_mean_absolute_error: 0.0964\n",
      "Epoch 5/50\n",
      "82457/82457 [==============================] - 34s 412us/step - loss: 8.3420e-05 - mean_absolute_error: 0.0036 - val_loss: 0.0085 - val_mean_absolute_error: 0.0917\n",
      "Epoch 6/50\n",
      "82457/82457 [==============================] - 35s 420us/step - loss: 8.3810e-05 - mean_absolute_error: 0.0036 - val_loss: 0.0084 - val_mean_absolute_error: 0.0911\n",
      "Epoch 7/50\n",
      "82457/82457 [==============================] - 35s 419us/step - loss: 8.3967e-05 - mean_absolute_error: 0.0036 - val_loss: 0.0088 - val_mean_absolute_error: 0.0937\n",
      "Epoch 8/50\n",
      "82457/82457 [==============================] - 33s 397us/step - loss: 8.3311e-05 - mean_absolute_error: 0.0036 - val_loss: 0.0066 - val_mean_absolute_error: 0.0806\n",
      "Epoch 9/50\n",
      "82457/82457 [==============================] - 34s 413us/step - loss: 8.3353e-05 - mean_absolute_error: 0.0036 - val_loss: 0.0066 - val_mean_absolute_error: 0.0810\n",
      "Epoch 10/50\n",
      "82457/82457 [==============================] - 35s 423us/step - loss: 8.2333e-05 - mean_absolute_error: 0.0035 - val_loss: 0.0063 - val_mean_absolute_error: 0.0791\n",
      "Epoch 11/50\n",
      "82457/82457 [==============================] - 33s 399us/step - loss: 8.3013e-05 - mean_absolute_error: 0.0036 - val_loss: 0.0061 - val_mean_absolute_error: 0.0779\n",
      "Epoch 12/50\n",
      "82457/82457 [==============================] - 33s 400us/step - loss: 8.2148e-05 - mean_absolute_error: 0.0035 - val_loss: 0.0057 - val_mean_absolute_error: 0.0752\n",
      "Epoch 13/50\n",
      "82457/82457 [==============================] - 33s 403us/step - loss: 8.2891e-05 - mean_absolute_error: 0.0036 - val_loss: 0.0055 - val_mean_absolute_error: 0.0740\n",
      "Epoch 14/50\n",
      "82457/82457 [==============================] - 33s 405us/step - loss: 8.2611e-05 - mean_absolute_error: 0.0036 - val_loss: 0.0047 - val_mean_absolute_error: 0.0681\n",
      "Epoch 15/50\n",
      "82457/82457 [==============================] - 34s 410us/step - loss: 8.2099e-05 - mean_absolute_error: 0.0035 - val_loss: 0.0037 - val_mean_absolute_error: 0.0605\n",
      "Epoch 16/50\n",
      "82457/82457 [==============================] - 33s 403us/step - loss: 8.1181e-05 - mean_absolute_error: 0.0035 - val_loss: 0.0036 - val_mean_absolute_error: 0.0595\n",
      "Epoch 17/50\n",
      "82457/82457 [==============================] - 33s 397us/step - loss: 8.0850e-05 - mean_absolute_error: 0.0034 - val_loss: 0.0034 - val_mean_absolute_error: 0.0576\n",
      "Epoch 18/50\n",
      "82457/82457 [==============================] - 33s 406us/step - loss: 8.0475e-05 - mean_absolute_error: 0.0035 - val_loss: 0.0035 - val_mean_absolute_error: 0.0588\n",
      "Epoch 19/50\n",
      "82457/82457 [==============================] - 36s 433us/step - loss: 8.0622e-05 - mean_absolute_error: 0.0035 - val_loss: 0.0034 - val_mean_absolute_error: 0.0574\n",
      "Epoch 20/50\n",
      "82457/82457 [==============================] - 34s 414us/step - loss: 7.8829e-05 - mean_absolute_error: 0.0034 - val_loss: 0.0031 - val_mean_absolute_error: 0.0547\n",
      "Epoch 21/50\n",
      "82457/82457 [==============================] - 36s 435us/step - loss: 7.8493e-05 - mean_absolute_error: 0.0034 - val_loss: 0.0028 - val_mean_absolute_error: 0.0523\n",
      "Epoch 22/50\n",
      "82457/82457 [==============================] - 35s 424us/step - loss: 7.9010e-05 - mean_absolute_error: 0.0034 - val_loss: 0.0029 - val_mean_absolute_error: 0.0531\n",
      "Epoch 23/50\n",
      "82457/82457 [==============================] - 34s 414us/step - loss: 7.8182e-05 - mean_absolute_error: 0.0034 - val_loss: 0.0027 - val_mean_absolute_error: 0.0518\n",
      "Epoch 24/50\n",
      "82457/82457 [==============================] - 33s 396us/step - loss: 7.7804e-05 - mean_absolute_error: 0.0033 - val_loss: 0.0030 - val_mean_absolute_error: 0.0540\n",
      "Epoch 25/50\n",
      "82457/82457 [==============================] - 32s 393us/step - loss: 7.8757e-05 - mean_absolute_error: 0.0034 - val_loss: 0.0031 - val_mean_absolute_error: 0.0546\n",
      "Epoch 26/50\n",
      "82457/82457 [==============================] - 34s 410us/step - loss: 7.7099e-05 - mean_absolute_error: 0.0034 - val_loss: 0.0028 - val_mean_absolute_error: 0.0527\n",
      "Epoch 27/50\n",
      "82457/82457 [==============================] - 34s 413us/step - loss: 7.7331e-05 - mean_absolute_error: 0.0033 - val_loss: 0.0028 - val_mean_absolute_error: 0.0528\n",
      "Epoch 28/50\n",
      "82457/82457 [==============================] - 33s 402us/step - loss: 7.7044e-05 - mean_absolute_error: 0.0033 - val_loss: 0.0029 - val_mean_absolute_error: 0.0530\n",
      "Epoch 00028: early stopping\n"
     ]
    }
   ],
   "source": [
    "#use log return data (normalize)\n",
    "flag = True\n",
    "tick1, tick2 = \"BTC\", \"ETH\"\n",
    "target = \"BTC\"\n",
    "drop_rate = 0.4\n",
    "hidden_unit = 16\n",
    "hist2, pred2, test2 = mainProgram(flag, tick1, tick2, target, drop_rate, hidden_unit)"
   ]
  },
  {
   "cell_type": "code",
   "execution_count": 28,
   "metadata": {},
   "outputs": [
    {
     "data": {
      "image/png": "[encoded data removed]",
      "text/plain": [
       "<Figure size 432x288 with 1 Axes>"
      ]
     },
     "metadata": {
      "needs_background": "light"
     },
     "output_type": "display_data"
    }
   ],
   "source": [
    "plt.plot(pred1, label = \"predictin\")\n",
    "plt.plot(test1, label = \"test data\")\n",
    "plt.legend()\n",
    "plt.title(\"result without normalization\")\n",
    "plt.show()"
   ]
  },
  {
   "cell_type": "code",
   "execution_count": 22,
   "metadata": {},
   "outputs": [
    {
     "data": {
      "image/png": "[encoded data removed]",
      "text/plain": [
       "<Figure size 432x288 with 1 Axes>"
      ]
     },
     "metadata": {
      "needs_background": "light"
     },
     "output_type": "display_data"
    }
   ],
   "source": [
    "plt.plot(pred2, label = \"predictin\")\n",
    "plt.plot(test2, label = \"test data\")\n",
    "plt.legend()\n",
    "plt.title(\"result with normalization \")\n",
    "plt.show()"
   ]
  },
  {
   "cell_type": "code",
   "execution_count": 25,
   "metadata": {},
   "outputs": [],
   "source": [
    "#merge2 is the extract & merge data\n",
    "#return matrix stores all log return data\n",
    "\n",
    "return_matrix = convert_log_return(merge2, False)\n",
    "filtered_matrix = remove_outlier(return_matrix,\"open_BTC\")"
   ]
  },
  {
   "cell_type": "code",
   "execution_count": 63,
   "metadata": {},
   "outputs": [],
   "source": [
    "def find_corr(data,var,tick):\n",
    "    matrix=np.corrcoef(data[[var+'_BTC',var+'_ETH',var+'_LTC']],rowvar=False)\n",
    "    ax=sns.heatmap(matrix,annot=True,xticklabels=tick,yticklabels=tick,cmap=\"YlGnBu\")\n",
    "    ax.set_title(var)\n",
    "    plt.savefig(\"corr\", dpi = 600)\n",
    "    plt.show()"
   ]
  },
  {
   "cell_type": "code",
   "execution_count": 64,
   "metadata": {},
   "outputs": [
    {
     "data": {
      "image/png": "[encoded data removed]",
      "text/plain": [
       "<Figure size 432x288 with 2 Axes>"
      ]
     },
     "metadata": {
      "needs_background": "light"
     },
     "output_type": "display_data"
    }
   ],
   "source": [
    "tick=['BTC', 'ETH', 'LTC']\n",
    "find_corr(merge2,\"open\",tick)"
   ]
  },
  {
   "cell_type": "code",
   "execution_count": 84,
   "metadata": {},
   "outputs": [],
   "source": [
    "data = return_matrix\n",
    "time_step = 60 # about 5 hours\n",
    "tick1, tick2 = 'BTC', 'LTC'\n",
    "target = 'BTC'\n",
    "#X is N x time_step x 10 matrix\n",
    "X, y = create_dataset(data, time_step, tick1, tick2, target)"
   ]
  },
  {
   "cell_type": "code",
   "execution_count": 85,
   "metadata": {},
   "outputs": [],
   "source": [
    "date = return_matrix['date'][time_step:]\n",
    "train_X, train_y, test_X, test_y, val_X, val_y = train_test_val(X, y, date)"
   ]
  },
  {
   "cell_type": "code",
   "execution_count": 26,
   "metadata": {},
   "outputs": [],
   "source": [
    "filtered_matrix = remove_outlier(return_matrix,\"open_BTC\")\n",
    "filtered_X, filtered_y = create_dataset(filtered_matrix, 60, \"BTC\",\"LTC\", \"BTC\")\n",
    "date1 = filtered_matrix['date'][60:]\n",
    "train1_X, train1_y, test1_X, test1_y, val1_X, val1_y = train_test_val(filtered_X, filtered_y, date1)"
   ]
  },
  {
   "cell_type": "code",
   "execution_count": 96,
   "metadata": {},
   "outputs": [
    {
     "data": {
      "text/plain": [
       "(99821, 16)"
      ]
     },
     "execution_count": 96,
     "metadata": {},
     "output_type": "execute_result"
    }
   ],
   "source": [
    "filtered_matrix.shape"
   ]
  },
  {
   "cell_type": "code",
   "execution_count": 81,
   "metadata": {},
   "outputs": [
    {
     "data": {
      "text/plain": [
       "(104977, 16)"
      ]
     },
     "execution_count": 81,
     "metadata": {},
     "output_type": "execute_result"
    }
   ],
   "source": [
    "return_matrix.shape"
   ]
  },
  {
   "cell_type": "code",
   "execution_count": 87,
   "metadata": {},
   "outputs": [
    {
     "name": "stdout",
     "output_type": "stream",
     "text": [
      "Train on 82458 samples, validate on 12090 samples\n",
      "Epoch 1/50\n",
      "82458/82458 [==============================] - 18s 214us/step - loss: 1275.3075 - mean_absolute_error: 3.9522 - val_loss: 63.3948 - val_mean_absolute_error: 1.3317\n",
      "Epoch 2/50\n",
      "82458/82458 [==============================] - 17s 202us/step - loss: 823.1719 - mean_absolute_error: 3.2547 - val_loss: 90.7245 - val_mean_absolute_error: 1.7013\n",
      "Epoch 3/50\n",
      "82458/82458 [==============================] - 17s 207us/step - loss: 85.9279 - mean_absolute_error: 1.2355 - val_loss: 37.0729 - val_mean_absolute_error: 0.8781\n",
      "Epoch 4/50\n",
      "82458/82458 [==============================] - 18s 219us/step - loss: 47.4254 - mean_absolute_error: 0.8017 - val_loss: 25.6861 - val_mean_absolute_error: 0.7072\n",
      "Epoch 5/50\n",
      "82458/82458 [==============================] - 18s 217us/step - loss: 22.0495 - mean_absolute_error: 0.6207 - val_loss: 9.3930 - val_mean_absolute_error: 0.5745\n",
      "Epoch 6/50\n",
      "82458/82458 [==============================] - 17s 207us/step - loss: 13.7732 - mean_absolute_error: 0.5357 - val_loss: 7.7185 - val_mean_absolute_error: 0.4923\n",
      "Epoch 7/50\n",
      "82458/82458 [==============================] - 17s 208us/step - loss: 12.3068 - mean_absolute_error: 0.4819 - val_loss: 6.3366 - val_mean_absolute_error: 0.4597\n",
      "Epoch 8/50\n",
      "82458/82458 [==============================] - 17s 204us/step - loss: 7.8490 - mean_absolute_error: 0.3911 - val_loss: 3.4216 - val_mean_absolute_error: 0.3560\n",
      "Epoch 9/50\n",
      "82458/82458 [==============================] - 17s 210us/step - loss: 5.0330 - mean_absolute_error: 0.2842 - val_loss: 3.0659 - val_mean_absolute_error: 0.2856\n",
      "Epoch 10/50\n",
      "82458/82458 [==============================] - 17s 206us/step - loss: 4.4575 - mean_absolute_error: 0.2375 - val_loss: 3.0663 - val_mean_absolute_error: 0.2386\n",
      "Epoch 11/50\n",
      "82458/82458 [==============================] - 18s 219us/step - loss: 20.4717 - mean_absolute_error: 0.3227 - val_loss: 1.2639 - val_mean_absolute_error: 0.1784\n",
      "Epoch 12/50\n",
      "82458/82458 [==============================] - 19s 231us/step - loss: 1.2526 - mean_absolute_error: 0.1411 - val_loss: 1.3066 - val_mean_absolute_error: 0.1759\n",
      "Epoch 13/50\n",
      "82458/82458 [==============================] - 18s 216us/step - loss: 1.1405 - mean_absolute_error: 0.1335 - val_loss: 0.2989 - val_mean_absolute_error: 0.1011\n",
      "Epoch 14/50\n",
      "82458/82458 [==============================] - 17s 209us/step - loss: 0.8834 - mean_absolute_error: 0.1290 - val_loss: 0.8297 - val_mean_absolute_error: 0.1327\n",
      "Epoch 15/50\n",
      "82458/82458 [==============================] - 17s 207us/step - loss: 0.6321 - mean_absolute_error: 0.1059 - val_loss: 1.0215 - val_mean_absolute_error: 0.1449\n",
      "Epoch 16/50\n",
      "82458/82458 [==============================] - 17s 212us/step - loss: 0.9039 - mean_absolute_error: 0.1262 - val_loss: 0.9705 - val_mean_absolute_error: 0.1302\n",
      "Epoch 17/50\n",
      "82458/82458 [==============================] - 18s 221us/step - loss: 0.9453 - mean_absolute_error: 0.1432 - val_loss: 1.0787 - val_mean_absolute_error: 0.1393\n",
      "Epoch 18/50\n",
      "82458/82458 [==============================] - 17s 211us/step - loss: 1.2362 - mean_absolute_error: 0.1527 - val_loss: 1.2345 - val_mean_absolute_error: 0.1605\n",
      "Epoch 00018: early stopping\n"
     ]
    }
   ],
   "source": [
    "history, testPredict = train_RNN(train_X, train_y, test_X, test_y, val_X, val_y, 0.4, 16)"
   ]
  },
  {
   "cell_type": "code",
   "execution_count": 92,
   "metadata": {},
   "outputs": [
    {
     "data": {
      "image/png": "[encoded data removed]",
      "text/plain": [
       "<Figure size 432x288 with 1 Axes>"
      ]
     },
     "metadata": {
      "needs_background": "light"
     },
     "output_type": "display_data"
    }
   ],
   "source": [
    "loss = history.history['loss']\n",
    "val_loss = history.history['val_loss']\n",
    "plt.plot(range(3, len(loss) + 1), loss[2:], 'r-', label='Training Loss')\n",
    "plt.plot(range(3, len(loss) + 1), val_loss[2:], 'b-', label='Validation Loss')\n",
    "plt.xlabel(\"Epochs\")\n",
    "plt.ylabel(\"Loss\")\n",
    "plt.legend()\n",
    "plt.show()"
   ]
  },
  {
   "cell_type": "code",
   "execution_count": 93,
   "metadata": {},
   "outputs": [
    {
     "data": {
      "text/plain": [
       "<matplotlib.legend.Legend at 0x1a3a07e668>"
      ]
     },
     "execution_count": 93,
     "metadata": {},
     "output_type": "execute_result"
    },
    {
     "data": {
      "image/png": "[encoded data removed]",
      "text/plain": [
       "<Figure size 432x288 with 1 Axes>"
      ]
     },
     "metadata": {
      "needs_background": "light"
     },
     "output_type": "display_data"
    }
   ],
   "source": [
    "plt.plot(testPredict)\n",
    "plt.plot(test_y)\n",
    "plt.legend(['prediction','true'])"
   ]
  },
  {
   "cell_type": "markdown",
   "metadata": {},
   "source": [
    "### Result after removing outliers"
   ]
  },
  {
   "cell_type": "code",
   "execution_count": 28,
   "metadata": {},
   "outputs": [
    {
     "name": "stdout",
     "output_type": "stream",
     "text": [
      "Train on 78521 samples, validate on 11866 samples\n",
      "Epoch 1/50\n",
      "78521/78521 [==============================] - 17s 211us/step - loss: 103.7956 - mean_absolute_error: 2.1734 - val_loss: 0.2049 - val_mean_absolute_error: 0.2245\n",
      "Epoch 2/50\n",
      "78521/78521 [==============================] - 16s 208us/step - loss: 0.1511 - mean_absolute_error: 0.1123 - val_loss: 0.0419 - val_mean_absolute_error: 0.0825\n",
      "Epoch 3/50\n",
      "78521/78521 [==============================] - 16s 205us/step - loss: 0.0498 - mean_absolute_error: 0.0538 - val_loss: 0.0121 - val_mean_absolute_error: 0.0379\n",
      "Epoch 4/50\n",
      "78521/78521 [==============================] - 17s 213us/step - loss: 0.0208 - mean_absolute_error: 0.0315 - val_loss: 0.0044 - val_mean_absolute_error: 0.0243\n",
      "Epoch 5/50\n",
      "78521/78521 [==============================] - 16s 205us/step - loss: 0.0105 - mean_absolute_error: 0.0229 - val_loss: 0.0021 - val_mean_absolute_error: 0.0110\n",
      "Epoch 6/50\n",
      "78521/78521 [==============================] - 16s 207us/step - loss: 0.0058 - mean_absolute_error: 0.0190 - val_loss: 0.0015 - val_mean_absolute_error: 0.0131\n",
      "Epoch 7/50\n",
      "78521/78521 [==============================] - 16s 207us/step - loss: 0.0023 - mean_absolute_error: 0.0137 - val_loss: 0.0012 - val_mean_absolute_error: 0.0131\n",
      "Epoch 8/50\n",
      "78521/78521 [==============================] - 16s 203us/step - loss: 0.0024 - mean_absolute_error: 0.0109 - val_loss: 3.6542e-04 - val_mean_absolute_error: 0.0047\n",
      "Epoch 9/50\n",
      "78521/78521 [==============================] - 16s 209us/step - loss: 2.6520e-04 - mean_absolute_error: 0.0038 - val_loss: 2.7976e-04 - val_mean_absolute_error: 0.0036\n",
      "Epoch 10/50\n",
      "78521/78521 [==============================] - 16s 204us/step - loss: 3.1360e-04 - mean_absolute_error: 0.0041 - val_loss: 3.4917e-04 - val_mean_absolute_error: 0.0085\n",
      "Epoch 11/50\n",
      "78521/78521 [==============================] - 16s 206us/step - loss: 1.8485e-04 - mean_absolute_error: 0.0036 - val_loss: 1.5073e-04 - val_mean_absolute_error: 0.0032\n",
      "Epoch 12/50\n",
      "78521/78521 [==============================] - 16s 205us/step - loss: 2.1366e-04 - mean_absolute_error: 0.0035 - val_loss: 1.8472e-04 - val_mean_absolute_error: 0.0041\n",
      "Epoch 13/50\n",
      "78521/78521 [==============================] - 16s 204us/step - loss: 2.0146e-04 - mean_absolute_error: 0.0035 - val_loss: 1.7235e-04 - val_mean_absolute_error: 0.0042\n",
      "Epoch 14/50\n",
      "78521/78521 [==============================] - 16s 208us/step - loss: 1.7120e-04 - mean_absolute_error: 0.0043 - val_loss: 2.2377e-04 - val_mean_absolute_error: 0.0057\n",
      "Epoch 15/50\n",
      "78521/78521 [==============================] - 16s 204us/step - loss: 1.8649e-04 - mean_absolute_error: 0.0038 - val_loss: 3.3215e-04 - val_mean_absolute_error: 0.0084\n",
      "Epoch 16/50\n",
      "78521/78521 [==============================] - 16s 204us/step - loss: 6.0835e-04 - mean_absolute_error: 0.0060 - val_loss: 2.3423e-04 - val_mean_absolute_error: 0.0060\n",
      "Epoch 00016: early stopping\n"
     ]
    }
   ],
   "source": [
    "#after removing outliers\n",
    "filter_history, filter_testPredict = train_RNN(train1_X, train1_y, test1_X, test1_y, val1_X, val1_y, 0.4, 16)"
   ]
  },
  {
   "cell_type": "code",
   "execution_count": 29,
   "metadata": {},
   "outputs": [
    {
     "data": {
      "image/png": "[encoded data removed]",
      "text/plain": [
       "<Figure size 432x288 with 1 Axes>"
      ]
     },
     "metadata": {
      "needs_background": "light"
     },
     "output_type": "display_data"
    }
   ],
   "source": [
    "loss = filter_history.history['loss']\n",
    "val_loss = filter_history.history['val_loss']\n",
    "plt.plot(range(3, len(loss) + 1), loss[2:], 'r-', label='Training Loss')\n",
    "plt.plot(range(3, len(loss) + 1), val_loss[2:], 'b-', label='Validation Loss')\n",
    "plt.xlabel(\"Epochs\")\n",
    "plt.ylabel(\"Loss\")\n",
    "plt.legend()\n",
    "plt.savefig(\"loss\", dpi = 600)\n",
    "plt.show()"
   ]
  },
  {
   "cell_type": "code",
   "execution_count": 85,
   "metadata": {},
   "outputs": [
    {
     "data": {
      "image/png": "[encoded data removed]",
      "text/plain": [
       "<Figure size 432x288 with 1 Axes>"
      ]
     },
     "metadata": {
      "needs_background": "light"
     },
     "output_type": "display_data"
    }
   ],
   "source": [
    "plt.plot(filter_testPredict)\n",
    "plt.plot(test1_y)\n",
    "plt.legend(['prediction','true'])\n",
    "plt.xlabel(\"observation\")\n",
    "plt.ylabel(\"Bitcoin log return\")\n",
    "# plt.ylim((-0.025,0.025))\n",
    "plt.savefig(\"pred\", dpi = 600)"
   ]
  },
  {
   "cell_type": "code",
   "execution_count": 112,
   "metadata": {},
   "outputs": [
    {
     "data": {
      "text/plain": [
       "array([0.48901582])"
      ]
     },
     "execution_count": 112,
     "metadata": {},
     "output_type": "execute_result"
    }
   ],
   "source": [
    "sum(np.sign(filter_testPredict) == np.sign(test1_y))/test1_y.shape[0]"
   ]
  },
  {
   "cell_type": "code",
   "execution_count": 144,
   "metadata": {},
   "outputs": [
    {
     "data": {
      "text/plain": [
       "0.5128205128205128"
      ]
     },
     "execution_count": 144,
     "metadata": {},
     "output_type": "execute_result"
    }
   ],
   "source": [
    "total, count = 0, 0\n",
    "threshold = 0.006\n",
    "for i in range(test1_y.shape[0]):\n",
    "    if abs(filter_testPredict[i]) > threshold:\n",
    "        total += 1\n",
    "        if np.sign(filter_testPredict[i]) == np.sign(test1_y[i]):\n",
    "            count += 1\n",
    "count/total"
   ]
  },
  {
   "cell_type": "code",
   "execution_count": 145,
   "metadata": {},
   "outputs": [
    {
     "data": {
      "text/plain": [
       "2145"
      ]
     },
     "execution_count": 145,
     "metadata": {},
     "output_type": "execute_result"
    }
   ],
   "source": [
    "total"
   ]
  },
  {
   "cell_type": "markdown",
   "metadata": {},
   "source": [
    "## Baseline: ARIMA"
   ]
  },
  {
   "cell_type": "code",
   "execution_count": 59,
   "metadata": {},
   "outputs": [],
   "source": [
    "from statsmodels.graphics.tsaplots import plot_acf, plot_pacf\n",
    "from statsmodels.tsa.stattools import adfuller\n",
    "from statsmodels.stats.diagnostic import acorr_ljungbox\n",
    "from statsmodels.tsa.ar_model import AR\n",
    "from sklearn.metrics import mean_squared_error as mse"
   ]
  },
  {
   "cell_type": "code",
   "execution_count": 45,
   "metadata": {},
   "outputs": [],
   "source": [
    "data = test1_y\n",
    "idx = int(0.8 * test1_y.shape[0])\n",
    "train, test = data[:idx], data[idx:]"
   ]
  },
  {
   "cell_type": "code",
   "execution_count": 69,
   "metadata": {},
   "outputs": [],
   "source": [
    "model = AR(train).fit()\n",
    "predictions = model.predict(start=len(train), end=len(train)+len(test)-1)"
   ]
  },
  {
   "cell_type": "code",
   "execution_count": 147,
   "metadata": {},
   "outputs": [
    {
     "data": {
      "image/png": "[encoded data removed]",
      "text/plain": [
       "<Figure size 432x288 with 1 Axes>"
      ]
     },
     "metadata": {
      "needs_background": "light"
     },
     "output_type": "display_data"
    }
   ],
   "source": [
    "plt.plot(test)\n",
    "plt.plot(predictions)\n",
    "plt.plot(filter_testPredict[idx:])\n",
    "plt.legend(['True','AR(baseline)','LSTM'])\n",
    "plt.xlabel(\"Test Set (1821)\")\n",
    "plt.ylabel(\"Bitcoin log return\")\n",
    "plt.ylim((-0.001,0.003))\n",
    "plt.savefig(\"baseline\",dpi = 600)"
   ]
  },
  {
   "cell_type": "code",
   "execution_count": 72,
   "metadata": {},
   "outputs": [],
   "source": [
    "def RMSE(test, pred):\n",
    "    return np.sqrt(mse(test, pred))\n",
    "    "
   ]
  },
  {
   "cell_type": "code",
   "execution_count": 73,
   "metadata": {},
   "outputs": [],
   "source": [
    "score_ar = RMSE(test, predictions)\n",
    "score_lstm = RMSE(test, filter_testPredict[idx:])"
   ]
  },
  {
   "cell_type": "code",
   "execution_count": 97,
   "metadata": {},
   "outputs": [
    {
     "data": {
      "text/plain": [
       "0.02012911369858095"
      ]
     },
     "execution_count": 97,
     "metadata": {},
     "output_type": "execute_result"
    }
   ],
   "source": [
    "RMSE(test1_y, filter_testPredict)"
   ]
  },
  {
   "cell_type": "code",
   "execution_count": 98,
   "metadata": {},
   "outputs": [
    {
     "data": {
      "text/plain": [
       "0.00040518121829039933"
      ]
     },
     "execution_count": 98,
     "metadata": {},
     "output_type": "execute_result"
    }
   ],
   "source": [
    "mse(test1_y, filter_testPredict)"
   ]
  },
  {
   "cell_type": "code",
   "execution_count": 150,
   "metadata": {},
   "outputs": [
    {
     "data": {
      "text/plain": [
       "0.4942339373970346"
      ]
     },
     "execution_count": 150,
     "metadata": {},
     "output_type": "execute_result"
    }
   ],
   "source": [
    "sum(np.sign(predictions) == np.sign(test))/test.shape[0]"
   ]
  },
  {
   "cell_type": "code",
   "execution_count": 156,
   "metadata": {},
   "outputs": [
    {
     "data": {
      "text/plain": [
       "array([0.49697968])"
      ]
     },
     "execution_count": 156,
     "metadata": {},
     "output_type": "execute_result"
    }
   ],
   "source": [
    "sum(np.sign(filter_testPredict[idx:]) == np.sign(test.reshape(test.shape[0],1)))/test.shape[0]"
   ]
  },
  {
   "cell_type": "code",
   "execution_count": 153,
   "metadata": {},
   "outputs": [
    {
     "data": {
      "text/plain": [
       "(1821,)"
      ]
     },
     "execution_count": 153,
     "metadata": {},
     "output_type": "execute_result"
    }
   ],
   "source": []
  },
  {
   "cell_type": "code",
   "execution_count": null,
   "metadata": {},
   "outputs": [],
   "source": []
  }
 ],
 "metadata": {
  "kernelspec": {
   "display_name": "Python 3",
   "language": "python",
   "name": "python3"
  },
  "language_info": {
   "codemirror_mode": {
    "name": "ipython",
    "version": 3
   },
   "file_extension": ".py",
   "mimetype": "text/x-python",
   "name": "python",
   "nbconvert_exporter": "python",
   "pygments_lexer": "ipython3",
   "version": "3.6.9"
  }
 },
 "nbformat": 4,
 "nbformat_minor": 2
}
