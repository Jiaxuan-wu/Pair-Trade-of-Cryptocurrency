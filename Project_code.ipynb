{
 "cells": [
  {
   "cell_type": "code",
   "execution_count": 2,
   "metadata": {},
   "outputs": [],
   "source": [
    "import cbpro\n",
    "import numpy as np\n",
    "import datetime\n",
    "import pandas as pd\n",
    "import time\n",
    "import math\n",
    "import seaborn as sns\n",
    "import matplotlib.pyplot as plt\n",
    "from scipy.spatial.distance import euclidean\n",
    "from fastdtw import fastdtw\n",
    "from scipy import stats\n",
    "public_client = cbpro.PublicClient()"
   ]
  },
  {
   "cell_type": "code",
   "execution_count": 3,
   "metadata": {},
   "outputs": [
    {
     "name": "stderr",
     "output_type": "stream",
     "text": [
      "Using TensorFlow backend.\n"
     ]
    }
   ],
   "source": [
    "import keras\n",
    "from keras.models import Sequential\n",
    "from keras.layers import LSTM, Dense, Dropout,LeakyReLU\n",
    "from keras.callbacks import EarlyStopping, LearningRateScheduler\n",
    "from sklearn.model_selection import train_test_split\n",
    "from sklearn.preprocessing import MinMaxScaler\n",
    "from sklearn.metrics import mean_squared_error\n",
    "import random\n",
    "pd.set_option('precision', 4)"
   ]
  },
  {
   "cell_type": "code",
   "execution_count": 3,
   "metadata": {},
   "outputs": [],
   "source": [
    "import warnings\n",
    "warnings.filterwarnings(\"ignore\")"
   ]
  },
  {
   "cell_type": "markdown",
   "metadata": {},
   "source": [
    "## Extract data from API"
   ]
  },
  {
   "cell_type": "code",
   "execution_count": 4,
   "metadata": {},
   "outputs": [],
   "source": [
    "def getData(label,start_time,end_time):\n",
    "    '''pull out data from start date to end date'''\n",
    "    #input\n",
    "    #label -- string, type of currency, such as 'ETH-USD'\n",
    "    #start_time, end_time -- ISO 8601 format date\n",
    "    \n",
    "    #output\n",
    "    #numpy ndarray\n",
    "    #pull out minute data\n",
    "    data=public_client.get_product_historic_rates(label,start=start_time, end=end_time, granularity=300)\n",
    "    return data"
   ]
  },
  {
   "cell_type": "code",
   "execution_count": 5,
   "metadata": {},
   "outputs": [],
   "source": [
    "def getMinuteData(label, start_date, end_date):\n",
    "    '''get all data of label from start_date to end_date'''\n",
    "    sample = []\n",
    "    date_list = pd.date_range(start=start_date, end=end_date)\n",
    "    for head, tail in zip(date_list[:-1], date_list[1:]):\n",
    "        tmp = getData(label,head.isoformat(),tail.isoformat())\n",
    "        while len(tmp) == 1:\n",
    "            time.sleep(0.8)\n",
    "            tmp = getData(label,head.isoformat(),tail.isoformat())\n",
    "        sample += tmp\n",
    "        time.sleep(0.5)\n",
    "    return sample"
   ]
  },
  {
   "cell_type": "code",
   "execution_count": 6,
   "metadata": {},
   "outputs": [],
   "source": [
    "def save_data(data,tag):\n",
    "    '''save the data in dictionary into separated csv file'''\n",
    "    \n",
    "    #transform to pandas dataframe format and add columne name\n",
    "    result=pd.DataFrame(data,columns=['date','low','high','open','close','volume'])\n",
    "    \n",
    "    #transform unix time to datetime for better understand\n",
    "    result['date']=pd.to_datetime(result['date'], unit='s')\n",
    "    filename=tag+'_2017.csv'\n",
    "    result.to_csv(filename)\n",
    "    #return result    "
   ]
  },
  {
   "cell_type": "code",
   "execution_count": 7,
   "metadata": {},
   "outputs": [],
   "source": [
    "# #extract from API and save into excel file\n",
    "# #Extract 2017 data\n",
    "\n",
    "# start_date, end_date = '08/15/2017', '08/15/2018'\n",
    "# ticker = ticker=['BTC-USD','ETH-USD','LTC-USD']\n",
    "# for tick in ticker:\n",
    "#     data = getMinuteData(tick, start_date, end_date)\n",
    "#     save_data(data, tick)"
   ]
  },
  {
   "cell_type": "markdown",
   "metadata": {},
   "source": [
    "## Read Data from CSV file"
   ]
  },
  {
   "cell_type": "code",
   "execution_count": 5,
   "metadata": {},
   "outputs": [],
   "source": [
    "def extract_merge(year):\n",
    "    \"\"\"extract data from csv file and merge them into 1 table\"\"\"\n",
    "    tick = ['BTC', 'ETH', 'LTC']\n",
    "    if year == '2018':\n",
    "        ticker = [\"Data/\" + i + '-USD.csv' for i in tick]\n",
    "    else:\n",
    "        ticker = [\"Data/\" + i + '-USD_2017.csv' for i in tick]\n",
    "    BTC_data = pd.read_csv(ticker[0],parse_dates=['date'])\n",
    "    BTC_data=BTC_data.drop(BTC_data.columns[0],axis=1)\n",
    "    ETH_data=pd.read_csv(ticker[1],parse_dates=['date'])\n",
    "    ETH_data=ETH_data.drop(ETH_data.columns[0],axis=1)\n",
    "    LTC_data=pd.read_csv(ticker[2],parse_dates=['date'])\n",
    "    LTC_data=LTC_data.drop(LTC_data.columns[0],axis=1)\n",
    "    \n",
    "    #merge BTC & ETH data\n",
    "    merge1=BTC_data.merge(ETH_data, how='inner', on='date', suffixes=('_BTC','_ETH'))\n",
    "    #merge above table with LTC data\n",
    "    merge2=pd.merge(merge1,LTC_data,how='inner', on='date')\n",
    "    #change the colume name\n",
    "    merge2=merge2.rename(columns={i:i+'_LTC' for i in list(LTC_data)[1:]})\n",
    "    merge2 = merge2.drop_duplicates()\n",
    "    \n",
    "    return merge2"
   ]
  },
  {
   "cell_type": "code",
   "execution_count": 6,
   "metadata": {},
   "outputs": [],
   "source": [
    "merge2 = extract_merge('2018')\n",
    "merge2_2017 = extract_merge('2017')"
   ]
  },
  {
   "cell_type": "code",
   "execution_count": 10,
   "metadata": {},
   "outputs": [],
   "source": [
    "# #read the data from csv file\n",
    "# BTC_data=pd.read_csv('BTC-USD.csv',parse_dates=['date'])\n",
    "# BTC_data=BTC_data.drop(BTC_data.columns[0],axis=1)\n",
    "# ETH_data=pd.read_csv('ETH-USD.csv',parse_dates=['date'])\n",
    "# ETH_data=ETH_data.drop(ETH_data.columns[0],axis=1)\n",
    "# LTC_data=pd.read_csv('LTC-USD.csv',parse_dates=['date'])\n",
    "# LTC_data=LTC_data.drop(LTC_data.columns[0],axis=1)\n",
    "\n",
    "# '''\n",
    "# align all data sets\n",
    "# '''\n",
    "\n",
    "# #merge BTC & ETH data\n",
    "# merge1=BTC_data.merge(ETH_data, how='inner', on='date', suffixes=('_BTC','_ETH'))\n",
    "# #merge above table with LTC data\n",
    "# merge2=pd.merge(merge1,LTC_data,how='inner', on='date')\n",
    "# #change the colume name\n",
    "# merge2=merge2.rename(columns={i:i+'_LTC' for i in list(LTC_data)[1:]})\n",
    "# merge2 = merge2.drop_duplicates()"
   ]
  },
  {
   "cell_type": "markdown",
   "metadata": {},
   "source": [
    "## Start RNN model"
   ]
  },
  {
   "cell_type": "markdown",
   "metadata": {},
   "source": [
    "### generate log return (here use percentage return)"
   ]
  },
  {
   "cell_type": "code",
   "execution_count": 11,
   "metadata": {},
   "outputs": [],
   "source": [
    "#change all price into log return\n",
    "def convert_log_return(data):\n",
    "    '''change price into percentage log return'''\n",
    "    length = len(list(data))\n",
    "    sample_data = data\n",
    "    for col_name in list(sample_data)[1:]:\n",
    "        new_col_name = 'return_' + col_name\n",
    "        #calculate percentage change\n",
    "        tmp =sample_data[col_name].pct_change()\n",
    "        \n",
    "        #convert percentage return into log\n",
    "        #if return == 0, log return == 0\n",
    "        tmp = tmp.map(lambda x: (np.log(x) if x > 0 else -np.log(-x)))\n",
    "        tmp = tmp.map(lambda x: (0 if x == float('inf') else x))\n",
    "        sample_data[new_col_name] = tmp\n",
    "    \n",
    "    #return the return matrix\n",
    "    return_matrix = sample_data.filter(like='return')\n",
    "    return sample_data.filter(like='return')"
   ]
  },
  {
   "cell_type": "code",
   "execution_count": 25,
   "metadata": {},
   "outputs": [],
   "source": [
    "# #change all price into percentage return\n",
    "#not take log here\n",
    "\n",
    "\n",
    "# def convert_log_return(data):\n",
    "#     '''change price into percentage log return'''\n",
    "#     length = len(list(data))\n",
    "#     sample_data = data\n",
    "#     for col_name in list(sample_data)[1:]:\n",
    "#         new_col_name = 'return_' + col_name\n",
    "#         #calculate percentage change\n",
    "#         tmp =sample_data[col_name].pct_change()\n",
    "        \n",
    "# #         #convert percentage return into log\n",
    "# #         #if return == 0, log return == 0\n",
    "# #         tmp = tmp.map(lambda x: (np.log(x) if x > 0 else -np.log(-x)))\n",
    "# #         tmp = tmp.map(lambda x: (0 if x == float('inf') else x))\n",
    "#         sample_data[new_col_name] = tmp\n",
    "    \n",
    "#     #return the return matrix\n",
    "#     return_matrix = sample_data.filter(like='return')\n",
    "#     return sample_data.filter(like='return')"
   ]
  },
  {
   "cell_type": "code",
   "execution_count": 12,
   "metadata": {},
   "outputs": [],
   "source": [
    "def create_dataset(data, time_step, tick1, tick2, target):\n",
    "    '''convert time series data into X, y'''\n",
    "    \"\"\"given tag name(tick1, tick2) of two crpytocurrency\"\"\"\n",
    "    \"\"\"X = [low1, high1, open1, close1, volume1, low2, high2, open2, close2, volume2] for time (i, i + timestep)\"\"\"\n",
    "    \n",
    "    #use #timestep data from tick1, tick2 to predict next time stamp tick1' open price\n",
    "    \n",
    "    #create colume label\n",
    "    input_label1 = ['return_' + i + '_' + tick1 for i in ['low', 'high', 'open','close', 'volume']]\n",
    "    input_label2 = ['return_' + i + '_' + tick2 for i in ['low', 'high', 'open','close', 'volume']]\n",
    "    \n",
    "    target_label = 'return_open_' + target\n",
    "    \n",
    "    tmp_data1 = data[input_label1]\n",
    "    tmp_data2 = data[input_label2]\n",
    "    tmp_target = data[target_label]\n",
    "    \n",
    "    transformed_X = []\n",
    "    transformed_y = []\n",
    "    for i in range(time_step, data.shape[0]):\n",
    "        tmp1 = tmp_data1[(i - time_step): i].values.tolist()\n",
    "        tmp2 = tmp_data2[(i - time_step): i].values.tolist()\n",
    "        tmp = []\n",
    "        for j in range(len(tmp1)):\n",
    "            tmp.append(tmp1[j] + tmp2[j])\n",
    "            \n",
    "        #tmp = [low1, high1, open1, close1, volume1, low2, high2, open2, close2, volume2]\n",
    "        transformed_X.append(tmp)\n",
    "        transformed_y.append(tmp_target.iloc[i])\n",
    "    \n",
    "    return np.asarray(transformed_X), np.asarray(transformed_y)"
   ]
  },
  {
   "cell_type": "code",
   "execution_count": null,
   "metadata": {},
   "outputs": [],
   "source": []
  },
  {
   "cell_type": "markdown",
   "metadata": {},
   "source": [
    "### train, test, validation split by week"
   ]
  },
  {
   "cell_type": "code",
   "execution_count": 13,
   "metadata": {},
   "outputs": [],
   "source": [
    "def generate_week_list(start_date, end_date):\n",
    "    '''generate the start and end day of each week'''\n",
    "    '''week_list = {1: [start, end]}'''\n",
    "    \"\"\"In order to split train, test, validation in future step\"\"\"\n",
    "    week_list = {}\n",
    "    curr_week = start_date\n",
    "    i = 1\n",
    "    while curr_week < end_date:\n",
    "        end_week = curr_week + datetime.timedelta(days = 7)\n",
    "        week_list[i] = [curr_week, end_week]\n",
    "        curr_week, i = end_week, i + 1\n",
    "    \n",
    "    return week_list"
   ]
  },
  {
   "cell_type": "code",
   "execution_count": 14,
   "metadata": {},
   "outputs": [],
   "source": [
    "def extract_sample(index, week_list, date, X, y):\n",
    "    '''given index of week we want to sample, extract corresponding sample'''\n",
    "    \n",
    "    sample_X, sample_y = [], []\n",
    "    for i in index:\n",
    "        start, end = week_list[i]\n",
    "        tmp_index = [(date < end) & (date >= start)]\n",
    "        try:\n",
    "            sample_X = np.concatenate((sample_X, X[tmp_index]), axis = 0)\n",
    "            sample_y = np.concatenate((sample_y, y[tmp_index]), axis = 0)\n",
    "        except:\n",
    "            sample_X = X[tmp_index]\n",
    "            sample_y = y[tmp_index]\n",
    "    \n",
    "    return sample_X, sample_y"
   ]
  },
  {
   "cell_type": "code",
   "execution_count": 15,
   "metadata": {},
   "outputs": [],
   "source": [
    "def train_test_val(X, y, date):\n",
    "    '''split train, test, validation'''\n",
    "    #-----------------------------------------#\n",
    "    #--e.g. 52 weeks in total, 0.8, 0.1, 0.1--#\n",
    "    #-----------------------------------------#\n",
    "    \n",
    "    start, end = date.iloc[0], date.iloc[-1]\n",
    "    week_list = generate_week_list(start, end)\n",
    "    index = list(week_list.keys())\n",
    "    train_index, test_index = train_test_split(index, test_size = 0.2)\n",
    "    test_index, val_index = train_test_split(test_index, test_size = 0.5)\n",
    "    train_X, train_y = extract_sample(train_index, week_list, date, X, y)\n",
    "    test_X, test_y = extract_sample(test_index, week_list, date, X, y)\n",
    "    val_X, val_y = extract_sample(val_index, week_list, date, X, y)\n",
    "    \n",
    "    return train_X, train_y, test_X, test_y, val_X, val_y"
   ]
  },
  {
   "cell_type": "markdown",
   "metadata": {},
   "source": [
    "### RNN main program"
   ]
  },
  {
   "cell_type": "code",
   "execution_count": 23,
   "metadata": {},
   "outputs": [],
   "source": [
    "def step_decay(epoch):\n",
    "    \"\"\"learning rate scheduler\"\"\"\n",
    "    \"\"\"start from initial_rate, after epochs_drop step, drop\"\"\"\n",
    "    initial_rate = 0.1\n",
    "    drop = 0.1\n",
    "    epochs_drop = 1.0\n",
    "    \n",
    "    lrate = initial_rate * math.pow(drop, math.floor((1 + epoch)/epochs_drop))\n",
    "    \n",
    "    return lrate\n",
    "                                    "
   ]
  },
  {
   "cell_type": "code",
   "execution_count": 17,
   "metadata": {},
   "outputs": [],
   "source": [
    "def train_RNN(train_X, train_y, test_X, test_y, val_X, val_y, drop_rate, hidden_unit):\n",
    "    '''RNN'''\n",
    "    \n",
    "    #------------LSTM-------------------------\n",
    "\n",
    "    n_step, n_feature = train_X.shape[1:]\n",
    "    model = Sequential()\n",
    "\n",
    "    # Embedding layer\n",
    "    model.add(LSTM(hidden_unit, input_shape=(n_step, n_feature), activation='tanh', return_sequences=False))\n",
    "#     model.add(LSTM(hidden_unit, input_shape=(n_step, n_feature), return_sequences=False))\n",
    "#     model.add(LeakyReLU(alpha=0.3))\n",
    "\n",
    "    model.add(Dropout(drop_rate))\n",
    "\n",
    "    model.add(Dense(16, activation='tanh'))\n",
    "#     model.add(Dense(16))\n",
    "#     model.add(LeakyReLU(alpha=0.3))\n",
    "    model.add(Dense(1))\n",
    "    \n",
    "    # Compile the model\n",
    "    model.compile(optimizer='adam', loss='mean_squared_error', metrics=['mae'])\n",
    "    lrate = LearningRateScheduler(step_decay)\n",
    "    es = EarlyStopping(monitor='val_loss', mode='min', verbose=1, patience = 5)\n",
    "    history = model.fit(train_X, train_y, epochs=100, batch_size = 100, verbose=1, validation_data=(val_X, val_y), callbacks = [es, lrate])\n",
    "\n",
    "    testPredict = model.predict(test_X)\n",
    "    #score = model.evaluate(y_test, testPredict)\n",
    "    \n",
    "    return history, testPredict\n",
    "\n"
   ]
  },
  {
   "cell_type": "code",
   "execution_count": 29,
   "metadata": {},
   "outputs": [],
   "source": [
    "#merge2 is the extract & merge data\n",
    "#return matrix stores all log percentage return data\n",
    "return_matrix = convert_log_return(merge2)\n",
    "#add date colume for splitting\n",
    "return_matrix['date'] = merge2['date']\n",
    "#first row is NA, so drop it\n",
    "return_matrix = return_matrix.drop(0, axis = 0)"
   ]
  },
  {
   "cell_type": "code",
   "execution_count": 31,
   "metadata": {},
   "outputs": [],
   "source": [
    "data = return_matrix\n",
    "time_step = 60 # about 5 hours\n",
    "tick1, tick2 = 'BTC', 'ETH'\n",
    "target = 'BTC'\n",
    "#X is N x time_step x 10 matrix\n",
    "X, y = create_dataset(data, time_step, tick1, tick2, target)"
   ]
  },
  {
   "cell_type": "code",
   "execution_count": 32,
   "metadata": {},
   "outputs": [],
   "source": [
    "date = return_matrix['date'][time_step:]\n",
    "train_X, train_y, test_X, test_y, val_X, val_y = train_test_val(X, y, date)"
   ]
  },
  {
   "cell_type": "code",
   "execution_count": 33,
   "metadata": {},
   "outputs": [
    {
     "data": {
      "text/plain": [
       "(82518, 60, 10)"
      ]
     },
     "execution_count": 33,
     "metadata": {},
     "output_type": "execute_result"
    }
   ],
   "source": [
    "train_X.shape"
   ]
  },
  {
   "cell_type": "code",
   "execution_count": 34,
   "metadata": {},
   "outputs": [
    {
     "data": {
      "text/plain": [
       "(10080, 60, 10)"
      ]
     },
     "execution_count": 34,
     "metadata": {},
     "output_type": "execute_result"
    }
   ],
   "source": [
    "test_X.shape"
   ]
  },
  {
   "cell_type": "code",
   "execution_count": 36,
   "metadata": {},
   "outputs": [],
   "source": [
    "# drop_rate_range = [0.1, 0.2, 0.3, 0.4]\n",
    "# hidden_unirt_range = [32, 64, 128, 256]"
   ]
  },
  {
   "cell_type": "code",
   "execution_count": 36,
   "metadata": {},
   "outputs": [
    {
     "name": "stdout",
     "output_type": "stream",
     "text": [
      "Train on 82518 samples, validate on 12030 samples\n",
      "Epoch 1/100\n",
      "82518/82518 [==============================] - 35s 424us/step - loss: 4.7510e-04 - mean_absolute_error: 0.0052 - val_loss: 6.4542e-06 - val_mean_absolute_error: 0.0012\n",
      "Epoch 2/100\n",
      "82518/82518 [==============================] - 35s 425us/step - loss: 1.7533e-05 - mean_absolute_error: 0.0016 - val_loss: 6.0534e-06 - val_mean_absolute_error: 0.0011\n",
      "Epoch 3/100\n",
      "82518/82518 [==============================] - 35s 429us/step - loss: 1.7301e-05 - mean_absolute_error: 0.0015 - val_loss: 5.7038e-06 - val_mean_absolute_error: 9.9340e-04\n",
      "Epoch 4/100\n",
      "82518/82518 [==============================] - 36s 437us/step - loss: 1.7230e-05 - mean_absolute_error: 0.0015 - val_loss: 5.7000e-06 - val_mean_absolute_error: 9.9608e-04\n",
      "Epoch 5/100\n",
      "82518/82518 [==============================] - 36s 433us/step - loss: 1.7225e-05 - mean_absolute_error: 0.0015 - val_loss: 5.6958e-06 - val_mean_absolute_error: 9.9166e-04\n",
      "Epoch 6/100\n",
      "82518/82518 [==============================] - 35s 426us/step - loss: 1.7238e-05 - mean_absolute_error: 0.0015 - val_loss: 5.6957e-06 - val_mean_absolute_error: 9.9159e-04\n",
      "Epoch 7/100\n",
      "82518/82518 [==============================] - 35s 429us/step - loss: 1.7224e-05 - mean_absolute_error: 0.0015 - val_loss: 5.6957e-06 - val_mean_absolute_error: 9.9159e-04\n",
      "Epoch 8/100\n",
      "82518/82518 [==============================] - 36s 438us/step - loss: 1.7219e-05 - mean_absolute_error: 0.0015 - val_loss: 5.6957e-06 - val_mean_absolute_error: 9.9159e-04\n",
      "Epoch 9/100\n",
      "82518/82518 [==============================] - 37s 451us/step - loss: 1.7239e-05 - mean_absolute_error: 0.0015 - val_loss: 5.6957e-06 - val_mean_absolute_error: 9.9159e-04\n",
      "Epoch 10/100\n",
      "82518/82518 [==============================] - 35s 423us/step - loss: 1.7259e-05 - mean_absolute_error: 0.0015 - val_loss: 5.6957e-06 - val_mean_absolute_error: 9.9159e-04\n",
      "Epoch 11/100\n",
      "82518/82518 [==============================] - 35s 420us/step - loss: 1.7232e-05 - mean_absolute_error: 0.0015 - val_loss: 5.6957e-06 - val_mean_absolute_error: 9.9159e-04\n",
      "Epoch 12/100\n",
      "82518/82518 [==============================] - 36s 431us/step - loss: 1.7238e-05 - mean_absolute_error: 0.0015 - val_loss: 5.6957e-06 - val_mean_absolute_error: 9.9159e-04\n",
      "Epoch 13/100\n",
      "82518/82518 [==============================] - 35s 420us/step - loss: 1.7254e-05 - mean_absolute_error: 0.0015 - val_loss: 5.6957e-06 - val_mean_absolute_error: 9.9159e-04\n",
      "Epoch 00013: early stopping\n"
     ]
    }
   ],
   "source": [
    "#if not take log for percentage return\n",
    "history, testPredict = train_RNN(train_X, train_y, test_X, test_y, val_X, val_y, 0.4, 64)"
   ]
  },
  {
   "cell_type": "code",
   "execution_count": 43,
   "metadata": {},
   "outputs": [
    {
     "name": "stdout",
     "output_type": "stream",
     "text": [
      "Train on 82492 samples, validate on 12094 samples\n",
      "Epoch 1/100\n",
      "82492/82492 [==============================] - 35s 427us/step - loss: 58.0065 - mean_absolute_error: 7.2200 - val_loss: 64.3941 - val_mean_absolute_error: 7.4910\n",
      "Epoch 2/100\n",
      "82492/82492 [==============================] - 36s 440us/step - loss: 57.7621 - mean_absolute_error: 7.2066 - val_loss: 64.3471 - val_mean_absolute_error: 7.4904\n",
      "Epoch 3/100\n",
      "82492/82492 [==============================] - 39s 469us/step - loss: 57.7210 - mean_absolute_error: 7.2031 - val_loss: 64.3444 - val_mean_absolute_error: 7.4903\n",
      "Epoch 4/100\n",
      "82492/82492 [==============================] - 39s 475us/step - loss: 57.7033 - mean_absolute_error: 7.2024 - val_loss: 64.3441 - val_mean_absolute_error: 7.4903\n",
      "Epoch 5/100\n",
      "82492/82492 [==============================] - 40s 483us/step - loss: 57.7075 - mean_absolute_error: 7.2022 - val_loss: 64.3440 - val_mean_absolute_error: 7.4903\n",
      "Epoch 6/100\n",
      "82492/82492 [==============================] - 38s 466us/step - loss: 57.7323 - mean_absolute_error: 7.2037 - val_loss: 64.3440 - val_mean_absolute_error: 7.4903\n",
      "Epoch 7/100\n",
      "82492/82492 [==============================] - 38s 462us/step - loss: 57.7165 - mean_absolute_error: 7.2034 - val_loss: 64.3440 - val_mean_absolute_error: 7.4903\n",
      "Epoch 8/100\n",
      "82492/82492 [==============================] - 37s 447us/step - loss: 57.7161 - mean_absolute_error: 7.2031 - val_loss: 64.3440 - val_mean_absolute_error: 7.4903\n",
      "Epoch 9/100\n",
      "82492/82492 [==============================] - 39s 475us/step - loss: 57.7067 - mean_absolute_error: 7.2025 - val_loss: 64.3440 - val_mean_absolute_error: 7.4903\n",
      "Epoch 10/100\n",
      "82492/82492 [==============================] - 39s 468us/step - loss: 57.7003 - mean_absolute_error: 7.2023 - val_loss: 64.3440 - val_mean_absolute_error: 7.4903\n",
      "Epoch 11/100\n",
      "82492/82492 [==============================] - 36s 430us/step - loss: 57.7000 - mean_absolute_error: 7.2021 - val_loss: 64.3440 - val_mean_absolute_error: 7.4903\n",
      "Epoch 12/100\n",
      "82492/82492 [==============================] - 35s 428us/step - loss: 57.7357 - mean_absolute_error: 7.2044 - val_loss: 64.3440 - val_mean_absolute_error: 7.4903\n",
      "Epoch 13/100\n",
      "82492/82492 [==============================] - 35s 427us/step - loss: 57.7081 - mean_absolute_error: 7.2030 - val_loss: 64.3440 - val_mean_absolute_error: 7.4903\n",
      "Epoch 14/100\n",
      "82492/82492 [==============================] - 37s 454us/step - loss: 57.7101 - mean_absolute_error: 7.2026 - val_loss: 64.3440 - val_mean_absolute_error: 7.4903\n",
      "Epoch 00014: early stopping\n"
     ]
    }
   ],
   "source": [
    "#using relu as activation function\n",
    "#if take log percentage return\n",
    "history, testPredict = train_RNN(train_X, train_y, test_X, test_y, val_X, val_y, 0.4, 64)"
   ]
  },
  {
   "cell_type": "code",
   "execution_count": 24,
   "metadata": {},
   "outputs": [
    {
     "data": {
      "image/png": "[encoded data removed]",
      "text/plain": [
       "<Figure size 432x288 with 1 Axes>"
      ]
     },
     "metadata": {
      "needs_background": "light"
     },
     "output_type": "display_data"
    }
   ],
   "source": [
    "loss = history.history['loss']\n",
    "val_loss = history.history['val_loss']\n",
    "plt.plot(range(1, len(loss) + 1), loss, 'r-', label='Training Loss')\n",
    "plt.plot(range(1, len(loss) + 1), val_loss, 'b-', label='Validation Loss')\n",
    "plt.legend()\n",
    "plt.show()"
   ]
  },
  {
   "cell_type": "code",
   "execution_count": 25,
   "metadata": {},
   "outputs": [
    {
     "data": {
      "image/png": "[encoded data removed]",
      "text/plain": [
       "<Figure size 432x288 with 1 Axes>"
      ]
     },
     "metadata": {
      "needs_background": "light"
     },
     "output_type": "display_data"
    }
   ],
   "source": [
    "val_mae = history.history['val_mean_absolute_error']\n",
    "mae= history.history['mean_absolute_error']\n",
    "plt.plot(range(1, len(loss) + 1), mae, 'r-', label='Training mean absolute error')\n",
    "plt.plot(range(1, len(loss) + 1), val_mae, 'b-', label='Validation mean absolute error')\n",
    "plt.legend()\n",
    "plt.show()"
   ]
  },
  {
   "cell_type": "code",
   "execution_count": 26,
   "metadata": {},
   "outputs": [
    {
     "data": {
      "text/plain": [
       "<matplotlib.legend.Legend at 0x1a99037588>"
      ]
     },
     "execution_count": 26,
     "metadata": {},
     "output_type": "execute_result"
    },
    {
     "data": {
      "image/png": "[encoded data removed]",
      "text/plain": [
       "<Figure size 432x288 with 1 Axes>"
      ]
     },
     "metadata": {
      "needs_background": "light"
     },
     "output_type": "display_data"
    }
   ],
   "source": [
    "plt.plot(testPredict[:500])\n",
    "plt.plot(test_y[:500])\n",
    "plt.legend(['prediction','true'])"
   ]
  },
  {
   "cell_type": "code",
   "execution_count": null,
   "metadata": {},
   "outputs": [],
   "source": []
  },
  {
   "cell_type": "markdown",
   "metadata": {},
   "source": [
    "## Baseline: ARIMA"
   ]
  },
  {
   "cell_type": "code",
   "execution_count": 28,
   "metadata": {},
   "outputs": [],
   "source": [
    "from statsmodels.graphics.tsaplots import plot_acf, plot_pacf\n",
    "from statsmodels.tsa.stattools import adfuller\n",
    "from statsmodels.stats.diagnostic import acorr_ljungbox\n",
    "from statsmodels.tsa.arima_model import ARIMA "
   ]
  },
  {
   "cell_type": "code",
   "execution_count": 54,
   "metadata": {},
   "outputs": [],
   "source": [
    "result = adfuller(test_y)"
   ]
  },
  {
   "cell_type": "code",
   "execution_count": 55,
   "metadata": {},
   "outputs": [
    {
     "name": "stdout",
     "output_type": "stream",
     "text": [
      "The p-value is:  0.0\n"
     ]
    }
   ],
   "source": [
    "print(\"The p-value is: \", result[1])"
   ]
  },
  {
   "cell_type": "code",
   "execution_count": 56,
   "metadata": {},
   "outputs": [],
   "source": [
    "#find the order of ARIMA\n",
    "min_p = min_q = float('inf')\n",
    "min_bic = float('inf')\n",
    "for p in range(1,8):\n",
    "    for q in range(1,8):\n",
    "        try:\n",
    "            tmp_bic=ARIMA(test_y, (p, 0, q)).fit().bic\n",
    "            if tmp_bic<min_bic:\n",
    "                min_p,min_q=p,q\n",
    "                min_bic=tmp_bic\n",
    "        except:\n",
    "            continue"
   ]
  },
  {
   "cell_type": "code",
   "execution_count": 34,
   "metadata": {},
   "outputs": [],
   "source": [
    "model = ARIMA(test_y, (4, 0, 4)).fit()"
   ]
  },
  {
   "cell_type": "code",
   "execution_count": 35,
   "metadata": {},
   "outputs": [],
   "source": [
    "pred_y = model.predict()"
   ]
  },
  {
   "cell_type": "code",
   "execution_count": 40,
   "metadata": {},
   "outputs": [
    {
     "data": {
      "text/plain": [
       "<matplotlib.legend.Legend at 0x1a845f3208>"
      ]
     },
     "execution_count": 40,
     "metadata": {},
     "output_type": "execute_result"
    },
    {
     "data": {
      "image/png": "[encoded data removed]",
      "text/plain": [
       "<Figure size 432x288 with 1 Axes>"
      ]
     },
     "metadata": {
      "needs_background": "light"
     },
     "output_type": "display_data"
    }
   ],
   "source": [
    "plt.plot(pred_y[:500])\n",
    "plt.plot(test_y[:500])\n",
    "plt.legend(['prediction','true'])"
   ]
  },
  {
   "cell_type": "code",
   "execution_count": 37,
   "metadata": {},
   "outputs": [
    {
     "data": {
      "text/html": [
       "<table class=\"simpletable\">\n",
       "<caption>ARMA Model Results</caption>\n",
       "<tr>\n",
       "  <th>Dep. Variable:</th>         <td>y</td>        <th>  No. Observations:  </th>    <td>10078</td>  \n",
       "</tr>\n",
       "<tr>\n",
       "  <th>Model:</th>            <td>ARMA(4, 4)</td>    <th>  Log Likelihood     </th> <td>-35083.272</td>\n",
       "</tr>\n",
       "<tr>\n",
       "  <th>Method:</th>             <td>css-mle</td>     <th>  S.D. of innovations</th>    <td>7.864</td>  \n",
       "</tr>\n",
       "<tr>\n",
       "  <th>Date:</th>          <td>Wed, 04 Sep 2019</td> <th>  AIC                </th>  <td>70186.545</td>\n",
       "</tr>\n",
       "<tr>\n",
       "  <th>Time:</th>              <td>19:36:51</td>     <th>  BIC                </th>  <td>70258.726</td>\n",
       "</tr>\n",
       "<tr>\n",
       "  <th>Sample:</th>                <td>0</td>        <th>  HQIC               </th>  <td>70210.968</td>\n",
       "</tr>\n",
       "<tr>\n",
       "  <th></th>                       <td> </td>        <th>                     </th>      <td> </td>    \n",
       "</tr>\n",
       "</table>\n",
       "<table class=\"simpletable\">\n",
       "<tr>\n",
       "     <td></td>        <th>coef</th>     <th>std err</th>      <th>z</th>      <th>P>|z|</th>  <th>[0.025</th>    <th>0.975]</th>  \n",
       "</tr>\n",
       "<tr>\n",
       "  <th>const</th>   <td>    0.0756</td> <td>    0.069</td> <td>    1.096</td> <td> 0.273</td> <td>   -0.060</td> <td>    0.211</td>\n",
       "</tr>\n",
       "<tr>\n",
       "  <th>ar.L1.y</th> <td>    0.5863</td> <td>    0.123</td> <td>    4.785</td> <td> 0.000</td> <td>    0.346</td> <td>    0.826</td>\n",
       "</tr>\n",
       "<tr>\n",
       "  <th>ar.L2.y</th> <td>   -0.0440</td> <td>    0.129</td> <td>   -0.341</td> <td> 0.733</td> <td>   -0.297</td> <td>    0.209</td>\n",
       "</tr>\n",
       "<tr>\n",
       "  <th>ar.L3.y</th> <td>   -0.4287</td> <td>    0.133</td> <td>   -3.230</td> <td> 0.001</td> <td>   -0.689</td> <td>   -0.169</td>\n",
       "</tr>\n",
       "<tr>\n",
       "  <th>ar.L4.y</th> <td>    0.8143</td> <td>    0.102</td> <td>    7.949</td> <td> 0.000</td> <td>    0.614</td> <td>    1.015</td>\n",
       "</tr>\n",
       "<tr>\n",
       "  <th>ma.L1.y</th> <td>   -0.5882</td> <td>    0.127</td> <td>   -4.628</td> <td> 0.000</td> <td>   -0.837</td> <td>   -0.339</td>\n",
       "</tr>\n",
       "<tr>\n",
       "  <th>ma.L2.y</th> <td>    0.0378</td> <td>    0.133</td> <td>    0.284</td> <td> 0.776</td> <td>   -0.223</td> <td>    0.299</td>\n",
       "</tr>\n",
       "<tr>\n",
       "  <th>ma.L3.y</th> <td>    0.4174</td> <td>    0.138</td> <td>    3.028</td> <td> 0.002</td> <td>    0.147</td> <td>    0.687</td>\n",
       "</tr>\n",
       "<tr>\n",
       "  <th>ma.L4.y</th> <td>   -0.8034</td> <td>    0.106</td> <td>   -7.595</td> <td> 0.000</td> <td>   -1.011</td> <td>   -0.596</td>\n",
       "</tr>\n",
       "</table>\n",
       "<table class=\"simpletable\">\n",
       "<caption>Roots</caption>\n",
       "<tr>\n",
       "    <td></td>   <th>            Real</th>  <th>         Imaginary</th> <th>         Modulus</th>  <th>        Frequency</th>\n",
       "</tr>\n",
       "<tr>\n",
       "  <th>AR.1</th> <td>          -1.0873</td> <td>          -0.0000j</td> <td>           1.0873</td> <td>          -0.5000</td>\n",
       "</tr>\n",
       "<tr>\n",
       "  <th>AR.2</th> <td>           0.2929</td> <td>          -1.0064j</td> <td>           1.0481</td> <td>          -0.2049</td>\n",
       "</tr>\n",
       "<tr>\n",
       "  <th>AR.3</th> <td>           0.2929</td> <td>          +1.0064j</td> <td>           1.0481</td> <td>           0.2049</td>\n",
       "</tr>\n",
       "<tr>\n",
       "  <th>AR.4</th> <td>           1.0281</td> <td>          -0.0000j</td> <td>           1.0281</td> <td>          -0.0000</td>\n",
       "</tr>\n",
       "<tr>\n",
       "  <th>MA.1</th> <td>          -1.0923</td> <td>          -0.0000j</td> <td>           1.0923</td> <td>          -0.5000</td>\n",
       "</tr>\n",
       "<tr>\n",
       "  <th>MA.2</th> <td>           0.2935</td> <td>          -1.0128j</td> <td>           1.0545</td> <td>          -0.2051</td>\n",
       "</tr>\n",
       "<tr>\n",
       "  <th>MA.3</th> <td>           0.2935</td> <td>          +1.0128j</td> <td>           1.0545</td> <td>           0.2051</td>\n",
       "</tr>\n",
       "<tr>\n",
       "  <th>MA.4</th> <td>           1.0248</td> <td>          -0.0000j</td> <td>           1.0248</td> <td>          -0.0000</td>\n",
       "</tr>\n",
       "</table>"
      ],
      "text/plain": [
       "<class 'statsmodels.iolib.summary.Summary'>\n",
       "\"\"\"\n",
       "                              ARMA Model Results                              \n",
       "==============================================================================\n",
       "Dep. Variable:                      y   No. Observations:                10078\n",
       "Model:                     ARMA(4, 4)   Log Likelihood              -35083.272\n",
       "Method:                       css-mle   S.D. of innovations              7.864\n",
       "Date:                Wed, 04 Sep 2019   AIC                          70186.545\n",
       "Time:                        19:36:51   BIC                          70258.726\n",
       "Sample:                             0   HQIC                         70210.968\n",
       "                                                                              \n",
       "==============================================================================\n",
       "                 coef    std err          z      P>|z|      [0.025      0.975]\n",
       "------------------------------------------------------------------------------\n",
       "const          0.0756      0.069      1.096      0.273      -0.060       0.211\n",
       "ar.L1.y        0.5863      0.123      4.785      0.000       0.346       0.826\n",
       "ar.L2.y       -0.0440      0.129     -0.341      0.733      -0.297       0.209\n",
       "ar.L3.y       -0.4287      0.133     -3.230      0.001      -0.689      -0.169\n",
       "ar.L4.y        0.8143      0.102      7.949      0.000       0.614       1.015\n",
       "ma.L1.y       -0.5882      0.127     -4.628      0.000      -0.837      -0.339\n",
       "ma.L2.y        0.0378      0.133      0.284      0.776      -0.223       0.299\n",
       "ma.L3.y        0.4174      0.138      3.028      0.002       0.147       0.687\n",
       "ma.L4.y       -0.8034      0.106     -7.595      0.000      -1.011      -0.596\n",
       "                                    Roots                                    \n",
       "=============================================================================\n",
       "                  Real          Imaginary           Modulus         Frequency\n",
       "-----------------------------------------------------------------------------\n",
       "AR.1           -1.0873           -0.0000j            1.0873           -0.5000\n",
       "AR.2            0.2929           -1.0064j            1.0481           -0.2049\n",
       "AR.3            0.2929           +1.0064j            1.0481            0.2049\n",
       "AR.4            1.0281           -0.0000j            1.0281           -0.0000\n",
       "MA.1           -1.0923           -0.0000j            1.0923           -0.5000\n",
       "MA.2            0.2935           -1.0128j            1.0545           -0.2051\n",
       "MA.3            0.2935           +1.0128j            1.0545            0.2051\n",
       "MA.4            1.0248           -0.0000j            1.0248           -0.0000\n",
       "-----------------------------------------------------------------------------\n",
       "\"\"\""
      ]
     },
     "execution_count": 37,
     "metadata": {},
     "output_type": "execute_result"
    }
   ],
   "source": [
    "#model = ARIMA(train_data, (1, 0, 1)).fit()\n",
    "model.summary()"
   ]
  },
  {
   "cell_type": "code",
   "execution_count": null,
   "metadata": {},
   "outputs": [],
   "source": []
  }
 ],
 "metadata": {
  "kernelspec": {
   "display_name": "Python 3",
   "language": "python",
   "name": "python3"
  },
  "language_info": {
   "codemirror_mode": {
    "name": "ipython",
    "version": 3
   },
   "file_extension": ".py",
   "mimetype": "text/x-python",
   "name": "python",
   "nbconvert_exporter": "python",
   "pygments_lexer": "ipython3",
   "version": "3.6.7"
  }
 },
 "nbformat": 4,
 "nbformat_minor": 2
}
